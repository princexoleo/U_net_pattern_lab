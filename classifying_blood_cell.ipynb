{
  "nbformat": 4,
  "nbformat_minor": 0,
  "metadata": {
    "colab": {
      "name": "classifying_blood_cell.ipynb",
      "provenance": [],
      "collapsed_sections": [
        "AUabXoj4K7Dp",
        "6IsEk-3wQC7U",
        "gsnroN8gVfrr",
        "x0iPf94tWZb6"
      ],
      "mount_file_id": "1Qgszxay9diQhD4hAwBzFOj8z0YZGXjgE",
      "authorship_tag": "ABX9TyNX7X0WQnubiJvwkFxSVual",
      "include_colab_link": true
    },
    "kernelspec": {
      "name": "python3",
      "display_name": "Python 3"
    },
    "accelerator": "GPU"
  },
  "cells": [
    {
      "cell_type": "markdown",
      "metadata": {
        "id": "view-in-github",
        "colab_type": "text"
      },
      "source": [
        "<a href=\"https://colab.research.google.com/github/princexoleo/u_net_pattern_lab/blob/master/classifying_blood_cell.ipynb\" target=\"_parent\"><img src=\"https://colab.research.google.com/assets/colab-badge.svg\" alt=\"Open In Colab\"/></a>"
      ]
    },
    {
      "cell_type": "markdown",
      "metadata": {
        "id": "w8KB2ObmKkdx",
        "colab_type": "text"
      },
      "source": [
        "# Introduction\n",
        "An important problem in blood diagnostics is classifying different types of blood cells. In this notebook, we will attempt to train a classifier to predict the type of a blood cell given a dyed picture of it."
      ]
    },
    {
      "cell_type": "markdown",
      "metadata": {
        "id": "gfLxDxxDKq3M",
        "colab_type": "text"
      },
      "source": [
        "# Data\n",
        "We have 351 pictures of dyed white blood cells along with labels of what type of blood cell they are. Below is an example of each of the types of blood cells in our dataset."
      ]
    },
    {
      "cell_type": "markdown",
      "metadata": {
        "id": "9UqerpdKKvvD",
        "colab_type": "text"
      },
      "source": [
        "# Methodology\n",
        "We use a simple LeNet architecture trained on 280 training samples with image augmentation. Our augmentation techniques include rotations, shifts, and zooms.\n",
        "\n",
        "We validate our results against 70 samples."
      ]
    },
    {
      "cell_type": "markdown",
      "metadata": {
        "id": "wChVbt7gKz81",
        "colab_type": "text"
      },
      "source": [
        "# Results\n",
        "We obtain an accuracy of 93% on this validation set with the following confusion matrix:"
      ]
    },
    {
      "cell_type": "code",
      "metadata": {
        "id": "B-MXmXJ6KbJO",
        "colab_type": "code",
        "colab": {}
      },
      "source": [
        ""
      ],
      "execution_count": 0,
      "outputs": []
    },
    {
      "cell_type": "markdown",
      "metadata": {
        "id": "AUabXoj4K7Dp",
        "colab_type": "text"
      },
      "source": [
        "# Code"
      ]
    },
    {
      "cell_type": "code",
      "metadata": {
        "id": "Wf3HInQjK8p0",
        "colab_type": "code",
        "colab": {}
      },
      "source": [
        "import numpy as np\n",
        "from keras.models import Sequential\n",
        "from keras.layers import Dense, Dropout, Activation, Flatten\n",
        "from keras.layers import Conv2D, MaxPooling2D, Lambda\n",
        "from keras.layers import Dense\n",
        "from keras.wrappers.scikit_learn import KerasClassifier\n",
        "from keras.utils import np_utils\n",
        "from keras.preprocessing.image import ImageDataGenerator\n",
        "from sklearn.model_selection import cross_val_score\n",
        "from sklearn.model_selection import KFold\n",
        "from sklearn.preprocessing import LabelEncoder\n",
        "from sklearn.pipeline import Pipeline\n",
        "from sklearn.model_selection import train_test_split\n",
        "from sklearn.metrics import roc_curve, auc\n",
        "import csv\n",
        "import cv2\n",
        "import scipy"
      ],
      "execution_count": 0,
      "outputs": []
    },
    {
      "cell_type": "code",
      "metadata": {
        "id": "0C9nfBGTLRwF",
        "colab_type": "code",
        "colab": {}
      },
      "source": [
        "\n",
        "num_classes = 5\n",
        "epochs = 20\n",
        "# BASE_PATH = '/content/drive/My Drive/Colab Notebooks/datasets/dataset2-master/dataset2-master'\n",
        "BASE_PATH = '/content/drive/My Drive/Colab Notebooks/datasets/dataset2-master/dataset2-master/'\n",
        "batch_size = 32"
      ],
      "execution_count": 0,
      "outputs": []
    },
    {
      "cell_type": "markdown",
      "metadata": {
        "id": "2xJBVkzMLtW6",
        "colab_type": "text"
      },
      "source": [
        "##Define Model"
      ]
    },
    {
      "cell_type": "code",
      "metadata": {
        "id": "eh0rd1PGLu02",
        "colab_type": "code",
        "colab": {}
      },
      "source": [
        "def get_model():\n",
        "    model = Sequential()\n",
        "    model.add(Lambda(lambda x: x/127.5 - 1., input_shape=(120, 160, 3), output_shape=(120, 160, 3)))\n",
        "    model.add(Conv2D(32, (3, 3), input_shape=(120, 160, 3)))\n",
        "    model.add(Activation('relu'))\n",
        "    model.add(MaxPooling2D(pool_size=(2, 2)))\n",
        "\n",
        "    model.add(Conv2D(32, (3, 3)))\n",
        "    model.add(Activation('relu'))\n",
        "    model.add(MaxPooling2D(pool_size=(2, 2)))\n",
        "\n",
        "    model.add(Conv2D(64, (3, 3)))\n",
        "    model.add(Activation('relu'))\n",
        "    model.add(MaxPooling2D(pool_size=(2, 2)))\n",
        "\n",
        "    model.add(Flatten())  # this converts our 3D feature maps to 1D feature vectors\n",
        "    model.add(Dense(64))\n",
        "    model.add(Activation('relu'))\n",
        "    model.add(Dropout(0.5))\n",
        "    model.add(Dense(num_classes))\n",
        "    model.add(Activation('softmax'))\n",
        "\n",
        "    model.compile(loss='categorical_crossentropy',\n",
        "                optimizer='rmsprop',\n",
        "                metrics=['accuracy'])\n",
        "\n",
        "    return model"
      ],
      "execution_count": 0,
      "outputs": []
    },
    {
      "cell_type": "code",
      "metadata": {
        "id": "hNqU3siALvnq",
        "colab_type": "code",
        "colab": {}
      },
      "source": [
        "def get_filename_for_index(index):\n",
        "    PREFIX = 'images/BloodImage_'\n",
        "    num_zeros = 5 - len(index)\n",
        "    path = '0' * num_zeros + index\n",
        "    return PREFIX + path + '.jpg'"
      ],
      "execution_count": 0,
      "outputs": []
    },
    {
      "cell_type": "code",
      "metadata": {
        "id": "3TAW3OwDL1LE",
        "colab_type": "code",
        "colab": {}
      },
      "source": [
        "reader = csv.reader(open(BASE_PATH + 'labels.csv'))\n",
        "# skip the header\n",
        "next(reader)\n",
        "\n",
        "X = []\n",
        "y = []\n",
        "\n",
        "for row in reader:\n",
        "    label = row[2]\n",
        "    if len(label) > 0 and label.find(',') == -1:\n",
        "        filename = get_filename_for_index(row[1])\n",
        "        img_file = cv2.imread(BASE_PATH + filename)\n",
        "        if img_file is not None:\n",
        "            img_file = scipy.misc.imresize(arr=img_file, size=(120, 160, 3))\n",
        "            img_arr = np.asarray(img_file)\n",
        "            img_arr = apply_color_mask(img_arr)\n",
        "            X.append(img_arr)\n",
        "            y.append(label)\n",
        "\n",
        "\n",
        "X = np.asarray(X)\n",
        "y = np.asarray(y)\n",
        "\n",
        "encoder = LabelEncoder()\n",
        "encoder.fit(y)\n",
        "encoded_y = encoder.transform(y)\n",
        "\n",
        "#y = np_utils.to_categorical(encoded_y)"
      ],
      "execution_count": 0,
      "outputs": []
    },
    {
      "cell_type": "code",
      "metadata": {
        "id": "0bXNgXZnNp9-",
        "colab_type": "code",
        "colab": {}
      },
      "source": [
        "y = np_utils.to_categorical(encoded_y,4)"
      ],
      "execution_count": 0,
      "outputs": []
    },
    {
      "cell_type": "code",
      "metadata": {
        "id": "VLd4-nOnPgaL",
        "colab_type": "code",
        "outputId": "60dfed3f-4f58-4719-8c0b-86ade1c111aa",
        "colab": {
          "base_uri": "https://localhost:8080/",
          "height": 34
        }
      },
      "source": [
        "X[:2]"
      ],
      "execution_count": 0,
      "outputs": [
        {
          "output_type": "execute_result",
          "data": {
            "text/plain": [
              "array([], dtype=float64)"
            ]
          },
          "metadata": {
            "tags": []
          },
          "execution_count": 22
        }
      ]
    },
    {
      "cell_type": "code",
      "metadata": {
        "id": "adTlXzdZNwSr",
        "colab_type": "code",
        "outputId": "bbd121cc-3488-4f6d-b2d5-b398fe9bb95f",
        "colab": {
          "base_uri": "https://localhost:8080/",
          "height": 306
        }
      },
      "source": [
        "X_train, X_test, y_train, y_test = train_test_split(X, y, test_size=0.2, random_state=10)"
      ],
      "execution_count": 0,
      "outputs": [
        {
          "output_type": "error",
          "ename": "ValueError",
          "evalue": "ignored",
          "traceback": [
            "\u001b[0;31m---------------------------------------------------------------------------\u001b[0m",
            "\u001b[0;31mValueError\u001b[0m                                Traceback (most recent call last)",
            "\u001b[0;32m<ipython-input-19-a3c651f49a7f>\u001b[0m in \u001b[0;36m<module>\u001b[0;34m()\u001b[0m\n\u001b[0;32m----> 1\u001b[0;31m \u001b[0mX_train\u001b[0m\u001b[0;34m,\u001b[0m \u001b[0mX_test\u001b[0m\u001b[0;34m,\u001b[0m \u001b[0my_train\u001b[0m\u001b[0;34m,\u001b[0m \u001b[0my_test\u001b[0m \u001b[0;34m=\u001b[0m \u001b[0mtrain_test_split\u001b[0m\u001b[0;34m(\u001b[0m\u001b[0mX\u001b[0m\u001b[0;34m,\u001b[0m \u001b[0my\u001b[0m\u001b[0;34m,\u001b[0m \u001b[0mtest_size\u001b[0m\u001b[0;34m=\u001b[0m\u001b[0;36m0.2\u001b[0m\u001b[0;34m,\u001b[0m \u001b[0mrandom_state\u001b[0m\u001b[0;34m=\u001b[0m\u001b[0;36m10\u001b[0m\u001b[0;34m)\u001b[0m\u001b[0;34m\u001b[0m\u001b[0;34m\u001b[0m\u001b[0m\n\u001b[0m",
            "\u001b[0;32m/usr/local/lib/python3.6/dist-packages/sklearn/model_selection/_split.py\u001b[0m in \u001b[0;36mtrain_test_split\u001b[0;34m(*arrays, **options)\u001b[0m\n\u001b[1;32m   2120\u001b[0m     \u001b[0mn_samples\u001b[0m \u001b[0;34m=\u001b[0m \u001b[0m_num_samples\u001b[0m\u001b[0;34m(\u001b[0m\u001b[0marrays\u001b[0m\u001b[0;34m[\u001b[0m\u001b[0;36m0\u001b[0m\u001b[0;34m]\u001b[0m\u001b[0;34m)\u001b[0m\u001b[0;34m\u001b[0m\u001b[0;34m\u001b[0m\u001b[0m\n\u001b[1;32m   2121\u001b[0m     n_train, n_test = _validate_shuffle_split(n_samples, test_size, train_size,\n\u001b[0;32m-> 2122\u001b[0;31m                                               default_test_size=0.25)\n\u001b[0m\u001b[1;32m   2123\u001b[0m \u001b[0;34m\u001b[0m\u001b[0m\n\u001b[1;32m   2124\u001b[0m     \u001b[0;32mif\u001b[0m \u001b[0mshuffle\u001b[0m \u001b[0;32mis\u001b[0m \u001b[0;32mFalse\u001b[0m\u001b[0;34m:\u001b[0m\u001b[0;34m\u001b[0m\u001b[0;34m\u001b[0m\u001b[0m\n",
            "\u001b[0;32m/usr/local/lib/python3.6/dist-packages/sklearn/model_selection/_split.py\u001b[0m in \u001b[0;36m_validate_shuffle_split\u001b[0;34m(n_samples, test_size, train_size, default_test_size)\u001b[0m\n\u001b[1;32m   1803\u001b[0m             \u001b[0;34m'resulting train set will be empty. Adjust any of the '\u001b[0m\u001b[0;34m\u001b[0m\u001b[0;34m\u001b[0m\u001b[0m\n\u001b[1;32m   1804\u001b[0m             'aforementioned parameters.'.format(n_samples, test_size,\n\u001b[0;32m-> 1805\u001b[0;31m                                                 train_size)\n\u001b[0m\u001b[1;32m   1806\u001b[0m         )\n\u001b[1;32m   1807\u001b[0m \u001b[0;34m\u001b[0m\u001b[0m\n",
            "\u001b[0;31mValueError\u001b[0m: With n_samples=0, test_size=0.2 and train_size=None, the resulting train set will be empty. Adjust any of the aforementioned parameters."
          ]
        }
      ]
    },
    {
      "cell_type": "code",
      "metadata": {
        "id": "-K00YVvUPTZX",
        "colab_type": "code",
        "colab": {}
      },
      "source": [
        "datagen = ImageDataGenerator(\n",
        "    rotation_range=20,\n",
        "    width_shift_range=0.2,\n",
        "    height_shift_range=0.2,\n",
        "    horizontal_flip=True)"
      ],
      "execution_count": 0,
      "outputs": []
    },
    {
      "cell_type": "code",
      "metadata": {
        "id": "GDZM3QNSPzJw",
        "colab_type": "code",
        "outputId": "43574b5c-cc6d-4557-e77e-0a15ed32a062",
        "colab": {
          "base_uri": "https://localhost:8080/",
          "height": 231
        }
      },
      "source": [
        "train_generator = datagen.flow(\n",
        "        X_train,\n",
        "        y_train,\n",
        "        batch_size=batch_size)\n",
        "\n",
        "validation_generator = datagen.flow(\n",
        "        X_test,\n",
        "        y_test,\n",
        "        batch_size=batch_size)"
      ],
      "execution_count": 0,
      "outputs": [
        {
          "output_type": "error",
          "ename": "NameError",
          "evalue": "ignored",
          "traceback": [
            "\u001b[0;31m---------------------------------------------------------------------------\u001b[0m",
            "\u001b[0;31mNameError\u001b[0m                                 Traceback (most recent call last)",
            "\u001b[0;32m<ipython-input-24-7d4305013db7>\u001b[0m in \u001b[0;36m<module>\u001b[0;34m()\u001b[0m\n\u001b[1;32m      1\u001b[0m train_generator = datagen.flow(\n\u001b[0;32m----> 2\u001b[0;31m         \u001b[0mX_train\u001b[0m\u001b[0;34m,\u001b[0m\u001b[0;34m\u001b[0m\u001b[0;34m\u001b[0m\u001b[0m\n\u001b[0m\u001b[1;32m      3\u001b[0m         \u001b[0my_train\u001b[0m\u001b[0;34m,\u001b[0m\u001b[0;34m\u001b[0m\u001b[0;34m\u001b[0m\u001b[0m\n\u001b[1;32m      4\u001b[0m         batch_size=batch_size)\n\u001b[1;32m      5\u001b[0m \u001b[0;34m\u001b[0m\u001b[0m\n",
            "\u001b[0;31mNameError\u001b[0m: name 'X_train' is not defined"
          ]
        }
      ]
    },
    {
      "cell_type": "code",
      "metadata": {
        "id": "CaGUap44P6ke",
        "colab_type": "code",
        "colab": {}
      },
      "source": [
        "model = get_model()\n",
        "\n",
        "# fits the model on batches with real-time data augmentation:\n",
        "model.fit_generator(\n",
        "    train_generator,\n",
        "    steps_per_epoch=len(X_train),\n",
        "    validation_data=validation_generator,\n",
        "    validation_steps=len(X_test),\n",
        "    epochs=epochs)\n",
        "model.save_weights('mask_1.h5')  # always save your weights after training or during training"
      ],
      "execution_count": 0,
      "outputs": []
    },
    {
      "cell_type": "markdown",
      "metadata": {
        "id": "6IsEk-3wQC7U",
        "colab_type": "text"
      },
      "source": [
        "# Load Model"
      ]
    },
    {
      "cell_type": "code",
      "metadata": {
        "id": "SYPPOb_0QERf",
        "colab_type": "code",
        "colab": {}
      },
      "source": [
        "model = get_model()\n",
        "model.load_weights('first_try.h5')"
      ],
      "execution_count": 0,
      "outputs": []
    },
    {
      "cell_type": "code",
      "metadata": {
        "id": "hzRhose3QL-3",
        "colab_type": "code",
        "colab": {}
      },
      "source": [
        "print('Predicting on test data')\n",
        "y_pred = np.rint(model.predict(X_test))"
      ],
      "execution_count": 0,
      "outputs": []
    },
    {
      "cell_type": "code",
      "metadata": {
        "id": "4hm1xUThQOmZ",
        "colab_type": "code",
        "colab": {}
      },
      "source": [
        "from sklearn.metrics import accuracy_score\n",
        "\n",
        "print(accuracy_score(y_test, y_pred))"
      ],
      "execution_count": 0,
      "outputs": []
    },
    {
      "cell_type": "code",
      "metadata": {
        "id": "-amto6vdQRta",
        "colab_type": "code",
        "colab": {}
      },
      "source": [
        "from sklearn.metrics import confusion_matrix\n",
        "\n",
        "y_pred_unencoded = np.argmax(y_pred, axis=1)\n",
        "y_test_unencoded = np.argmax(y_test, axis=1)\n",
        "\n",
        "print(confusion_matrix(y_test_unencoded, y_pred_unencoded))"
      ],
      "execution_count": 0,
      "outputs": []
    },
    {
      "cell_type": "markdown",
      "metadata": {
        "id": "Zm8971oUSR5Z",
        "colab_type": "text"
      },
      "source": [
        "#Kaggle BCCD with Classification\n"
      ]
    },
    {
      "cell_type": "markdown",
      "metadata": {
        "id": "He3v9Dm7SXOv",
        "colab_type": "text"
      },
      "source": [
        "##Kaggle cli load\n"
      ]
    },
    {
      "cell_type": "code",
      "metadata": {
        "id": "efpu1GmASWQg",
        "colab_type": "code",
        "colab": {}
      },
      "source": [
        "!mkdir .kaggle"
      ],
      "execution_count": 0,
      "outputs": []
    },
    {
      "cell_type": "code",
      "metadata": {
        "id": "dG8fysAtSeWc",
        "colab_type": "code",
        "outputId": "27255f06-c8a6-4154-dcc7-bef883ec5803",
        "colab": {
          "base_uri": "https://localhost:8080/",
          "height": 204
        }
      },
      "source": [
        "!pip install kaggle"
      ],
      "execution_count": 0,
      "outputs": [
        {
          "output_type": "stream",
          "text": [
            "Requirement already satisfied: kaggle in /usr/local/lib/python3.6/dist-packages (1.5.6)\n",
            "Requirement already satisfied: certifi in /usr/local/lib/python3.6/dist-packages (from kaggle) (2019.11.28)\n",
            "Requirement already satisfied: six>=1.10 in /usr/local/lib/python3.6/dist-packages (from kaggle) (1.12.0)\n",
            "Requirement already satisfied: urllib3<1.25,>=1.21.1 in /usr/local/lib/python3.6/dist-packages (from kaggle) (1.24.3)\n",
            "Requirement already satisfied: python-dateutil in /usr/local/lib/python3.6/dist-packages (from kaggle) (2.6.1)\n",
            "Requirement already satisfied: tqdm in /usr/local/lib/python3.6/dist-packages (from kaggle) (4.28.1)\n",
            "Requirement already satisfied: python-slugify in /usr/local/lib/python3.6/dist-packages (from kaggle) (4.0.0)\n",
            "Requirement already satisfied: requests in /usr/local/lib/python3.6/dist-packages (from kaggle) (2.21.0)\n",
            "Requirement already satisfied: text-unidecode>=1.3 in /usr/local/lib/python3.6/dist-packages (from python-slugify->kaggle) (1.3)\n",
            "Requirement already satisfied: chardet<3.1.0,>=3.0.2 in /usr/local/lib/python3.6/dist-packages (from requests->kaggle) (3.0.4)\n",
            "Requirement already satisfied: idna<2.9,>=2.5 in /usr/local/lib/python3.6/dist-packages (from requests->kaggle) (2.8)\n"
          ],
          "name": "stdout"
        }
      ]
    },
    {
      "cell_type": "code",
      "metadata": {
        "id": "9_MQi-37StfZ",
        "colab_type": "code",
        "outputId": "efaacd0f-eb32-418a-e68f-8a8b06a8e611",
        "colab": {
          "base_uri": "https://localhost:8080/",
          "height": 34
        }
      },
      "source": [
        "!ls"
      ],
      "execution_count": 0,
      "outputs": [
        {
          "output_type": "stream",
          "text": [
            "drive  sample_data\n"
          ],
          "name": "stdout"
        }
      ]
    },
    {
      "cell_type": "markdown",
      "metadata": {
        "id": "zaxFTpG3StAQ",
        "colab_type": "text"
      },
      "source": [
        ""
      ]
    },
    {
      "cell_type": "code",
      "metadata": {
        "id": "kjTSzM8cSh0l",
        "colab_type": "code",
        "outputId": "df1d31ca-b343-4055-bf70-858d3f18b69b",
        "colab": {
          "base_uri": "https://localhost:8080/",
          "height": 153
        }
      },
      "source": [
        "!kaggle datasets download -/content/drive/My Drive/Colab Notebooks/datasets paulthimothymooney/blood-cells"
      ],
      "execution_count": 0,
      "outputs": [
        {
          "output_type": "stream",
          "text": [
            "Traceback (most recent call last):\n",
            "  File \"/usr/local/bin/kaggle\", line 5, in <module>\n",
            "    from kaggle.cli import main\n",
            "  File \"/usr/local/lib/python2.7/dist-packages/kaggle/__init__.py\", line 23, in <module>\n",
            "    api.authenticate()\n",
            "  File \"/usr/local/lib/python2.7/dist-packages/kaggle/api/kaggle_api_extended.py\", line 146, in authenticate\n",
            "    self.config_file, self.config_dir))\n",
            "IOError: Could not find kaggle.json. Make sure it's located in /root/.kaggle. Or use the environment method.\n"
          ],
          "name": "stdout"
        }
      ]
    },
    {
      "cell_type": "code",
      "metadata": {
        "id": "KVIdEZ6iSnWy",
        "colab_type": "code",
        "colab": {}
      },
      "source": [
        "from keras.models import Sequential\n",
        "from keras.layers import Dense, Conv2D, Dropout, MaxPool2D, Flatten\n",
        "from keras.preprocessing import image"
      ],
      "execution_count": 0,
      "outputs": []
    },
    {
      "cell_type": "code",
      "metadata": {
        "id": "KQX8talaYMyE",
        "colab_type": "code",
        "colab": {}
      },
      "source": [
        "generator = image.ImageDataGenerator(\n",
        "        rescale = 1./255,\n",
        "        featurewise_center=False,  # set input mean to 0 over the dataset\n",
        "        samplewise_center=False,  # set each sample mean to 0\n",
        "        featurewise_std_normalization=False,  # divide inputs by std of the dataset\n",
        "        samplewise_std_normalization=False,  # divide each input by its std\n",
        "        zca_whitening=False,  # apply ZCA whitening\n",
        "        rotation_range=10,  # randomly rotate images in the range (degrees, 0 to 180)\n",
        "        width_shift_range=0.1,  # randomly shift images horizontally (fraction of total width)\n",
        "        height_shift_range=0.1,  # randomly shift images vertically (fraction of total height)\n",
        "        horizontal_flip=True,  # randomly flip images\n",
        "        vertical_flip=False)"
      ],
      "execution_count": 0,
      "outputs": []
    },
    {
      "cell_type": "markdown",
      "metadata": {
        "id": "q7J7Bm-dZceF",
        "colab_type": "text"
      },
      "source": [
        "##Train Image Read and augmented"
      ]
    },
    {
      "cell_type": "code",
      "metadata": {
        "id": "uomH9bG9YZD8",
        "colab_type": "code",
        "outputId": "dbf67a6a-d6de-4382-965d-33f6c6b090e3",
        "colab": {
          "base_uri": "https://localhost:8080/",
          "height": 36
        }
      },
      "source": [
        "BASE_PATH='/content/drive/My Drive/Colab Notebooks/datasets/dataset2-master/dataset2-master'\n",
        "\n",
        "dataset = generator.flow_from_directory(\n",
        "    shuffle = True,\n",
        "    batch_size = 32,\n",
        "    target_size = (80, 80),\n",
        "    directory = '/content/drive/My Drive/Colab Notebooks/datasets/dataset2-master/dataset2-master/images/TRAIN'\n",
        "    )"
      ],
      "execution_count": 0,
      "outputs": [
        {
          "output_type": "stream",
          "text": [
            "Found 9957 images belonging to 4 classes.\n"
          ],
          "name": "stdout"
        }
      ]
    },
    {
      "cell_type": "markdown",
      "metadata": {
        "id": "XDhGWbVDZqjP",
        "colab_type": "text"
      },
      "source": [
        "##CNN Model"
      ]
    },
    {
      "cell_type": "code",
      "metadata": {
        "id": "smhtyNe1ZqJz",
        "colab_type": "code",
        "colab": {}
      },
      "source": [
        "def model():\n",
        "  model = Sequential()\n",
        "  model.add(Conv2D(80, (3,3), strides = (1, 1), activation = 'relu'))\n",
        "  model.add(Conv2D(64, (3,3), strides = (1, 1), activation = 'relu', input_shape = (80, 80, 3)))\n",
        "  model.add(MaxPool2D(pool_size = (2,2)))\n",
        "  model.add(Conv2D(64, (3,3), strides = (1,1), activation = 'relu'))\n",
        "  model.add(Dropout(0.25))\n",
        "  model.add(Flatten())\n",
        "\n",
        "  model.add(Dense(128, activation = 'relu'))\n",
        "  model.add(Dropout(0.5))\n",
        "  model.add(Dense(4, activation = 'softmax'))\n",
        "\n",
        "  model.compile(loss = 'categorical_crossentropy', optimizer = 'adadelta', metrics = ['accuracy'])\n",
        "    \n",
        "  return model"
      ],
      "execution_count": 0,
      "outputs": []
    },
    {
      "cell_type": "markdown",
      "metadata": {
        "id": "8FS3gUKrZv8H",
        "colab_type": "text"
      },
      "source": [
        "##Trainig Model"
      ]
    },
    {
      "cell_type": "code",
      "metadata": {
        "id": "pBsFfU_BbdU5",
        "colab_type": "code",
        "outputId": "43dc66f2-9eb9-4592-d523-2764a6aff8ff",
        "colab": {
          "base_uri": "https://localhost:8080/",
          "height": 343
        }
      },
      "source": [
        "nn = model()\n",
        "print(nn.summary())"
      ],
      "execution_count": 0,
      "outputs": [
        {
          "output_type": "error",
          "ename": "ValueError",
          "evalue": "ignored",
          "traceback": [
            "\u001b[0;31m---------------------------------------------------------------------------\u001b[0m",
            "\u001b[0;31mValueError\u001b[0m                                Traceback (most recent call last)",
            "\u001b[0;32m<ipython-input-9-7493aa33a9fb>\u001b[0m in \u001b[0;36m<module>\u001b[0;34m()\u001b[0m\n\u001b[1;32m      1\u001b[0m \u001b[0mnn\u001b[0m \u001b[0;34m=\u001b[0m \u001b[0mmodel\u001b[0m\u001b[0;34m(\u001b[0m\u001b[0;34m)\u001b[0m\u001b[0;34m\u001b[0m\u001b[0;34m\u001b[0m\u001b[0m\n\u001b[0;32m----> 2\u001b[0;31m \u001b[0mprint\u001b[0m\u001b[0;34m(\u001b[0m\u001b[0mnn\u001b[0m\u001b[0;34m.\u001b[0m\u001b[0msummary\u001b[0m\u001b[0;34m(\u001b[0m\u001b[0;34m)\u001b[0m\u001b[0;34m)\u001b[0m\u001b[0;34m\u001b[0m\u001b[0;34m\u001b[0m\u001b[0m\n\u001b[0m",
            "\u001b[0;32m/usr/local/lib/python3.6/dist-packages/keras/engine/network.py\u001b[0m in \u001b[0;36msummary\u001b[0;34m(self, line_length, positions, print_fn)\u001b[0m\n\u001b[1;32m   1305\u001b[0m         \u001b[0;32mif\u001b[0m \u001b[0;32mnot\u001b[0m \u001b[0mself\u001b[0m\u001b[0;34m.\u001b[0m\u001b[0mbuilt\u001b[0m\u001b[0;34m:\u001b[0m\u001b[0;34m\u001b[0m\u001b[0;34m\u001b[0m\u001b[0m\n\u001b[1;32m   1306\u001b[0m             raise ValueError(\n\u001b[0;32m-> 1307\u001b[0;31m                 \u001b[0;34m'This model has not yet been built. '\u001b[0m\u001b[0;34m\u001b[0m\u001b[0;34m\u001b[0m\u001b[0m\n\u001b[0m\u001b[1;32m   1308\u001b[0m                 \u001b[0;34m'Build the model first by calling build() '\u001b[0m\u001b[0;34m\u001b[0m\u001b[0;34m\u001b[0m\u001b[0m\n\u001b[1;32m   1309\u001b[0m                 \u001b[0;34m'or calling fit() with some data. '\u001b[0m\u001b[0;34m\u001b[0m\u001b[0;34m\u001b[0m\u001b[0m\n",
            "\u001b[0;31mValueError\u001b[0m: This model has not yet been built. Build the model first by calling build() or calling fit() with some data. Or specify input_shape or batch_input_shape in the first layer for automatic build. "
          ]
        }
      ]
    },
    {
      "cell_type": "code",
      "metadata": {
        "id": "PMRqaeMaZxt7",
        "colab_type": "code",
        "outputId": "fe9910fe-e544-4dad-863c-c86500e88f70",
        "colab": {
          "base_uri": "https://localhost:8080/",
          "height": 366
        }
      },
      "source": [
        "\n",
        "nn.fit_generator(dataset, steps_per_epoch = None, epochs = 30, verbose = 1)\n",
        "nn.save('Model.h5')"
      ],
      "execution_count": 0,
      "outputs": [
        {
          "output_type": "error",
          "ename": "RuntimeError",
          "evalue": "ignored",
          "traceback": [
            "\u001b[0;31m---------------------------------------------------------------------------\u001b[0m",
            "\u001b[0;31mRuntimeError\u001b[0m                              Traceback (most recent call last)",
            "\u001b[0;32m<ipython-input-8-135da02a7e33>\u001b[0m in \u001b[0;36m<module>\u001b[0;34m()\u001b[0m\n\u001b[1;32m      1\u001b[0m \u001b[0;34m\u001b[0m\u001b[0m\n\u001b[0;32m----> 2\u001b[0;31m \u001b[0mnn\u001b[0m\u001b[0;34m.\u001b[0m\u001b[0mfit_generator\u001b[0m\u001b[0;34m(\u001b[0m\u001b[0mdataset\u001b[0m\u001b[0;34m,\u001b[0m \u001b[0msteps_per_epoch\u001b[0m \u001b[0;34m=\u001b[0m \u001b[0;32mNone\u001b[0m\u001b[0;34m,\u001b[0m \u001b[0mepochs\u001b[0m \u001b[0;34m=\u001b[0m \u001b[0;36m30\u001b[0m\u001b[0;34m,\u001b[0m \u001b[0mverbose\u001b[0m \u001b[0;34m=\u001b[0m \u001b[0;36m1\u001b[0m\u001b[0;34m)\u001b[0m\u001b[0;34m\u001b[0m\u001b[0;34m\u001b[0m\u001b[0m\n\u001b[0m\u001b[1;32m      3\u001b[0m \u001b[0mnn\u001b[0m\u001b[0;34m.\u001b[0m\u001b[0msave\u001b[0m\u001b[0;34m(\u001b[0m\u001b[0;34m'Model.h5'\u001b[0m\u001b[0;34m)\u001b[0m\u001b[0;34m\u001b[0m\u001b[0;34m\u001b[0m\u001b[0m\n",
            "\u001b[0;32m/usr/local/lib/python3.6/dist-packages/keras/legacy/interfaces.py\u001b[0m in \u001b[0;36mwrapper\u001b[0;34m(*args, **kwargs)\u001b[0m\n\u001b[1;32m     89\u001b[0m                 warnings.warn('Update your `' + object_name + '` call to the ' +\n\u001b[1;32m     90\u001b[0m                               'Keras 2 API: ' + signature, stacklevel=2)\n\u001b[0;32m---> 91\u001b[0;31m             \u001b[0;32mreturn\u001b[0m \u001b[0mfunc\u001b[0m\u001b[0;34m(\u001b[0m\u001b[0;34m*\u001b[0m\u001b[0margs\u001b[0m\u001b[0;34m,\u001b[0m \u001b[0;34m**\u001b[0m\u001b[0mkwargs\u001b[0m\u001b[0;34m)\u001b[0m\u001b[0;34m\u001b[0m\u001b[0;34m\u001b[0m\u001b[0m\n\u001b[0m\u001b[1;32m     92\u001b[0m         \u001b[0mwrapper\u001b[0m\u001b[0;34m.\u001b[0m\u001b[0m_original_function\u001b[0m \u001b[0;34m=\u001b[0m \u001b[0mfunc\u001b[0m\u001b[0;34m\u001b[0m\u001b[0;34m\u001b[0m\u001b[0m\n\u001b[1;32m     93\u001b[0m         \u001b[0;32mreturn\u001b[0m \u001b[0mwrapper\u001b[0m\u001b[0;34m\u001b[0m\u001b[0;34m\u001b[0m\u001b[0m\n",
            "\u001b[0;32m/usr/local/lib/python3.6/dist-packages/keras/engine/training.py\u001b[0m in \u001b[0;36mfit_generator\u001b[0;34m(self, generator, steps_per_epoch, epochs, verbose, callbacks, validation_data, validation_steps, validation_freq, class_weight, max_queue_size, workers, use_multiprocessing, shuffle, initial_epoch)\u001b[0m\n\u001b[1;32m   1656\u001b[0m             \u001b[0muse_multiprocessing\u001b[0m\u001b[0;34m=\u001b[0m\u001b[0muse_multiprocessing\u001b[0m\u001b[0;34m,\u001b[0m\u001b[0;34m\u001b[0m\u001b[0;34m\u001b[0m\u001b[0m\n\u001b[1;32m   1657\u001b[0m             \u001b[0mshuffle\u001b[0m\u001b[0;34m=\u001b[0m\u001b[0mshuffle\u001b[0m\u001b[0;34m,\u001b[0m\u001b[0;34m\u001b[0m\u001b[0;34m\u001b[0m\u001b[0m\n\u001b[0;32m-> 1658\u001b[0;31m             initial_epoch=initial_epoch)\n\u001b[0m\u001b[1;32m   1659\u001b[0m \u001b[0;34m\u001b[0m\u001b[0m\n\u001b[1;32m   1660\u001b[0m     \u001b[0;34m@\u001b[0m\u001b[0minterfaces\u001b[0m\u001b[0;34m.\u001b[0m\u001b[0mlegacy_generator_methods_support\u001b[0m\u001b[0;34m\u001b[0m\u001b[0;34m\u001b[0m\u001b[0m\n",
            "\u001b[0;32m/usr/local/lib/python3.6/dist-packages/keras/engine/training_generator.py\u001b[0m in \u001b[0;36mfit_generator\u001b[0;34m(model, generator, steps_per_epoch, epochs, verbose, callbacks, validation_data, validation_steps, validation_freq, class_weight, max_queue_size, workers, use_multiprocessing, shuffle, initial_epoch)\u001b[0m\n\u001b[1;32m     40\u001b[0m \u001b[0;34m\u001b[0m\u001b[0m\n\u001b[1;32m     41\u001b[0m     \u001b[0mdo_validation\u001b[0m \u001b[0;34m=\u001b[0m \u001b[0mbool\u001b[0m\u001b[0;34m(\u001b[0m\u001b[0mvalidation_data\u001b[0m\u001b[0;34m)\u001b[0m\u001b[0;34m\u001b[0m\u001b[0;34m\u001b[0m\u001b[0m\n\u001b[0;32m---> 42\u001b[0;31m     \u001b[0mmodel\u001b[0m\u001b[0;34m.\u001b[0m\u001b[0m_make_train_function\u001b[0m\u001b[0;34m(\u001b[0m\u001b[0;34m)\u001b[0m\u001b[0;34m\u001b[0m\u001b[0;34m\u001b[0m\u001b[0m\n\u001b[0m\u001b[1;32m     43\u001b[0m     \u001b[0;32mif\u001b[0m \u001b[0mdo_validation\u001b[0m\u001b[0;34m:\u001b[0m\u001b[0;34m\u001b[0m\u001b[0;34m\u001b[0m\u001b[0m\n\u001b[1;32m     44\u001b[0m         \u001b[0mmodel\u001b[0m\u001b[0;34m.\u001b[0m\u001b[0m_make_test_function\u001b[0m\u001b[0;34m(\u001b[0m\u001b[0;34m)\u001b[0m\u001b[0;34m\u001b[0m\u001b[0;34m\u001b[0m\u001b[0m\n",
            "\u001b[0;32m/usr/local/lib/python3.6/dist-packages/keras/engine/training.py\u001b[0m in \u001b[0;36m_make_train_function\u001b[0;34m(self)\u001b[0m\n\u001b[1;32m    497\u001b[0m     \u001b[0;32mdef\u001b[0m \u001b[0m_make_train_function\u001b[0m\u001b[0;34m(\u001b[0m\u001b[0mself\u001b[0m\u001b[0;34m)\u001b[0m\u001b[0;34m:\u001b[0m\u001b[0;34m\u001b[0m\u001b[0;34m\u001b[0m\u001b[0m\n\u001b[1;32m    498\u001b[0m         \u001b[0;32mif\u001b[0m \u001b[0;32mnot\u001b[0m \u001b[0mhasattr\u001b[0m\u001b[0;34m(\u001b[0m\u001b[0mself\u001b[0m\u001b[0;34m,\u001b[0m \u001b[0;34m'train_function'\u001b[0m\u001b[0;34m)\u001b[0m\u001b[0;34m:\u001b[0m\u001b[0;34m\u001b[0m\u001b[0;34m\u001b[0m\u001b[0m\n\u001b[0;32m--> 499\u001b[0;31m             \u001b[0;32mraise\u001b[0m \u001b[0mRuntimeError\u001b[0m\u001b[0;34m(\u001b[0m\u001b[0;34m'You must compile your model before using it.'\u001b[0m\u001b[0;34m)\u001b[0m\u001b[0;34m\u001b[0m\u001b[0;34m\u001b[0m\u001b[0m\n\u001b[0m\u001b[1;32m    500\u001b[0m         \u001b[0mself\u001b[0m\u001b[0;34m.\u001b[0m\u001b[0m_check_trainable_weights_consistency\u001b[0m\u001b[0;34m(\u001b[0m\u001b[0;34m)\u001b[0m\u001b[0;34m\u001b[0m\u001b[0;34m\u001b[0m\u001b[0m\n\u001b[1;32m    501\u001b[0m         \u001b[0;32mif\u001b[0m \u001b[0mself\u001b[0m\u001b[0;34m.\u001b[0m\u001b[0mtrain_function\u001b[0m \u001b[0;32mis\u001b[0m \u001b[0;32mNone\u001b[0m\u001b[0;34m:\u001b[0m\u001b[0;34m\u001b[0m\u001b[0;34m\u001b[0m\u001b[0m\n",
            "\u001b[0;31mRuntimeError\u001b[0m: You must compile your model before using it."
          ]
        }
      ]
    },
    {
      "cell_type": "markdown",
      "metadata": {
        "id": "kjLZi81RUN3E",
        "colab_type": "text"
      },
      "source": [
        "#Blood Cell Classification with Pytorch"
      ]
    },
    {
      "cell_type": "markdown",
      "metadata": {
        "id": "gsnroN8gVfrr",
        "colab_type": "text"
      },
      "source": [
        "## Import Libraries"
      ]
    },
    {
      "cell_type": "code",
      "metadata": {
        "id": "FdEUUYFdUT2-",
        "colab_type": "code",
        "colab": {}
      },
      "source": [
        "import math\n",
        "import torch\n",
        "import torch.nn as nn\n",
        "import torch.nn.functional as F\n",
        "\n",
        "from torch.utils.data import Dataset, DataLoader\n",
        "import torchvision\n",
        "import torchvision.transforms as transforms\n",
        "import os\n",
        "import torch.optim as optim\n",
        "import torch.backends.cudnn as cudnn\n",
        "from torch.autograd.variable import Variable\n",
        "import pandas as pd\n",
        "import cv2"
      ],
      "execution_count": 0,
      "outputs": []
    },
    {
      "cell_type": "code",
      "metadata": {
        "id": "mz43e5-wUZ-v",
        "colab_type": "code",
        "outputId": "5ef8e681-9d45-408a-cba4-c115b4c63eed",
        "colab": {
          "base_uri": "https://localhost:8080/",
          "height": 85
        }
      },
      "source": [
        "%matplotlib inline\n",
        "%pylab inline"
      ],
      "execution_count": 0,
      "outputs": [
        {
          "output_type": "stream",
          "text": [
            "Populating the interactive namespace from numpy and matplotlib\n"
          ],
          "name": "stdout"
        },
        {
          "output_type": "stream",
          "text": [
            "/usr/local/lib/python3.6/dist-packages/IPython/core/magics/pylab.py:161: UserWarning: pylab import has clobbered these variables: ['test', 'std', 'mean']\n",
            "`%matplotlib` prevents importing * from pylab and numpy\n",
            "  \"\\n`%matplotlib` prevents importing * from pylab and numpy\"\n"
          ],
          "name": "stderr"
        }
      ]
    },
    {
      "cell_type": "code",
      "metadata": {
        "id": "t6mDFnG7VM0P",
        "colab_type": "code",
        "colab": {}
      },
      "source": [
        "def pplus(*things):\n",
        "    sentence = \"\"\n",
        "    for i in things:\n",
        "        if not isinstance(i, str):\n",
        "            i  =  str(i)\n",
        "        sentence += \" \" +i\n",
        "    print('------------------------------------')\n",
        "    print(sentence)\n",
        "    print('------------------------------------')"
      ],
      "execution_count": 0,
      "outputs": []
    },
    {
      "cell_type": "markdown",
      "metadata": {
        "id": "LVLpYPebVb-G",
        "colab_type": "text"
      },
      "source": [
        "## Path of the datasets"
      ]
    },
    {
      "cell_type": "code",
      "metadata": {
        "id": "iOmJF-rMVRVV",
        "colab_type": "code",
        "colab": {}
      },
      "source": [
        "DIR = \"/content/drive/My Drive/Colab Notebooks/datasets/dataset2-master/dataset2-master/images/\"\n",
        "TEST = \"/content/drive/My Drive/Colab Notebooks/datasets/dataset2-master/dataset2-master/images/TEST/\"\n",
        "TRAIN = \"/content/drive/My Drive/Colab Notebooks/datasets/dataset2-master/dataset2-master/images/TRAIN/\""
      ],
      "execution_count": 0,
      "outputs": []
    },
    {
      "cell_type": "code",
      "metadata": {
        "id": "OmGF5W6vVsyB",
        "colab_type": "code",
        "colab": {}
      },
      "source": [
        "batch_size = 96\n",
        "test_size = 48\n",
        "lr = 0.0002"
      ],
      "execution_count": 0,
      "outputs": []
    },
    {
      "cell_type": "code",
      "metadata": {
        "id": "DYNzCJEuVnPB",
        "colab_type": "code",
        "outputId": "341d528c-769c-4610-af45-99403d8897fb",
        "colab": {
          "base_uri": "https://localhost:8080/",
          "height": 408
        }
      },
      "source": [
        "pplus(\"Top dir:\", os.listdir(\"/content/drive/My Drive/Colab Notebooks/datasets/dataset2-master/dataset2-master\"))\n",
        "pplus(\"dataset2 dir:\", os.listdir(DIR))\n",
        "pplus(\"TEST_SIMPLE:\", os.listdir(DIR+\"TEST_SIMPLE\"))\n",
        "pplus('samples in one TS dir:', len(os.listdir(DIR+\"TEST_SIMPLE/MONOCYTE\")))\n",
        "pplus('samples in another TS dir:', len(os.listdir(DIR+\"TEST_SIMPLE/EOSINOPHIL\")))\n",
        "print('Looks like Class imbalance, Plot a histogram to get proper estimate')\n",
        "pplus(len(os.listdir(TEST+\"MONOCYTE\")))\n",
        "pplus(len(os.listdir(TEST+\"EOSINOPHIL\")))\n",
        "print('Looks like augmented set doesnot have any imbalance')"
      ],
      "execution_count": 0,
      "outputs": [
        {
          "output_type": "stream",
          "text": [
            "------------------------------------\n",
            " Top dir: ['images', 'labels.csv']\n",
            "------------------------------------\n",
            "------------------------------------\n",
            " dataset2 dir: ['TEST', 'TEST_SIMPLE', 'TRAIN']\n",
            "------------------------------------\n",
            "------------------------------------\n",
            " TEST_SIMPLE: ['LYMPHOCYTE', 'NEUTROPHIL', 'MONOCYTE', 'EOSINOPHIL']\n",
            "------------------------------------\n",
            "------------------------------------\n",
            " samples in one TS dir: 4\n",
            "------------------------------------\n",
            "------------------------------------\n",
            " samples in another TS dir: 13\n",
            "------------------------------------\n",
            "Looks like Class imbalance, Plot a histogram to get proper estimate\n",
            "------------------------------------\n",
            " 620\n",
            "------------------------------------\n",
            "------------------------------------\n",
            " 623\n",
            "------------------------------------\n",
            "Looks like augmented set doesnot have any imbalance\n"
          ],
          "name": "stdout"
        }
      ]
    },
    {
      "cell_type": "code",
      "metadata": {
        "id": "mjwgNNUpVocB",
        "colab_type": "code",
        "outputId": "26484c60-dd01-49c5-b77a-bc1d9d48a6b0",
        "colab": {
          "base_uri": "https://localhost:8080/",
          "height": 34
        }
      },
      "source": [
        "mappings = dict(zip(['NEUTROPHIL', 'EOSINOPHIL', 'MONOCYTE','LYMPHOCYTE'],list(range(0,4))))\n",
        "print(mappings)"
      ],
      "execution_count": 0,
      "outputs": [
        {
          "output_type": "stream",
          "text": [
            "{'NEUTROPHIL': 0, 'EOSINOPHIL': 1, 'MONOCYTE': 2, 'LYMPHOCYTE': 3}\n"
          ],
          "name": "stdout"
        }
      ]
    },
    {
      "cell_type": "code",
      "metadata": {
        "id": "UASH7jMZWGS9",
        "colab_type": "code",
        "outputId": "0a0340dc-abe1-4979-aa30-3ce8d6250f72",
        "colab": {
          "base_uri": "https://localhost:8080/",
          "height": 204
        }
      },
      "source": [
        "labels = pd.read_csv('/content/drive/My Drive/Colab Notebooks/datasets/dataset2-master/dataset2-master/labels.csv')\n",
        "pplus(labels.info())"
      ],
      "execution_count": 0,
      "outputs": [
        {
          "output_type": "stream",
          "text": [
            "<class 'pandas.core.frame.DataFrame'>\n",
            "RangeIndex: 411 entries, 0 to 410\n",
            "Data columns (total 3 columns):\n",
            "Unnamed: 0    0 non-null float64\n",
            "Image         411 non-null int64\n",
            "Category      367 non-null object\n",
            "dtypes: float64(1), int64(1), object(1)\n",
            "memory usage: 9.8+ KB\n",
            "------------------------------------\n",
            " None\n",
            "------------------------------------\n"
          ],
          "name": "stdout"
        }
      ]
    },
    {
      "cell_type": "code",
      "metadata": {
        "id": "As3JHNeNWKoh",
        "colab_type": "code",
        "outputId": "14f4952c-2dd1-45f2-c368-803d7e5274e2",
        "colab": {
          "base_uri": "https://localhost:8080/",
          "height": 289
        }
      },
      "source": [
        "pplus(labels.head())\n",
        "pplus(labels.tail())"
      ],
      "execution_count": 0,
      "outputs": [
        {
          "output_type": "stream",
          "text": [
            "------------------------------------\n",
            "    Unnamed: 0  Image    Category\n",
            "0         NaN      0  NEUTROPHIL\n",
            "1         NaN      1  NEUTROPHIL\n",
            "2         NaN      2  NEUTROPHIL\n",
            "3         NaN      3  NEUTROPHIL\n",
            "4         NaN      4  NEUTROPHIL\n",
            "------------------------------------\n",
            "------------------------------------\n",
            "      Unnamed: 0  Image    Category\n",
            "406         NaN    406         NaN\n",
            "407         NaN    407  NEUTROPHIL\n",
            "408         NaN    408  NEUTROPHIL\n",
            "409         NaN    409  NEUTROPHIL\n",
            "410         NaN    410  EOSINOPHIL\n",
            "------------------------------------\n"
          ],
          "name": "stdout"
        }
      ]
    },
    {
      "cell_type": "markdown",
      "metadata": {
        "id": "x0iPf94tWZb6",
        "colab_type": "text"
      },
      "source": [
        "## Ploting a Sample of each"
      ]
    },
    {
      "cell_type": "code",
      "metadata": {
        "id": "_X-Sz3xvWWVC",
        "colab_type": "code",
        "outputId": "5b3cdabd-d381-4862-b803-d81c776fa8c6",
        "colab": {
          "base_uri": "https://localhost:8080/",
          "height": 34
        }
      },
      "source": [
        "plt.figure(figsize=(16,16))\n",
        "def plot_image(location, subplot):\n",
        "    title = location.split('/')[0]\n",
        "    location = TRAIN+location\n",
        "    plt.subplot(subplot)\n",
        "    plt.title(title)\n",
        "    plt.axis('off')\n",
        "    plt.imshow(cv2.imread(location))\n",
        "    return"
      ],
      "execution_count": 0,
      "outputs": [
        {
          "output_type": "display_data",
          "data": {
            "text/plain": [
              "<Figure size 1152x1152 with 0 Axes>"
            ]
          },
          "metadata": {
            "tags": []
          }
        }
      ]
    },
    {
      "cell_type": "code",
      "metadata": {
        "id": "7mh29l2tWdxS",
        "colab_type": "code",
        "outputId": "0b57adc3-f828-458f-9daf-763fbe6064db",
        "colab": {
          "base_uri": "https://localhost:8080/",
          "height": 264
        }
      },
      "source": [
        "loc = []\n",
        "loc.append('EOSINOPHIL/_0_207.jpeg')\n",
        "loc.append('LYMPHOCYTE/_0_204.jpeg')\n",
        "loc.append('MONOCYTE/_0_180.jpeg')\n",
        "loc.append('NEUTROPHIL/_0_292.jpeg')\n",
        "\n",
        "subplot = 221\n",
        "for i in loc:\n",
        "    plot_image(i, subplot)\n",
        "    subplot += 1\n",
        "\n"
      ],
      "execution_count": 0,
      "outputs": [
        {
          "output_type": "display_data",
          "data": {
            "image/png": "[encoded data removed]",
            "text/plain": [
              "<Figure size 432x288 with 4 Axes>"
            ]
          },
          "metadata": {
            "tags": []
          }
        }
      ]
    },
    {
      "cell_type": "code",
      "metadata": {
        "id": "_68yz8bNWlAJ",
        "colab_type": "code",
        "colab": {}
      },
      "source": [
        "from tqdm import tqdm\n",
        "def get_data(folder):\n",
        "    im = []\n",
        "    labels = []\n",
        "    for subtype in os.listdir(folder):\n",
        "        if not subtype.startswith('.'):\n",
        "            label = mappings[subtype]\n",
        "        for img_name in tqdm(os.listdir(folder+subtype)):\n",
        "            im.append(cv2.resize(cv2.imread(folder+subtype+'/'+img_name), (64,64)))\n",
        "            labels.append(label)\n",
        "    return np.asarray(im), np.asarray(labels)"
      ],
      "execution_count": 0,
      "outputs": []
    },
    {
      "cell_type": "code",
      "metadata": {
        "id": "31vOp6K_Wqv5",
        "colab_type": "code",
        "outputId": "c9502d83-18db-4187-d2c3-a98070dba09d",
        "colab": {
          "base_uri": "https://localhost:8080/",
          "height": 153
        }
      },
      "source": [
        "train_im, train_labels = get_data(TRAIN)\n",
        "test_im, test_labels = get_data(TEST)"
      ],
      "execution_count": 0,
      "outputs": [
        {
          "output_type": "stream",
          "text": [
            "100%|██████████| 2497/2497 [22:04<00:00,  1.83it/s]\n",
            "100%|██████████| 2483/2483 [28:44<00:00,  1.01s/it]\n",
            "100%|██████████| 2499/2499 [26:29<00:00,  2.06it/s]\n",
            "100%|██████████| 2478/2478 [23:43<00:00,  1.64it/s]\n",
            "100%|██████████| 624/624 [05:23<00:00,  2.04it/s]\n",
            "100%|██████████| 620/620 [04:41<00:00,  2.04it/s]\n",
            "100%|██████████| 623/623 [05:19<00:00,  2.37it/s]\n",
            "100%|██████████| 620/620 [05:12<00:00,  1.34it/s]\n"
          ],
          "name": "stderr"
        }
      ]
    },
    {
      "cell_type": "code",
      "metadata": {
        "id": "zhHiDRAIsHT5",
        "colab_type": "code",
        "colab": {}
      },
      "source": [
        "class BloodDataset(Dataset):\n",
        "    def __init__(self, images, labels, transform=None):\n",
        "        self.images = images\n",
        "        self.labels = labels\n",
        "        self.transform = transform\n",
        "        \n",
        "    def __len__(self):\n",
        "        return len(self.labels)\n",
        "    \n",
        "    def __getitem__(self, idx):\n",
        "        if self.transform:\n",
        "            return self.transform(self.images[idx]), self.labels[idx]\n",
        "        return self.images[idx], self.labels[idx]"
      ],
      "execution_count": 0,
      "outputs": []
    },
    {
      "cell_type": "code",
      "metadata": {
        "id": "WWp7rpEhsLWd",
        "colab_type": "code",
        "outputId": "9635819d-202e-4784-960e-1628511eb8ed",
        "colab": {
          "base_uri": "https://localhost:8080/",
          "height": 119
        }
      },
      "source": [
        "tfms = transforms.Compose([transforms.ToTensor()])\n",
        "train = BloodDataset(train_im, train_labels, transform=tfms)\n",
        "\n",
        "\n",
        "\n",
        "mean = tuple((train_im.mean(axis=(0,1,2))/255).round(4))\n",
        "std = tuple((train_im.std(axis=(0,1,2))/255).round(4))\n",
        "\n",
        "tfms = transforms.Compose([transforms.ToTensor(),\n",
        "                           transforms.Normalize(mean, std)])\n",
        "\n",
        "train = BloodDataset(train_im, train_labels, transform=tfms)\n",
        "\n",
        "pplus('Mean Values:',mean)\n",
        "pplus('Std Dev',std)"
      ],
      "execution_count": 0,
      "outputs": [
        {
          "output_type": "stream",
          "text": [
            "------------------------------------\n",
            " Mean Values: (0.6606, 0.6414, 0.6787)\n",
            "------------------------------------\n",
            "------------------------------------\n",
            " Std Dev (0.2602, 0.2627, 0.2635)\n",
            "------------------------------------\n"
          ],
          "name": "stdout"
        }
      ]
    },
    {
      "cell_type": "code",
      "metadata": {
        "id": "3IZd4JIhsZCX",
        "colab_type": "code",
        "outputId": "6ce5d622-44a0-46a5-c596-10277f78dba7",
        "colab": {
          "base_uri": "https://localhost:8080/",
          "height": 408
        }
      },
      "source": [
        "train.__getitem__(3)[0]"
      ],
      "execution_count": 0,
      "outputs": [
        {
          "output_type": "execute_result",
          "data": {
            "text/plain": [
              "tensor([[[-2.4785, -2.5388, -2.4936,  ..., -2.5388, -2.5388, -2.5388],\n",
              "         [-2.1319,  0.3850,  0.6111,  ..., -2.5388, -2.5388, -2.5388],\n",
              "         [ 0.5056,  0.4302,  0.5056,  ..., -2.5388, -2.5388, -2.5388],\n",
              "         ...,\n",
              "         [-2.5388, -2.5388, -2.5388,  ..., -2.5388, -2.5388, -2.5388],\n",
              "         [-2.5388, -2.5388, -2.4635,  ..., -2.5388, -2.5388, -2.5388],\n",
              "         [-2.5388, -2.5388, -2.4032,  ..., -2.5388, -2.5388, -2.5388]],\n",
              "\n",
              "        [[-2.3520, -2.4266, -2.3819,  ..., -2.4416, -2.4416, -2.4416],\n",
              "         [-2.0385,  0.4843,  0.7082,  ..., -2.4416, -2.4416, -2.4416],\n",
              "         [ 0.6037,  0.5291,  0.6037,  ..., -2.4416, -2.4416, -2.4416],\n",
              "         ...,\n",
              "         [-2.4416, -2.4416, -2.4266,  ..., -2.4416, -2.4416, -2.4416],\n",
              "         [-2.4416, -2.4416, -2.3669,  ..., -2.4416, -2.4416, -2.4416],\n",
              "         [-2.4416, -2.4416, -2.3371,  ..., -2.4416, -2.4416, -2.4416]],\n",
              "\n",
              "        [[-2.4715, -2.5459, -2.5013,  ..., -2.5757, -2.5757, -2.5757],\n",
              "         [-2.1590,  0.3562,  0.5794,  ..., -2.5757, -2.5757, -2.5757],\n",
              "         [ 0.4752,  0.4008,  0.4752,  ..., -2.5757, -2.5757, -2.5757],\n",
              "         ...,\n",
              "         [-2.5757, -2.5757, -2.5608,  ..., -2.5757, -2.5757, -2.5757],\n",
              "         [-2.5757, -2.5757, -2.5013,  ..., -2.5757, -2.5757, -2.5757],\n",
              "         [-2.5757, -2.5757, -2.4715,  ..., -2.5757, -2.5757, -2.5757]]])"
            ]
          },
          "metadata": {
            "tags": []
          },
          "execution_count": 30
        }
      ]
    },
    {
      "cell_type": "code",
      "metadata": {
        "id": "cdpSjvlwsdHQ",
        "colab_type": "code",
        "colab": {}
      },
      "source": [
        "trainloader = DataLoader(train, batch_size=batch_size, shuffle=True)\n",
        "testloader = DataLoader(test, batch_size=test_size, shuffle=False)"
      ],
      "execution_count": 0,
      "outputs": []
    },
    {
      "cell_type": "code",
      "metadata": {
        "id": "ICGtLhCYslE5",
        "colab_type": "code",
        "colab": {}
      },
      "source": [
        "class Network(nn.Module):\n",
        "    def __init__(self):\n",
        "        super().__init__()\n",
        "        self.layer0 = self.conv(3,32)\n",
        "        self.block1 = Block(32)\n",
        "        self.block2 = Block(64)\n",
        "        self.block3 = Block(128)\n",
        "        self.avgpool = nn.AdaptiveAvgPool2d(1)\n",
        "        self.fc = nn.Linear(256, 4)\n",
        "\n",
        "    def conv(self, in_, out_): \n",
        "        return nn.Sequential(\n",
        "            nn.Conv2d(in_, out_, 3, 1, 1, bias=False),\n",
        "            nn.ReLU(inplace=True),\n",
        "            nn.BatchNorm2d(out_))\n",
        "        \n",
        "    def forward(self, x):\n",
        "        x = self.layer0(x)\n",
        "        x = self.block1(x)\n",
        "        x = self.block2(x)\n",
        "        x = self.block3(x)\n",
        "        x = self.avgpool(x)\n",
        "        x = x.view(-1, 256)\n",
        "        x = self.fc(x)\n",
        "        return x\n",
        "# ----------------------------------------------------------------------------------------#\n",
        "class Block(nn.Module):\n",
        "    def __init__(self, in_):\n",
        "        super().__init__()\n",
        "        self.layer1 = self.conv_ds(in_, in_*2)\n",
        "        self.layer2 = self.conv_ds(in_*2, in_*2)\n",
        "        self.layer2_1 = self.conv_bn(in_*2, in_*2)\n",
        "        \n",
        "        self.layer1_1x1 = self.one_by_one(in_, in_*2)\n",
        "\n",
        "    def one_by_one(self, in_, out_):\n",
        "        return nn.Sequential(\n",
        "            nn.Conv2d(in_, out_, 1, 1, bias=False),\n",
        "            nn.ReLU(inplace=True),\n",
        "            nn.BatchNorm2d(out_)\n",
        "        )\n",
        "    def conv_bn(self, in_, out_):\n",
        "        return nn.Sequential(\n",
        "            nn.Conv2d(in_, out_, 3, 2, 1, bias=False),\n",
        "            nn.ReLU(inplace=True),\n",
        "            nn.BatchNorm2d(out_))\n",
        "    \n",
        "    def conv_ds(self, in_, out_): \n",
        "        mid = round(in_ * 3/2)\n",
        "        return nn.Sequential(\n",
        "            nn.Conv2d(in_, mid, 1, 1, bias=False),\n",
        "            nn.ReLU(inplace=True),\n",
        "            nn.BatchNorm2d(mid),\n",
        "            nn.Conv2d(mid, mid, 3, 1, 1, groups=mid, bias=False),\n",
        "            nn.ReLU(inplace=True),\n",
        "            nn.BatchNorm2d(mid),\n",
        "            nn.Conv2d(mid, out_, 1, 1, bias=False),\n",
        "            nn.ReLU(inplace=True),\n",
        "            nn.BatchNorm2d(out_))\n",
        "    def forward(self, x):\n",
        "        x = self.layer1(x) + self.layer1_1x1(x)\n",
        "        x = self.layer2(x) + x\n",
        "        x = self.layer2_1(x)\n",
        "        return x"
      ],
      "execution_count": 0,
      "outputs": []
    },
    {
      "cell_type": "code",
      "metadata": {
        "id": "-4_tzg-1spWS",
        "colab_type": "code",
        "outputId": "77b1ecf9-405c-424e-a17d-5b357fe02b94",
        "colab": {
          "base_uri": "https://localhost:8080/",
          "height": 1000
        }
      },
      "source": [
        "print(Network())\n",
        "if not torch.cuda.is_available(): pplus('Turn ON your GPU')\n",
        "net = Network()\n",
        "net = net.cuda()"
      ],
      "execution_count": 0,
      "outputs": [
        {
          "output_type": "stream",
          "text": [
            "Network(\n",
            "  (layer0): Sequential(\n",
            "    (0): Conv2d(3, 32, kernel_size=(3, 3), stride=(1, 1), padding=(1, 1), bias=False)\n",
            "    (1): ReLU(inplace=True)\n",
            "    (2): BatchNorm2d(32, eps=1e-05, momentum=0.1, affine=True, track_running_stats=True)\n",
            "  )\n",
            "  (block1): Block(\n",
            "    (layer1): Sequential(\n",
            "      (0): Conv2d(32, 48, kernel_size=(1, 1), stride=(1, 1), bias=False)\n",
            "      (1): ReLU(inplace=True)\n",
            "      (2): BatchNorm2d(48, eps=1e-05, momentum=0.1, affine=True, track_running_stats=True)\n",
            "      (3): Conv2d(48, 48, kernel_size=(3, 3), stride=(1, 1), padding=(1, 1), groups=48, bias=False)\n",
            "      (4): ReLU(inplace=True)\n",
            "      (5): BatchNorm2d(48, eps=1e-05, momentum=0.1, affine=True, track_running_stats=True)\n",
            "      (6): Conv2d(48, 64, kernel_size=(1, 1), stride=(1, 1), bias=False)\n",
            "      (7): ReLU(inplace=True)\n",
            "      (8): BatchNorm2d(64, eps=1e-05, momentum=0.1, affine=True, track_running_stats=True)\n",
            "    )\n",
            "    (layer2): Sequential(\n",
            "      (0): Conv2d(64, 96, kernel_size=(1, 1), stride=(1, 1), bias=False)\n",
            "      (1): ReLU(inplace=True)\n",
            "      (2): BatchNorm2d(96, eps=1e-05, momentum=0.1, affine=True, track_running_stats=True)\n",
            "      (3): Conv2d(96, 96, kernel_size=(3, 3), stride=(1, 1), padding=(1, 1), groups=96, bias=False)\n",
            "      (4): ReLU(inplace=True)\n",
            "      (5): BatchNorm2d(96, eps=1e-05, momentum=0.1, affine=True, track_running_stats=True)\n",
            "      (6): Conv2d(96, 64, kernel_size=(1, 1), stride=(1, 1), bias=False)\n",
            "      (7): ReLU(inplace=True)\n",
            "      (8): BatchNorm2d(64, eps=1e-05, momentum=0.1, affine=True, track_running_stats=True)\n",
            "    )\n",
            "    (layer2_1): Sequential(\n",
            "      (0): Conv2d(64, 64, kernel_size=(3, 3), stride=(2, 2), padding=(1, 1), bias=False)\n",
            "      (1): ReLU(inplace=True)\n",
            "      (2): BatchNorm2d(64, eps=1e-05, momentum=0.1, affine=True, track_running_stats=True)\n",
            "    )\n",
            "    (layer1_1x1): Sequential(\n",
            "      (0): Conv2d(32, 64, kernel_size=(1, 1), stride=(1, 1), bias=False)\n",
            "      (1): ReLU(inplace=True)\n",
            "      (2): BatchNorm2d(64, eps=1e-05, momentum=0.1, affine=True, track_running_stats=True)\n",
            "    )\n",
            "  )\n",
            "  (block2): Block(\n",
            "    (layer1): Sequential(\n",
            "      (0): Conv2d(64, 96, kernel_size=(1, 1), stride=(1, 1), bias=False)\n",
            "      (1): ReLU(inplace=True)\n",
            "      (2): BatchNorm2d(96, eps=1e-05, momentum=0.1, affine=True, track_running_stats=True)\n",
            "      (3): Conv2d(96, 96, kernel_size=(3, 3), stride=(1, 1), padding=(1, 1), groups=96, bias=False)\n",
            "      (4): ReLU(inplace=True)\n",
            "      (5): BatchNorm2d(96, eps=1e-05, momentum=0.1, affine=True, track_running_stats=True)\n",
            "      (6): Conv2d(96, 128, kernel_size=(1, 1), stride=(1, 1), bias=False)\n",
            "      (7): ReLU(inplace=True)\n",
            "      (8): BatchNorm2d(128, eps=1e-05, momentum=0.1, affine=True, track_running_stats=True)\n",
            "    )\n",
            "    (layer2): Sequential(\n",
            "      (0): Conv2d(128, 192, kernel_size=(1, 1), stride=(1, 1), bias=False)\n",
            "      (1): ReLU(inplace=True)\n",
            "      (2): BatchNorm2d(192, eps=1e-05, momentum=0.1, affine=True, track_running_stats=True)\n",
            "      (3): Conv2d(192, 192, kernel_size=(3, 3), stride=(1, 1), padding=(1, 1), groups=192, bias=False)\n",
            "      (4): ReLU(inplace=True)\n",
            "      (5): BatchNorm2d(192, eps=1e-05, momentum=0.1, affine=True, track_running_stats=True)\n",
            "      (6): Conv2d(192, 128, kernel_size=(1, 1), stride=(1, 1), bias=False)\n",
            "      (7): ReLU(inplace=True)\n",
            "      (8): BatchNorm2d(128, eps=1e-05, momentum=0.1, affine=True, track_running_stats=True)\n",
            "    )\n",
            "    (layer2_1): Sequential(\n",
            "      (0): Conv2d(128, 128, kernel_size=(3, 3), stride=(2, 2), padding=(1, 1), bias=False)\n",
            "      (1): ReLU(inplace=True)\n",
            "      (2): BatchNorm2d(128, eps=1e-05, momentum=0.1, affine=True, track_running_stats=True)\n",
            "    )\n",
            "    (layer1_1x1): Sequential(\n",
            "      (0): Conv2d(64, 128, kernel_size=(1, 1), stride=(1, 1), bias=False)\n",
            "      (1): ReLU(inplace=True)\n",
            "      (2): BatchNorm2d(128, eps=1e-05, momentum=0.1, affine=True, track_running_stats=True)\n",
            "    )\n",
            "  )\n",
            "  (block3): Block(\n",
            "    (layer1): Sequential(\n",
            "      (0): Conv2d(128, 192, kernel_size=(1, 1), stride=(1, 1), bias=False)\n",
            "      (1): ReLU(inplace=True)\n",
            "      (2): BatchNorm2d(192, eps=1e-05, momentum=0.1, affine=True, track_running_stats=True)\n",
            "      (3): Conv2d(192, 192, kernel_size=(3, 3), stride=(1, 1), padding=(1, 1), groups=192, bias=False)\n",
            "      (4): ReLU(inplace=True)\n",
            "      (5): BatchNorm2d(192, eps=1e-05, momentum=0.1, affine=True, track_running_stats=True)\n",
            "      (6): Conv2d(192, 256, kernel_size=(1, 1), stride=(1, 1), bias=False)\n",
            "      (7): ReLU(inplace=True)\n",
            "      (8): BatchNorm2d(256, eps=1e-05, momentum=0.1, affine=True, track_running_stats=True)\n",
            "    )\n",
            "    (layer2): Sequential(\n",
            "      (0): Conv2d(256, 384, kernel_size=(1, 1), stride=(1, 1), bias=False)\n",
            "      (1): ReLU(inplace=True)\n",
            "      (2): BatchNorm2d(384, eps=1e-05, momentum=0.1, affine=True, track_running_stats=True)\n",
            "      (3): Conv2d(384, 384, kernel_size=(3, 3), stride=(1, 1), padding=(1, 1), groups=384, bias=False)\n",
            "      (4): ReLU(inplace=True)\n",
            "      (5): BatchNorm2d(384, eps=1e-05, momentum=0.1, affine=True, track_running_stats=True)\n",
            "      (6): Conv2d(384, 256, kernel_size=(1, 1), stride=(1, 1), bias=False)\n",
            "      (7): ReLU(inplace=True)\n",
            "      (8): BatchNorm2d(256, eps=1e-05, momentum=0.1, affine=True, track_running_stats=True)\n",
            "    )\n",
            "    (layer2_1): Sequential(\n",
            "      (0): Conv2d(256, 256, kernel_size=(3, 3), stride=(2, 2), padding=(1, 1), bias=False)\n",
            "      (1): ReLU(inplace=True)\n",
            "      (2): BatchNorm2d(256, eps=1e-05, momentum=0.1, affine=True, track_running_stats=True)\n",
            "    )\n",
            "    (layer1_1x1): Sequential(\n",
            "      (0): Conv2d(128, 256, kernel_size=(1, 1), stride=(1, 1), bias=False)\n",
            "      (1): ReLU(inplace=True)\n",
            "      (2): BatchNorm2d(256, eps=1e-05, momentum=0.1, affine=True, track_running_stats=True)\n",
            "    )\n",
            "  )\n",
            "  (avgpool): AdaptiveAvgPool2d(output_size=1)\n",
            "  (fc): Linear(in_features=256, out_features=4, bias=True)\n",
            ")\n"
          ],
          "name": "stdout"
        }
      ]
    },
    {
      "cell_type": "code",
      "metadata": {
        "id": "rmzKtdbzstYP",
        "colab_type": "code",
        "colab": {}
      },
      "source": [
        "\n",
        "\n",
        "# optimizer = optim.SGD(net.parameters(), lr=lr, momentum=0.85, weight_decay=1e-4)\n",
        "optimizer = optim.Adam(net.parameters(), lr=lr, betas=(0.5, 0.999))\n",
        "criterion = nn.CrossEntropyLoss()\n",
        "\n"
      ],
      "execution_count": 0,
      "outputs": []
    },
    {
      "cell_type": "code",
      "metadata": {
        "id": "zsWCiBmYsxRK",
        "colab_type": "code",
        "colab": {}
      },
      "source": [
        "def test(epoch):\n",
        "    net.eval()\n",
        "    test_loss = 0\n",
        "    counter = 0\n",
        "    accuracy = 0\n",
        "\n",
        "    for batch_idx , (data,targets) in enumerate(testloader):\n",
        "\n",
        "        data, targets = Variable(data).cuda(), Variable(targets).cuda()\n",
        "\n",
        "        outputs = net(data)\n",
        "        loss = criterion(outputs, targets)\n",
        "\n",
        "        test_loss += loss.data.cpu().numpy().round(5)\n",
        "        counter += 1\n",
        "\n",
        "        _, predicted = torch.max(outputs.data,1)\n",
        "        accuracy += (predicted == targets.data).sum()\n",
        "        \n",
        "        if batch_idx%(batch_size//10) == 0:\n",
        "            pplus('Test Epoch:', epoch, batch_idx*len(data),'/',len(testloader.dataset),\n",
        "                  '|\\n Test Loss:',loss.data.cpu().numpy().round(5),\n",
        "                  '|\\n Accuracy:', (accuracy*100/(targets.data.size(0)*(batch_idx+1)))\n",
        "                 )\n",
        "    return test_loss/counter"
      ],
      "execution_count": 0,
      "outputs": []
    },
    {
      "cell_type": "code",
      "metadata": {
        "id": "gUakFixjs0YY",
        "colab_type": "code",
        "colab": {}
      },
      "source": [
        "def train(epoch):\n",
        "    net.train()\n",
        "    train_loss = 0\n",
        "    counter = 0\n",
        "    accuracy = 0\n",
        "    for batch_idx, (data, targets) in enumerate(trainloader):\n",
        "        data, targets = Variable(data).cuda(), Variable(targets).cuda()\n",
        "        optimizer.zero_grad()\n",
        "        outputs = net(data)\n",
        "        loss = criterion(outputs, targets)\n",
        "        train_loss += loss.data.cpu().numpy().round(5)\n",
        "        counter += 1\n",
        "        loss.backward()\n",
        "        optimizer.step()\n",
        "\n",
        "        _, predicted = torch.max(outputs.data,1)\n",
        "        accuracy += (predicted == targets.data).sum()\n",
        "        \n",
        "        if batch_idx%(batch_size//10) == 0:\n",
        "            pplus('Train Epoch:', epoch, batch_idx*len(data),'/',len(trainloader.dataset),\n",
        "                  '|\\n Train Loss:',loss.data.cpu().numpy().round(5),\n",
        "                  '|\\n Accuracy:', (accuracy*100/(targets.data.size(0)*(batch_idx+1)))\n",
        "                 )\n",
        "    return train_loss/counter"
      ],
      "execution_count": 0,
      "outputs": []
    },
    {
      "cell_type": "code",
      "metadata": {
        "id": "iNI8jobJs2w2",
        "colab_type": "code",
        "colab": {}
      },
      "source": [
        "train_stack = []\n",
        "test_stack = []"
      ],
      "execution_count": 0,
      "outputs": []
    },
    {
      "cell_type": "code",
      "metadata": {
        "id": "jz5BB2c0s4PE",
        "colab_type": "code",
        "colab": {}
      },
      "source": [
        "def plot_arrays(np_arr, np_arr2):\n",
        "    plt.plot(np_arr)\n",
        "    plt.plot(np_arr2)\n",
        "    plt.xlabel('Epochs --->')\n",
        "    plt.ylabel('Loss --->')\n",
        "    plt.title('Training Curve')\n",
        "    plt.show()"
      ],
      "execution_count": 0,
      "outputs": []
    },
    {
      "cell_type": "code",
      "metadata": {
        "id": "h5icbD9cs6Ji",
        "colab_type": "code",
        "outputId": "48d9133b-835c-4e59-cb0d-e07eaacdb08d",
        "colab": {
          "base_uri": "https://localhost:8080/",
          "height": 1000
        }
      },
      "source": [
        "for i in range(200):\n",
        "    train_stack.append(train(i))\n",
        "    test_stack.append(test(i))\n",
        "    plot_arrays(train_stack, test_stack)"
      ],
      "execution_count": 0,
      "outputs": [
        {
          "output_type": "stream",
          "text": [
            "------------------------------------\n",
            " Train Epoch: 0 0 / 9957 |\n",
            " Train Loss: 0.39991 |\n",
            " Accuracy: tensor(88, device='cuda:0')\n",
            "------------------------------------\n",
            "------------------------------------\n",
            " Train Epoch: 0 864 / 9957 |\n",
            " Train Loss: 0.33982 |\n",
            " Accuracy: tensor(91, device='cuda:0')\n",
            "------------------------------------\n",
            "------------------------------------\n",
            " Train Epoch: 0 1728 / 9957 |\n",
            " Train Loss: 0.2555 |\n",
            " Accuracy: tensor(92, device='cuda:0')\n",
            "------------------------------------\n",
            "------------------------------------\n",
            " Train Epoch: 0 2592 / 9957 |\n",
            " Train Loss: 0.18387 |\n",
            " Accuracy: tensor(92, device='cuda:0')\n",
            "------------------------------------\n",
            "------------------------------------\n",
            " Train Epoch: 0 3456 / 9957 |\n",
            " Train Loss: 0.14885 |\n",
            " Accuracy: tensor(93, device='cuda:0')\n",
            "------------------------------------\n",
            "------------------------------------\n",
            " Train Epoch: 0 4320 / 9957 |\n",
            " Train Loss: 0.23636 |\n",
            " Accuracy: tensor(93, device='cuda:0')\n",
            "------------------------------------\n",
            "------------------------------------\n",
            " Train Epoch: 0 5184 / 9957 |\n",
            " Train Loss: 0.1952 |\n",
            " Accuracy: tensor(93, device='cuda:0')\n",
            "------------------------------------\n",
            "------------------------------------\n",
            " Train Epoch: 0 6048 / 9957 |\n",
            " Train Loss: 0.10346 |\n",
            " Accuracy: tensor(94, device='cuda:0')\n",
            "------------------------------------\n",
            "------------------------------------\n",
            " Train Epoch: 0 6912 / 9957 |\n",
            " Train Loss: 0.24693 |\n",
            " Accuracy: tensor(94, device='cuda:0')\n",
            "------------------------------------\n",
            "------------------------------------\n",
            " Train Epoch: 0 7776 / 9957 |\n",
            " Train Loss: 0.13036 |\n",
            " Accuracy: tensor(94, device='cuda:0')\n",
            "------------------------------------\n",
            "------------------------------------\n",
            " Train Epoch: 0 8640 / 9957 |\n",
            " Train Loss: 0.09561 |\n",
            " Accuracy: tensor(94, device='cuda:0')\n",
            "------------------------------------\n",
            "------------------------------------\n",
            " Train Epoch: 0 9504 / 9957 |\n",
            " Train Loss: 0.12789 |\n",
            " Accuracy: tensor(94, device='cuda:0')\n",
            "------------------------------------\n"
          ],
          "name": "stdout"
        },
        {
          "output_type": "error",
          "ename": "TypeError",
          "evalue": "ignored",
          "traceback": [
            "\u001b[0;31m---------------------------------------------------------------------------\u001b[0m",
            "\u001b[0;31mTypeError\u001b[0m                                 Traceback (most recent call last)",
            "\u001b[0;32m<ipython-input-42-e68169d175b2>\u001b[0m in \u001b[0;36m<module>\u001b[0;34m()\u001b[0m\n\u001b[1;32m      1\u001b[0m \u001b[0;32mfor\u001b[0m \u001b[0mi\u001b[0m \u001b[0;32min\u001b[0m \u001b[0mrange\u001b[0m\u001b[0;34m(\u001b[0m\u001b[0;36m200\u001b[0m\u001b[0;34m)\u001b[0m\u001b[0;34m:\u001b[0m\u001b[0;34m\u001b[0m\u001b[0;34m\u001b[0m\u001b[0m\n\u001b[1;32m      2\u001b[0m     \u001b[0mtrain_stack\u001b[0m\u001b[0;34m.\u001b[0m\u001b[0mappend\u001b[0m\u001b[0;34m(\u001b[0m\u001b[0mtrain\u001b[0m\u001b[0;34m(\u001b[0m\u001b[0mi\u001b[0m\u001b[0;34m)\u001b[0m\u001b[0;34m)\u001b[0m\u001b[0;34m\u001b[0m\u001b[0;34m\u001b[0m\u001b[0m\n\u001b[0;32m----> 3\u001b[0;31m     \u001b[0mtest_stack\u001b[0m\u001b[0;34m.\u001b[0m\u001b[0mappend\u001b[0m\u001b[0;34m(\u001b[0m\u001b[0mtest\u001b[0m\u001b[0;34m(\u001b[0m\u001b[0mi\u001b[0m\u001b[0;34m)\u001b[0m\u001b[0;34m)\u001b[0m\u001b[0;34m\u001b[0m\u001b[0;34m\u001b[0m\u001b[0m\n\u001b[0m\u001b[1;32m      4\u001b[0m     \u001b[0mplot_arrays\u001b[0m\u001b[0;34m(\u001b[0m\u001b[0mtrain_stack\u001b[0m\u001b[0;34m,\u001b[0m \u001b[0mtest_stack\u001b[0m\u001b[0;34m)\u001b[0m\u001b[0;34m\u001b[0m\u001b[0;34m\u001b[0m\u001b[0m\n",
            "\u001b[0;32m<ipython-input-35-0284315b7e3f>\u001b[0m in \u001b[0;36mtest\u001b[0;34m(epoch)\u001b[0m\n\u001b[1;32m      5\u001b[0m     \u001b[0maccuracy\u001b[0m \u001b[0;34m=\u001b[0m \u001b[0;36m0\u001b[0m\u001b[0;34m\u001b[0m\u001b[0;34m\u001b[0m\u001b[0m\n\u001b[1;32m      6\u001b[0m \u001b[0;34m\u001b[0m\u001b[0m\n\u001b[0;32m----> 7\u001b[0;31m     \u001b[0;32mfor\u001b[0m \u001b[0mbatch_idx\u001b[0m \u001b[0;34m,\u001b[0m \u001b[0;34m(\u001b[0m\u001b[0mdata\u001b[0m\u001b[0;34m,\u001b[0m\u001b[0mtargets\u001b[0m\u001b[0;34m)\u001b[0m \u001b[0;32min\u001b[0m \u001b[0menumerate\u001b[0m\u001b[0;34m(\u001b[0m\u001b[0mtestloader\u001b[0m\u001b[0;34m)\u001b[0m\u001b[0;34m:\u001b[0m\u001b[0;34m\u001b[0m\u001b[0;34m\u001b[0m\u001b[0m\n\u001b[0m\u001b[1;32m      8\u001b[0m \u001b[0;34m\u001b[0m\u001b[0m\n\u001b[1;32m      9\u001b[0m         \u001b[0mdata\u001b[0m\u001b[0;34m,\u001b[0m \u001b[0mtargets\u001b[0m \u001b[0;34m=\u001b[0m \u001b[0mVariable\u001b[0m\u001b[0;34m(\u001b[0m\u001b[0mdata\u001b[0m\u001b[0;34m)\u001b[0m\u001b[0;34m.\u001b[0m\u001b[0mcuda\u001b[0m\u001b[0;34m(\u001b[0m\u001b[0;34m)\u001b[0m\u001b[0;34m,\u001b[0m \u001b[0mVariable\u001b[0m\u001b[0;34m(\u001b[0m\u001b[0mtargets\u001b[0m\u001b[0;34m)\u001b[0m\u001b[0;34m.\u001b[0m\u001b[0mcuda\u001b[0m\u001b[0;34m(\u001b[0m\u001b[0;34m)\u001b[0m\u001b[0;34m\u001b[0m\u001b[0;34m\u001b[0m\u001b[0m\n",
            "\u001b[0;32m/usr/local/lib/python3.6/dist-packages/torch/utils/data/dataloader.py\u001b[0m in \u001b[0;36m__next__\u001b[0;34m(self)\u001b[0m\n\u001b[1;32m    343\u001b[0m \u001b[0;34m\u001b[0m\u001b[0m\n\u001b[1;32m    344\u001b[0m     \u001b[0;32mdef\u001b[0m \u001b[0m__next__\u001b[0m\u001b[0;34m(\u001b[0m\u001b[0mself\u001b[0m\u001b[0;34m)\u001b[0m\u001b[0;34m:\u001b[0m\u001b[0;34m\u001b[0m\u001b[0;34m\u001b[0m\u001b[0m\n\u001b[0;32m--> 345\u001b[0;31m         \u001b[0mdata\u001b[0m \u001b[0;34m=\u001b[0m \u001b[0mself\u001b[0m\u001b[0;34m.\u001b[0m\u001b[0m_next_data\u001b[0m\u001b[0;34m(\u001b[0m\u001b[0;34m)\u001b[0m\u001b[0;34m\u001b[0m\u001b[0;34m\u001b[0m\u001b[0m\n\u001b[0m\u001b[1;32m    346\u001b[0m         \u001b[0mself\u001b[0m\u001b[0;34m.\u001b[0m\u001b[0m_num_yielded\u001b[0m \u001b[0;34m+=\u001b[0m \u001b[0;36m1\u001b[0m\u001b[0;34m\u001b[0m\u001b[0;34m\u001b[0m\u001b[0m\n\u001b[1;32m    347\u001b[0m         \u001b[0;32mif\u001b[0m \u001b[0mself\u001b[0m\u001b[0;34m.\u001b[0m\u001b[0m_dataset_kind\u001b[0m \u001b[0;34m==\u001b[0m \u001b[0m_DatasetKind\u001b[0m\u001b[0;34m.\u001b[0m\u001b[0mIterable\u001b[0m \u001b[0;32mand\u001b[0m\u001b[0;31m \u001b[0m\u001b[0;31m\\\u001b[0m\u001b[0;34m\u001b[0m\u001b[0;34m\u001b[0m\u001b[0m\n",
            "\u001b[0;32m/usr/local/lib/python3.6/dist-packages/torch/utils/data/dataloader.py\u001b[0m in \u001b[0;36m_next_data\u001b[0;34m(self)\u001b[0m\n\u001b[1;32m    382\u001b[0m \u001b[0;34m\u001b[0m\u001b[0m\n\u001b[1;32m    383\u001b[0m     \u001b[0;32mdef\u001b[0m \u001b[0m_next_data\u001b[0m\u001b[0;34m(\u001b[0m\u001b[0mself\u001b[0m\u001b[0;34m)\u001b[0m\u001b[0;34m:\u001b[0m\u001b[0;34m\u001b[0m\u001b[0;34m\u001b[0m\u001b[0m\n\u001b[0;32m--> 384\u001b[0;31m         \u001b[0mindex\u001b[0m \u001b[0;34m=\u001b[0m \u001b[0mself\u001b[0m\u001b[0;34m.\u001b[0m\u001b[0m_next_index\u001b[0m\u001b[0;34m(\u001b[0m\u001b[0;34m)\u001b[0m  \u001b[0;31m# may raise StopIteration\u001b[0m\u001b[0;34m\u001b[0m\u001b[0;34m\u001b[0m\u001b[0m\n\u001b[0m\u001b[1;32m    385\u001b[0m         \u001b[0mdata\u001b[0m \u001b[0;34m=\u001b[0m \u001b[0mself\u001b[0m\u001b[0;34m.\u001b[0m\u001b[0m_dataset_fetcher\u001b[0m\u001b[0;34m.\u001b[0m\u001b[0mfetch\u001b[0m\u001b[0;34m(\u001b[0m\u001b[0mindex\u001b[0m\u001b[0;34m)\u001b[0m  \u001b[0;31m# may raise StopIteration\u001b[0m\u001b[0;34m\u001b[0m\u001b[0;34m\u001b[0m\u001b[0m\n\u001b[1;32m    386\u001b[0m         \u001b[0;32mif\u001b[0m \u001b[0mself\u001b[0m\u001b[0;34m.\u001b[0m\u001b[0m_pin_memory\u001b[0m\u001b[0;34m:\u001b[0m\u001b[0;34m\u001b[0m\u001b[0;34m\u001b[0m\u001b[0m\n",
            "\u001b[0;32m/usr/local/lib/python3.6/dist-packages/torch/utils/data/dataloader.py\u001b[0m in \u001b[0;36m_next_index\u001b[0;34m(self)\u001b[0m\n\u001b[1;32m    337\u001b[0m \u001b[0;34m\u001b[0m\u001b[0m\n\u001b[1;32m    338\u001b[0m     \u001b[0;32mdef\u001b[0m \u001b[0m_next_index\u001b[0m\u001b[0;34m(\u001b[0m\u001b[0mself\u001b[0m\u001b[0;34m)\u001b[0m\u001b[0;34m:\u001b[0m\u001b[0;34m\u001b[0m\u001b[0;34m\u001b[0m\u001b[0m\n\u001b[0;32m--> 339\u001b[0;31m         \u001b[0;32mreturn\u001b[0m \u001b[0mnext\u001b[0m\u001b[0;34m(\u001b[0m\u001b[0mself\u001b[0m\u001b[0;34m.\u001b[0m\u001b[0m_sampler_iter\u001b[0m\u001b[0;34m)\u001b[0m  \u001b[0;31m# may raise StopIteration\u001b[0m\u001b[0;34m\u001b[0m\u001b[0;34m\u001b[0m\u001b[0m\n\u001b[0m\u001b[1;32m    340\u001b[0m \u001b[0;34m\u001b[0m\u001b[0m\n\u001b[1;32m    341\u001b[0m     \u001b[0;32mdef\u001b[0m \u001b[0m_next_data\u001b[0m\u001b[0;34m(\u001b[0m\u001b[0mself\u001b[0m\u001b[0;34m)\u001b[0m\u001b[0;34m:\u001b[0m\u001b[0;34m\u001b[0m\u001b[0;34m\u001b[0m\u001b[0m\n",
            "\u001b[0;32m/usr/local/lib/python3.6/dist-packages/torch/utils/data/sampler.py\u001b[0m in \u001b[0;36m__iter__\u001b[0;34m(self)\u001b[0m\n\u001b[1;32m    198\u001b[0m     \u001b[0;32mdef\u001b[0m \u001b[0m__iter__\u001b[0m\u001b[0;34m(\u001b[0m\u001b[0mself\u001b[0m\u001b[0;34m)\u001b[0m\u001b[0;34m:\u001b[0m\u001b[0;34m\u001b[0m\u001b[0;34m\u001b[0m\u001b[0m\n\u001b[1;32m    199\u001b[0m         \u001b[0mbatch\u001b[0m \u001b[0;34m=\u001b[0m \u001b[0;34m[\u001b[0m\u001b[0;34m]\u001b[0m\u001b[0;34m\u001b[0m\u001b[0;34m\u001b[0m\u001b[0m\n\u001b[0;32m--> 200\u001b[0;31m         \u001b[0;32mfor\u001b[0m \u001b[0midx\u001b[0m \u001b[0;32min\u001b[0m \u001b[0mself\u001b[0m\u001b[0;34m.\u001b[0m\u001b[0msampler\u001b[0m\u001b[0;34m:\u001b[0m\u001b[0;34m\u001b[0m\u001b[0;34m\u001b[0m\u001b[0m\n\u001b[0m\u001b[1;32m    201\u001b[0m             \u001b[0mbatch\u001b[0m\u001b[0;34m.\u001b[0m\u001b[0mappend\u001b[0m\u001b[0;34m(\u001b[0m\u001b[0midx\u001b[0m\u001b[0;34m)\u001b[0m\u001b[0;34m\u001b[0m\u001b[0;34m\u001b[0m\u001b[0m\n\u001b[1;32m    202\u001b[0m             \u001b[0;32mif\u001b[0m \u001b[0mlen\u001b[0m\u001b[0;34m(\u001b[0m\u001b[0mbatch\u001b[0m\u001b[0;34m)\u001b[0m \u001b[0;34m==\u001b[0m \u001b[0mself\u001b[0m\u001b[0;34m.\u001b[0m\u001b[0mbatch_size\u001b[0m\u001b[0;34m:\u001b[0m\u001b[0;34m\u001b[0m\u001b[0;34m\u001b[0m\u001b[0m\n",
            "\u001b[0;32m/usr/local/lib/python3.6/dist-packages/torch/utils/data/sampler.py\u001b[0m in \u001b[0;36m__iter__\u001b[0;34m(self)\u001b[0m\n\u001b[1;32m     60\u001b[0m \u001b[0;34m\u001b[0m\u001b[0m\n\u001b[1;32m     61\u001b[0m     \u001b[0;32mdef\u001b[0m \u001b[0m__iter__\u001b[0m\u001b[0;34m(\u001b[0m\u001b[0mself\u001b[0m\u001b[0;34m)\u001b[0m\u001b[0;34m:\u001b[0m\u001b[0;34m\u001b[0m\u001b[0;34m\u001b[0m\u001b[0m\n\u001b[0;32m---> 62\u001b[0;31m         \u001b[0;32mreturn\u001b[0m \u001b[0miter\u001b[0m\u001b[0;34m(\u001b[0m\u001b[0mrange\u001b[0m\u001b[0;34m(\u001b[0m\u001b[0mlen\u001b[0m\u001b[0;34m(\u001b[0m\u001b[0mself\u001b[0m\u001b[0;34m.\u001b[0m\u001b[0mdata_source\u001b[0m\u001b[0;34m)\u001b[0m\u001b[0;34m)\u001b[0m\u001b[0;34m)\u001b[0m\u001b[0;34m\u001b[0m\u001b[0;34m\u001b[0m\u001b[0m\n\u001b[0m\u001b[1;32m     63\u001b[0m \u001b[0;34m\u001b[0m\u001b[0m\n\u001b[1;32m     64\u001b[0m     \u001b[0;32mdef\u001b[0m \u001b[0m__len__\u001b[0m\u001b[0;34m(\u001b[0m\u001b[0mself\u001b[0m\u001b[0;34m)\u001b[0m\u001b[0;34m:\u001b[0m\u001b[0;34m\u001b[0m\u001b[0;34m\u001b[0m\u001b[0m\n",
            "\u001b[0;31mTypeError\u001b[0m: object of type 'function' has no len()"
          ]
        }
      ]
    },
    {
      "cell_type": "code",
      "metadata": {
        "id": "J0_KWBBhs8aO",
        "colab_type": "code",
        "outputId": "25290fef-88a7-4db6-bfa4-8388c6bef49d",
        "colab": {
          "base_uri": "https://localhost:8080/",
          "height": 340
        }
      },
      "source": [
        "diction = {'train_loss': train_stack, 'test_loss': test_stack}\n",
        "df = pd.DataFrame(diction)\n",
        "df.to_csv('log.csv')"
      ],
      "execution_count": 0,
      "outputs": [
        {
          "output_type": "error",
          "ename": "ValueError",
          "evalue": "ignored",
          "traceback": [
            "\u001b[0;31m---------------------------------------------------------------------------\u001b[0m",
            "\u001b[0;31mValueError\u001b[0m                                Traceback (most recent call last)",
            "\u001b[0;32m<ipython-input-41-545ae31240ec>\u001b[0m in \u001b[0;36m<module>\u001b[0;34m()\u001b[0m\n\u001b[1;32m      1\u001b[0m \u001b[0mdiction\u001b[0m \u001b[0;34m=\u001b[0m \u001b[0;34m{\u001b[0m\u001b[0;34m'train_loss'\u001b[0m\u001b[0;34m:\u001b[0m \u001b[0mtrain_stack\u001b[0m\u001b[0;34m,\u001b[0m \u001b[0;34m'test_loss'\u001b[0m\u001b[0;34m:\u001b[0m \u001b[0mtest_stack\u001b[0m\u001b[0;34m}\u001b[0m\u001b[0;34m\u001b[0m\u001b[0;34m\u001b[0m\u001b[0m\n\u001b[0;32m----> 2\u001b[0;31m \u001b[0mdf\u001b[0m \u001b[0;34m=\u001b[0m \u001b[0mpd\u001b[0m\u001b[0;34m.\u001b[0m\u001b[0mDataFrame\u001b[0m\u001b[0;34m(\u001b[0m\u001b[0mdiction\u001b[0m\u001b[0;34m)\u001b[0m\u001b[0;34m\u001b[0m\u001b[0;34m\u001b[0m\u001b[0m\n\u001b[0m\u001b[1;32m      3\u001b[0m \u001b[0mdf\u001b[0m\u001b[0;34m.\u001b[0m\u001b[0mto_csv\u001b[0m\u001b[0;34m(\u001b[0m\u001b[0;34m'log.csv'\u001b[0m\u001b[0;34m)\u001b[0m\u001b[0;34m\u001b[0m\u001b[0;34m\u001b[0m\u001b[0m\n",
            "\u001b[0;32m/usr/local/lib/python3.6/dist-packages/pandas/core/frame.py\u001b[0m in \u001b[0;36m__init__\u001b[0;34m(self, data, index, columns, dtype, copy)\u001b[0m\n\u001b[1;32m    409\u001b[0m             )\n\u001b[1;32m    410\u001b[0m         \u001b[0;32melif\u001b[0m \u001b[0misinstance\u001b[0m\u001b[0;34m(\u001b[0m\u001b[0mdata\u001b[0m\u001b[0;34m,\u001b[0m \u001b[0mdict\u001b[0m\u001b[0;34m)\u001b[0m\u001b[0;34m:\u001b[0m\u001b[0;34m\u001b[0m\u001b[0;34m\u001b[0m\u001b[0m\n\u001b[0;32m--> 411\u001b[0;31m             \u001b[0mmgr\u001b[0m \u001b[0;34m=\u001b[0m \u001b[0minit_dict\u001b[0m\u001b[0;34m(\u001b[0m\u001b[0mdata\u001b[0m\u001b[0;34m,\u001b[0m \u001b[0mindex\u001b[0m\u001b[0;34m,\u001b[0m \u001b[0mcolumns\u001b[0m\u001b[0;34m,\u001b[0m \u001b[0mdtype\u001b[0m\u001b[0;34m=\u001b[0m\u001b[0mdtype\u001b[0m\u001b[0;34m)\u001b[0m\u001b[0;34m\u001b[0m\u001b[0;34m\u001b[0m\u001b[0m\n\u001b[0m\u001b[1;32m    412\u001b[0m         \u001b[0;32melif\u001b[0m \u001b[0misinstance\u001b[0m\u001b[0;34m(\u001b[0m\u001b[0mdata\u001b[0m\u001b[0;34m,\u001b[0m \u001b[0mma\u001b[0m\u001b[0;34m.\u001b[0m\u001b[0mMaskedArray\u001b[0m\u001b[0;34m)\u001b[0m\u001b[0;34m:\u001b[0m\u001b[0;34m\u001b[0m\u001b[0;34m\u001b[0m\u001b[0m\n\u001b[1;32m    413\u001b[0m             \u001b[0;32mimport\u001b[0m \u001b[0mnumpy\u001b[0m\u001b[0;34m.\u001b[0m\u001b[0mma\u001b[0m\u001b[0;34m.\u001b[0m\u001b[0mmrecords\u001b[0m \u001b[0;32mas\u001b[0m \u001b[0mmrecords\u001b[0m\u001b[0;34m\u001b[0m\u001b[0;34m\u001b[0m\u001b[0m\n",
            "\u001b[0;32m/usr/local/lib/python3.6/dist-packages/pandas/core/internals/construction.py\u001b[0m in \u001b[0;36minit_dict\u001b[0;34m(data, index, columns, dtype)\u001b[0m\n\u001b[1;32m    255\u001b[0m             \u001b[0marr\u001b[0m \u001b[0;32mif\u001b[0m \u001b[0;32mnot\u001b[0m \u001b[0mis_datetime64tz_dtype\u001b[0m\u001b[0;34m(\u001b[0m\u001b[0marr\u001b[0m\u001b[0;34m)\u001b[0m \u001b[0;32melse\u001b[0m \u001b[0marr\u001b[0m\u001b[0;34m.\u001b[0m\u001b[0mcopy\u001b[0m\u001b[0;34m(\u001b[0m\u001b[0;34m)\u001b[0m \u001b[0;32mfor\u001b[0m \u001b[0marr\u001b[0m \u001b[0;32min\u001b[0m \u001b[0marrays\u001b[0m\u001b[0;34m\u001b[0m\u001b[0;34m\u001b[0m\u001b[0m\n\u001b[1;32m    256\u001b[0m         ]\n\u001b[0;32m--> 257\u001b[0;31m     \u001b[0;32mreturn\u001b[0m \u001b[0marrays_to_mgr\u001b[0m\u001b[0;34m(\u001b[0m\u001b[0marrays\u001b[0m\u001b[0;34m,\u001b[0m \u001b[0mdata_names\u001b[0m\u001b[0;34m,\u001b[0m \u001b[0mindex\u001b[0m\u001b[0;34m,\u001b[0m \u001b[0mcolumns\u001b[0m\u001b[0;34m,\u001b[0m \u001b[0mdtype\u001b[0m\u001b[0;34m=\u001b[0m\u001b[0mdtype\u001b[0m\u001b[0;34m)\u001b[0m\u001b[0;34m\u001b[0m\u001b[0;34m\u001b[0m\u001b[0m\n\u001b[0m\u001b[1;32m    258\u001b[0m \u001b[0;34m\u001b[0m\u001b[0m\n\u001b[1;32m    259\u001b[0m \u001b[0;34m\u001b[0m\u001b[0m\n",
            "\u001b[0;32m/usr/local/lib/python3.6/dist-packages/pandas/core/internals/construction.py\u001b[0m in \u001b[0;36marrays_to_mgr\u001b[0;34m(arrays, arr_names, index, columns, dtype)\u001b[0m\n\u001b[1;32m     75\u001b[0m     \u001b[0;31m# figure out the index, if necessary\u001b[0m\u001b[0;34m\u001b[0m\u001b[0;34m\u001b[0m\u001b[0;34m\u001b[0m\u001b[0m\n\u001b[1;32m     76\u001b[0m     \u001b[0;32mif\u001b[0m \u001b[0mindex\u001b[0m \u001b[0;32mis\u001b[0m \u001b[0;32mNone\u001b[0m\u001b[0;34m:\u001b[0m\u001b[0;34m\u001b[0m\u001b[0;34m\u001b[0m\u001b[0m\n\u001b[0;32m---> 77\u001b[0;31m         \u001b[0mindex\u001b[0m \u001b[0;34m=\u001b[0m \u001b[0mextract_index\u001b[0m\u001b[0;34m(\u001b[0m\u001b[0marrays\u001b[0m\u001b[0;34m)\u001b[0m\u001b[0;34m\u001b[0m\u001b[0;34m\u001b[0m\u001b[0m\n\u001b[0m\u001b[1;32m     78\u001b[0m     \u001b[0;32melse\u001b[0m\u001b[0;34m:\u001b[0m\u001b[0;34m\u001b[0m\u001b[0;34m\u001b[0m\u001b[0m\n\u001b[1;32m     79\u001b[0m         \u001b[0mindex\u001b[0m \u001b[0;34m=\u001b[0m \u001b[0mensure_index\u001b[0m\u001b[0;34m(\u001b[0m\u001b[0mindex\u001b[0m\u001b[0;34m)\u001b[0m\u001b[0;34m\u001b[0m\u001b[0;34m\u001b[0m\u001b[0m\n",
            "\u001b[0;32m/usr/local/lib/python3.6/dist-packages/pandas/core/internals/construction.py\u001b[0m in \u001b[0;36mextract_index\u001b[0;34m(data)\u001b[0m\n\u001b[1;32m    366\u001b[0m             \u001b[0mlengths\u001b[0m \u001b[0;34m=\u001b[0m \u001b[0mlist\u001b[0m\u001b[0;34m(\u001b[0m\u001b[0mset\u001b[0m\u001b[0;34m(\u001b[0m\u001b[0mraw_lengths\u001b[0m\u001b[0;34m)\u001b[0m\u001b[0;34m)\u001b[0m\u001b[0;34m\u001b[0m\u001b[0;34m\u001b[0m\u001b[0m\n\u001b[1;32m    367\u001b[0m             \u001b[0;32mif\u001b[0m \u001b[0mlen\u001b[0m\u001b[0;34m(\u001b[0m\u001b[0mlengths\u001b[0m\u001b[0;34m)\u001b[0m \u001b[0;34m>\u001b[0m \u001b[0;36m1\u001b[0m\u001b[0;34m:\u001b[0m\u001b[0;34m\u001b[0m\u001b[0;34m\u001b[0m\u001b[0m\n\u001b[0;32m--> 368\u001b[0;31m                 \u001b[0;32mraise\u001b[0m \u001b[0mValueError\u001b[0m\u001b[0;34m(\u001b[0m\u001b[0;34m\"arrays must all be same length\"\u001b[0m\u001b[0;34m)\u001b[0m\u001b[0;34m\u001b[0m\u001b[0;34m\u001b[0m\u001b[0m\n\u001b[0m\u001b[1;32m    369\u001b[0m \u001b[0;34m\u001b[0m\u001b[0m\n\u001b[1;32m    370\u001b[0m             \u001b[0;32mif\u001b[0m \u001b[0mhave_dicts\u001b[0m\u001b[0;34m:\u001b[0m\u001b[0;34m\u001b[0m\u001b[0;34m\u001b[0m\u001b[0m\n",
            "\u001b[0;31mValueError\u001b[0m: arrays must all be same length"
          ]
        }
      ]
    },
    {
      "cell_type": "markdown",
      "metadata": {
        "id": "W7N9Fb00Oktx",
        "colab_type": "text"
      },
      "source": [
        "# Keras and Kaggle kernel"
      ]
    },
    {
      "cell_type": "code",
      "metadata": {
        "id": "wO2MdwBfOe7e",
        "colab_type": "code",
        "colab": {
          "base_uri": "https://localhost:8080/",
          "height": 80
        },
        "outputId": "9be75163-b714-4024-9f8b-d1749ecb6ee5"
      },
      "source": [
        "import numpy as np\n",
        "import keras\n",
        "from keras.models import Sequential\n",
        "from keras.layers import Dense, Conv2D, BatchNormalization, Dropout, MaxPool2D, Input, Softmax, Activation, Flatten\n",
        "from keras.models import Model\n",
        "import os\n",
        "import cv2\n",
        "import scipy\n",
        "from keras.callbacks import ModelCheckpoint\n",
        "from keras.utils.vis_utils import plot_model\n",
        "import matplotlib.pyplot as plt"
      ],
      "execution_count": 2,
      "outputs": [
        {
          "output_type": "stream",
          "text": [
            "Using TensorFlow backend.\n"
          ],
          "name": "stderr"
        },
        {
          "output_type": "display_data",
          "data": {
            "text/html": [
              "<p style=\"color: red;\">\n",
              "The default version of TensorFlow in Colab will soon switch to TensorFlow 2.x.<br>\n",
              "We recommend you <a href=\"https://www.tensorflow.org/guide/migrate\" target=\"_blank\">upgrade</a> now \n",
              "or ensure your notebook will continue to use TensorFlow 1.x via the <code>%tensorflow_version 1.x</code> magic:\n",
              "<a href=\"https://colab.research.google.com/notebooks/tensorflow_version.ipynb\" target=\"_blank\">more info</a>.</p>\n"
            ],
            "text/plain": [
              "<IPython.core.display.HTML object>"
            ]
          },
          "metadata": {
            "tags": []
          }
        }
      ]
    },
    {
      "cell_type": "code",
      "metadata": {
        "id": "xXhy1bkdPIFk",
        "colab_type": "code",
        "colab": {}
      },
      "source": [
        "DIR = \"/content/drive/My Drive/Colab Notebooks/datasets/dataset2-master/dataset2-master/images/\"\n",
        "TEST = \"/content/drive/My Drive/Colab Notebooks/datasets/dataset2-master/dataset2-master/images/TEST/\"\n",
        "TRAIN = \"/content/drive/My Drive/Colab Notebooks/datasets/dataset2-master/dataset2-master/images/TRAIN/\""
      ],
      "execution_count": 0,
      "outputs": []
    },
    {
      "cell_type": "code",
      "metadata": {
        "id": "5fTLKaxJOjT8",
        "colab_type": "code",
        "colab": {
          "base_uri": "https://localhost:8080/",
          "height": 68
        },
        "outputId": "fb612632-d231-426c-b6fb-8f1a9b8109f2"
      },
      "source": [
        "!cd /content/drive/My Drive/Colab Notebooks/datasets/dataset2-master/dataset2-master/\n",
        "print(os.listdir(DIR))\n",
        "#!mkdir ../output\n",
        "#print(os.listdir(\"../output\"))\n",
        "!ls"
      ],
      "execution_count": 6,
      "outputs": [
        {
          "output_type": "stream",
          "text": [
            "/bin/bash: line 0: cd: too many arguments\n",
            "['TEST', 'TEST_SIMPLE', 'TRAIN']\n",
            "drive  sample_data\n"
          ],
          "name": "stdout"
        }
      ]
    },
    {
      "cell_type": "code",
      "metadata": {
        "id": "tZk5HyOmPMf2",
        "colab_type": "code",
        "colab": {
          "base_uri": "https://localhost:8080/",
          "height": 187
        },
        "outputId": "03d4aa88-78b5-4eb9-b2f7-7526506ecb1c"
      },
      "source": [
        "from tqdm import tqdm\n",
        "from skimage.transform import resize\n",
        "#import scipy.misc\n",
        "#from PIL import Image\n",
        "\n",
        "def get_data(folder):\n",
        "    X = []\n",
        "    y = []\n",
        "    z = []\n",
        "    \n",
        "    for wbc_type in os.listdir(folder):\n",
        "        if not wbc_type.startswith('.'):\n",
        "            if wbc_type in ['NEUTROPHIL']:\n",
        "                label = 1\n",
        "                label2 = 1\n",
        "            elif wbc_type in ['EOSINOPHIL']:\n",
        "                label = 2\n",
        "                label2 = 1\n",
        "            elif wbc_type in ['MONOCYTE']:\n",
        "                label = 3  \n",
        "                label2 = 0\n",
        "            elif wbc_type in ['LYMPHOCYTE']:\n",
        "                label = 4 \n",
        "                label2 = 0\n",
        "            else:\n",
        "                label = 5\n",
        "                label2 = 0\n",
        "            for image_filename in tqdm(os.listdir(folder + wbc_type)):\n",
        "                img_file = cv2.imread(folder + wbc_type + '/' + image_filename)\n",
        "                if img_file is not None:\n",
        "                    #img_file = Image.fromarray(img_file).resize=(60, 80, 3)\n",
        "                    #img_file = Image.resize()\n",
        "                    img_file  = resize(img_file,(60,80,3))\n",
        "                    img_arr = np.asarray(img_file)\n",
        "                    X.append(img_arr)\n",
        "                    y.append(label)\n",
        "                    z.append(label2)\n",
        "    X = np.asarray(X)\n",
        "    y = np.asarray(y)\n",
        "    z = np.asarray(z)\n",
        "    return X,y,z\n",
        "\n",
        "\n",
        "X_train, y_train, z_train = get_data(TRAIN)\n",
        "X_test, y_test, z_test = get_data(TEST)\n",
        "\n",
        "# Encode labels to hot vectors (ex : 2 -> [0,0,1,0,0,0,0,0,0,0])\n",
        "from keras.utils.np_utils import to_categorical\n",
        "y_trainHot = to_categorical(y_train, num_classes = 5)\n",
        "y_testHot = to_categorical(y_test, num_classes = 5)\n",
        "z_trainHot = to_categorical(z_train, num_classes = 2)\n",
        "z_testHot = to_categorical(z_test, num_classes = 2)\n",
        "dict_characters = {1:'NEUTROPHIL',2:'EOSINOPHIL',3:'MONOCYTE',4:'LYMPHOCYTE'}\n",
        "dict_characters2 = {0:'Mononuclear',1:'Polynuclear'}\n",
        "print(dict_characters)\n",
        "print(dict_characters2)\n",
        "\n",
        "            "
      ],
      "execution_count": 7,
      "outputs": [
        {
          "output_type": "stream",
          "text": [
            "100%|██████████| 2497/2497 [45:48<00:00,  1.06it/s]\n",
            "100%|██████████| 2483/2483 [41:23<00:00,  1.01it/s]\n",
            "100%|██████████| 2499/2499 [39:41<00:00,  1.07it/s]\n",
            "100%|██████████| 2478/2478 [39:13<00:00,  1.16it/s]\n",
            "100%|██████████| 624/624 [09:13<00:00,  1.04it/s]\n",
            "100%|██████████| 620/620 [09:30<00:00,  1.24it/s]\n",
            "100%|██████████| 623/623 [08:46<00:00,  1.16it/s]\n",
            "100%|██████████| 620/620 [08:29<00:00,  1.02it/s]"
          ],
          "name": "stderr"
        },
        {
          "output_type": "stream",
          "text": [
            "{1: 'NEUTROPHIL', 2: 'EOSINOPHIL', 3: 'MONOCYTE', 4: 'LYMPHOCYTE'}\n",
            "{0: 'Mononuclear', 1: 'Polynuclear'}\n"
          ],
          "name": "stdout"
        },
        {
          "output_type": "stream",
          "text": [
            "\n"
          ],
          "name": "stderr"
        }
      ]
    },
    {
      "cell_type": "code",
      "metadata": {
        "id": "5Uwz0OxKyFic",
        "colab_type": "code",
        "colab": {
          "base_uri": "https://localhost:8080/",
          "height": 68
        },
        "outputId": "ccea9abe-a344-4671-d471-78d3961fb937"
      },
      "source": [
        "print(\"Train X Shape --> \",X_train.shape)\n",
        "print(\"Train y Shape --> \",y_trainHot.shape)\n",
        "print(\"Train z Shape --> \",z_trainHot.shape)\n",
        "##\n",
        "# Input Layer (-1, 60, 80, 3) All three channel RGB\n",
        "# Output Layer 1 (-1, 5) Softmax\n",
        "# Output Layer 2 (-1, 2) Softmax (Doesn't work as 2nd output backpropogation messes all the weights)\n",
        "##"
      ],
      "execution_count": 8,
      "outputs": [
        {
          "output_type": "stream",
          "text": [
            "Train X Shape -->  (9957, 60, 80, 3)\n",
            "Train y Shape -->  (9957, 5)\n",
            "Train z Shape -->  (9957, 2)\n"
          ],
          "name": "stdout"
        }
      ]
    },
    {
      "cell_type": "code",
      "metadata": {
        "id": "iaO7cri1yIMD",
        "colab_type": "code",
        "colab": {}
      },
      "source": [
        "def keras_model():\n",
        "    inp = Input(shape=(60,80,3))\n",
        "    x = Conv2D(32, (11,11), padding=\"same\",activation=\"relu\")(inp)\n",
        "    x = Conv2D(32, (7,7), padding=\"valid\",activation=\"relu\")(inp)\n",
        "    x = MaxPool2D(pool_size=(2, 2))(x)\n",
        "    #x = BatchNormalization()(x)\n",
        "    #x = Dropout(0.5)(x)\n",
        "    x = Conv2D(32, (5, 5), padding=\"same\",activation=\"relu\")(x)\n",
        "    x = Conv2D(32, (5, 5), padding=\"valid\",activation=\"relu\")(x)\n",
        "    x = MaxPool2D(pool_size=(2, 2))(x)\n",
        "    #x = BatchNormalization()(x)\n",
        "    #x = Dropout(0.5)(x)\n",
        "    x = Conv2D(64, (3, 3), padding=\"same\",activation=\"relu\")(x)\n",
        "    x = Conv2D(64, (3, 3), padding=\"valid\",activation=\"relu\")(x)\n",
        "    x = MaxPool2D(pool_size=(2, 2))(x)\n",
        "    x = BatchNormalization()(x)\n",
        "    #x = Dropout(0.5)(x)\n",
        "    x = Flatten()(x)\n",
        "    x = Dense(1024,activation=\"relu\")(x)\n",
        "    x = Dropout(0.5)(x)\n",
        "    y = Dense(5,activation=\"softmax\")(x)\n",
        "#    z = Dense(2,activation=\"softmax\")(x)\n",
        "    model = Model(inp, y)\n",
        "    model.compile(loss='categorical_crossentropy',\n",
        "                  optimizer='adam',\n",
        "                  metrics=['accuracy'])\n",
        "    return model\n"
      ],
      "execution_count": 0,
      "outputs": []
    },
    {
      "cell_type": "code",
      "metadata": {
        "id": "uaYfU4OgyQoX",
        "colab_type": "code",
        "colab": {
          "base_uri": "https://localhost:8080/",
          "height": 1000
        },
        "outputId": "4bece643-e5c6-43cf-f2c5-d5652a2a1619"
      },
      "source": [
        "model = keras_model()\n",
        "model.summary()"
      ],
      "execution_count": 10,
      "outputs": [
        {
          "output_type": "stream",
          "text": [
            "WARNING:tensorflow:From /usr/local/lib/python3.6/dist-packages/keras/backend/tensorflow_backend.py:66: The name tf.get_default_graph is deprecated. Please use tf.compat.v1.get_default_graph instead.\n",
            "\n",
            "WARNING:tensorflow:From /usr/local/lib/python3.6/dist-packages/keras/backend/tensorflow_backend.py:541: The name tf.placeholder is deprecated. Please use tf.compat.v1.placeholder instead.\n",
            "\n",
            "WARNING:tensorflow:From /usr/local/lib/python3.6/dist-packages/keras/backend/tensorflow_backend.py:4432: The name tf.random_uniform is deprecated. Please use tf.random.uniform instead.\n",
            "\n",
            "WARNING:tensorflow:From /usr/local/lib/python3.6/dist-packages/keras/backend/tensorflow_backend.py:4267: The name tf.nn.max_pool is deprecated. Please use tf.nn.max_pool2d instead.\n",
            "\n",
            "WARNING:tensorflow:From /usr/local/lib/python3.6/dist-packages/keras/backend/tensorflow_backend.py:190: The name tf.get_default_session is deprecated. Please use tf.compat.v1.get_default_session instead.\n",
            "\n",
            "WARNING:tensorflow:From /usr/local/lib/python3.6/dist-packages/keras/backend/tensorflow_backend.py:197: The name tf.ConfigProto is deprecated. Please use tf.compat.v1.ConfigProto instead.\n",
            "\n",
            "WARNING:tensorflow:From /usr/local/lib/python3.6/dist-packages/keras/backend/tensorflow_backend.py:203: The name tf.Session is deprecated. Please use tf.compat.v1.Session instead.\n",
            "\n",
            "WARNING:tensorflow:From /usr/local/lib/python3.6/dist-packages/keras/backend/tensorflow_backend.py:207: The name tf.global_variables is deprecated. Please use tf.compat.v1.global_variables instead.\n",
            "\n",
            "WARNING:tensorflow:From /usr/local/lib/python3.6/dist-packages/keras/backend/tensorflow_backend.py:216: The name tf.is_variable_initialized is deprecated. Please use tf.compat.v1.is_variable_initialized instead.\n",
            "\n",
            "WARNING:tensorflow:From /usr/local/lib/python3.6/dist-packages/keras/backend/tensorflow_backend.py:223: The name tf.variables_initializer is deprecated. Please use tf.compat.v1.variables_initializer instead.\n",
            "\n",
            "WARNING:tensorflow:From /usr/local/lib/python3.6/dist-packages/keras/backend/tensorflow_backend.py:2041: The name tf.nn.fused_batch_norm is deprecated. Please use tf.compat.v1.nn.fused_batch_norm instead.\n",
            "\n",
            "WARNING:tensorflow:From /usr/local/lib/python3.6/dist-packages/keras/backend/tensorflow_backend.py:148: The name tf.placeholder_with_default is deprecated. Please use tf.compat.v1.placeholder_with_default instead.\n",
            "\n",
            "WARNING:tensorflow:From /usr/local/lib/python3.6/dist-packages/keras/backend/tensorflow_backend.py:3733: calling dropout (from tensorflow.python.ops.nn_ops) with keep_prob is deprecated and will be removed in a future version.\n",
            "Instructions for updating:\n",
            "Please use `rate` instead of `keep_prob`. Rate should be set to `rate = 1 - keep_prob`.\n",
            "WARNING:tensorflow:From /usr/local/lib/python3.6/dist-packages/keras/optimizers.py:793: The name tf.train.Optimizer is deprecated. Please use tf.compat.v1.train.Optimizer instead.\n",
            "\n",
            "WARNING:tensorflow:From /usr/local/lib/python3.6/dist-packages/keras/backend/tensorflow_backend.py:3576: The name tf.log is deprecated. Please use tf.math.log instead.\n",
            "\n",
            "Model: \"model_1\"\n",
            "_________________________________________________________________\n",
            "Layer (type)                 Output Shape              Param #   \n",
            "=================================================================\n",
            "input_1 (InputLayer)         (None, 60, 80, 3)         0         \n",
            "_________________________________________________________________\n",
            "conv2d_2 (Conv2D)            (None, 54, 74, 32)        4736      \n",
            "_________________________________________________________________\n",
            "max_pooling2d_1 (MaxPooling2 (None, 27, 37, 32)        0         \n",
            "_________________________________________________________________\n",
            "conv2d_3 (Conv2D)            (None, 27, 37, 32)        25632     \n",
            "_________________________________________________________________\n",
            "conv2d_4 (Conv2D)            (None, 23, 33, 32)        25632     \n",
            "_________________________________________________________________\n",
            "max_pooling2d_2 (MaxPooling2 (None, 11, 16, 32)        0         \n",
            "_________________________________________________________________\n",
            "conv2d_5 (Conv2D)            (None, 11, 16, 64)        18496     \n",
            "_________________________________________________________________\n",
            "conv2d_6 (Conv2D)            (None, 9, 14, 64)         36928     \n",
            "_________________________________________________________________\n",
            "max_pooling2d_3 (MaxPooling2 (None, 4, 7, 64)          0         \n",
            "_________________________________________________________________\n",
            "batch_normalization_1 (Batch (None, 4, 7, 64)          256       \n",
            "_________________________________________________________________\n",
            "flatten_1 (Flatten)          (None, 1792)              0         \n",
            "_________________________________________________________________\n",
            "dense_1 (Dense)              (None, 1024)              1836032   \n",
            "_________________________________________________________________\n",
            "dropout_1 (Dropout)          (None, 1024)              0         \n",
            "_________________________________________________________________\n",
            "dense_2 (Dense)              (None, 5)                 5125      \n",
            "=================================================================\n",
            "Total params: 1,952,837\n",
            "Trainable params: 1,952,709\n",
            "Non-trainable params: 128\n",
            "_________________________________________________________________\n"
          ],
          "name": "stdout"
        }
      ]
    },
    {
      "cell_type": "code",
      "metadata": {
        "id": "n0UrZqlzyXrq",
        "colab_type": "code",
        "colab": {
          "base_uri": "https://localhost:8080/",
          "height": 1000
        },
        "outputId": "8397452b-747d-46fa-c606-bc6d3ec10e64"
      },
      "source": [
        "filepath = \"weight_tr5.hdf5\"\n",
        "checkpoint = ModelCheckpoint(filepath, monitor='val_acc', verbose=1, save_best_only=True, mode='max')\n",
        "callbacks_list = [checkpoint]\n",
        "history = model.fit(X_train,\n",
        "         y_trainHot,\n",
        "         epochs = 300,\n",
        "         batch_size = 512,\n",
        "         validation_data = (X_test,y_testHot),\n",
        "         callbacks = callbacks_list,\n",
        "         verbose = 1)"
      ],
      "execution_count": 11,
      "outputs": [
        {
          "output_type": "stream",
          "text": [
            "WARNING:tensorflow:From /usr/local/lib/python3.6/dist-packages/tensorflow_core/python/ops/math_grad.py:1424: where (from tensorflow.python.ops.array_ops) is deprecated and will be removed in a future version.\n",
            "Instructions for updating:\n",
            "Use tf.where in 2.0, which has the same broadcast rule as np.where\n",
            "WARNING:tensorflow:From /usr/local/lib/python3.6/dist-packages/keras/backend/tensorflow_backend.py:1033: The name tf.assign_add is deprecated. Please use tf.compat.v1.assign_add instead.\n",
            "\n",
            "WARNING:tensorflow:From /usr/local/lib/python3.6/dist-packages/keras/backend/tensorflow_backend.py:1020: The name tf.assign is deprecated. Please use tf.compat.v1.assign instead.\n",
            "\n",
            "Train on 9957 samples, validate on 2487 samples\n",
            "Epoch 1/300\n",
            "9957/9957 [==============================] - 12s 1ms/step - loss: 1.3635 - acc: 0.3397 - val_loss: 2.0140 - val_acc: 0.2501\n",
            "\n",
            "Epoch 00001: val_acc improved from -inf to 0.25010, saving model to weight_tr5.hdf5\n",
            "Epoch 2/300\n",
            "9957/9957 [==============================] - 3s 327us/step - loss: 1.1100 - acc: 0.4852 - val_loss: 3.6550 - val_acc: 0.2517\n",
            "\n",
            "Epoch 00002: val_acc improved from 0.25010 to 0.25171, saving model to weight_tr5.hdf5\n",
            "Epoch 3/300\n",
            "9957/9957 [==============================] - 3s 326us/step - loss: 0.8455 - acc: 0.6343 - val_loss: 9.3661 - val_acc: 0.2497\n",
            "\n",
            "Epoch 00003: val_acc did not improve from 0.25171\n",
            "Epoch 4/300\n",
            "9957/9957 [==============================] - 3s 325us/step - loss: 0.6862 - acc: 0.7098 - val_loss: 12.0979 - val_acc: 0.2493\n",
            "\n",
            "Epoch 00004: val_acc did not improve from 0.25171\n",
            "Epoch 5/300\n",
            "9957/9957 [==============================] - 3s 326us/step - loss: 0.5674 - acc: 0.7620 - val_loss: 12.0165 - val_acc: 0.2493\n",
            "\n",
            "Epoch 00005: val_acc did not improve from 0.25171\n",
            "Epoch 6/300\n",
            "9957/9957 [==============================] - 3s 326us/step - loss: 0.4828 - acc: 0.8027 - val_loss: 7.3273 - val_acc: 0.3554\n",
            "\n",
            "Epoch 00006: val_acc improved from 0.25171 to 0.35545, saving model to weight_tr5.hdf5\n",
            "Epoch 7/300\n",
            "9957/9957 [==============================] - 3s 324us/step - loss: 0.3769 - acc: 0.8497 - val_loss: 9.6399 - val_acc: 0.2827\n",
            "\n",
            "Epoch 00007: val_acc did not improve from 0.35545\n",
            "Epoch 8/300\n",
            "9957/9957 [==============================] - 3s 326us/step - loss: 0.3187 - acc: 0.8760 - val_loss: 10.8403 - val_acc: 0.2521\n",
            "\n",
            "Epoch 00008: val_acc did not improve from 0.35545\n",
            "Epoch 9/300\n",
            "9957/9957 [==============================] - 3s 326us/step - loss: 0.3012 - acc: 0.8771 - val_loss: 12.0999 - val_acc: 0.2493\n",
            "\n",
            "Epoch 00009: val_acc did not improve from 0.35545\n",
            "Epoch 10/300\n",
            "9957/9957 [==============================] - 3s 326us/step - loss: 0.2620 - acc: 0.8979 - val_loss: 10.9214 - val_acc: 0.2610\n",
            "\n",
            "Epoch 00010: val_acc did not improve from 0.35545\n",
            "Epoch 11/300\n",
            "9957/9957 [==============================] - 3s 324us/step - loss: 0.2091 - acc: 0.9225 - val_loss: 9.1333 - val_acc: 0.2919\n",
            "\n",
            "Epoch 00011: val_acc did not improve from 0.35545\n",
            "Epoch 12/300\n",
            "9957/9957 [==============================] - 3s 329us/step - loss: 0.1752 - acc: 0.9381 - val_loss: 8.7209 - val_acc: 0.3261\n",
            "\n",
            "Epoch 00012: val_acc did not improve from 0.35545\n",
            "Epoch 13/300\n",
            "9957/9957 [==============================] - 3s 324us/step - loss: 0.2557 - acc: 0.9036 - val_loss: 6.2626 - val_acc: 0.3422\n",
            "\n",
            "Epoch 00013: val_acc did not improve from 0.35545\n",
            "Epoch 14/300\n",
            "9957/9957 [==============================] - 3s 325us/step - loss: 0.1826 - acc: 0.9307 - val_loss: 10.0464 - val_acc: 0.3028\n",
            "\n",
            "Epoch 00014: val_acc did not improve from 0.35545\n",
            "Epoch 15/300\n",
            "9957/9957 [==============================] - 3s 324us/step - loss: 0.1374 - acc: 0.9531 - val_loss: 8.2802 - val_acc: 0.3514\n",
            "\n",
            "Epoch 00015: val_acc did not improve from 0.35545\n",
            "Epoch 16/300\n",
            "9957/9957 [==============================] - 3s 327us/step - loss: 0.1033 - acc: 0.9667 - val_loss: 10.3133 - val_acc: 0.3245\n",
            "\n",
            "Epoch 00016: val_acc did not improve from 0.35545\n",
            "Epoch 17/300\n",
            "9957/9957 [==============================] - 3s 323us/step - loss: 0.0878 - acc: 0.9726 - val_loss: 11.5416 - val_acc: 0.2509\n",
            "\n",
            "Epoch 00017: val_acc did not improve from 0.35545\n",
            "Epoch 18/300\n",
            "9957/9957 [==============================] - 3s 327us/step - loss: 0.0824 - acc: 0.9719 - val_loss: 11.6380 - val_acc: 0.2501\n",
            "\n",
            "Epoch 00018: val_acc did not improve from 0.35545\n",
            "Epoch 19/300\n",
            "9957/9957 [==============================] - 3s 326us/step - loss: 0.0761 - acc: 0.9776 - val_loss: 7.8976 - val_acc: 0.3571\n",
            "\n",
            "Epoch 00019: val_acc improved from 0.35545 to 0.35706, saving model to weight_tr5.hdf5\n",
            "Epoch 20/300\n",
            "9957/9957 [==============================] - 3s 326us/step - loss: 0.0611 - acc: 0.9826 - val_loss: 9.0730 - val_acc: 0.3205\n",
            "\n",
            "Epoch 00020: val_acc did not improve from 0.35706\n",
            "Epoch 21/300\n",
            "9957/9957 [==============================] - 3s 325us/step - loss: 0.0493 - acc: 0.9853 - val_loss: 8.6043 - val_acc: 0.3382\n",
            "\n",
            "Epoch 00021: val_acc did not improve from 0.35706\n",
            "Epoch 22/300\n",
            "9957/9957 [==============================] - 3s 324us/step - loss: 0.0513 - acc: 0.9858 - val_loss: 5.2969 - val_acc: 0.5243\n",
            "\n",
            "Epoch 00022: val_acc improved from 0.35706 to 0.52433, saving model to weight_tr5.hdf5\n",
            "Epoch 23/300\n",
            "9957/9957 [==============================] - 3s 323us/step - loss: 0.0543 - acc: 0.9851 - val_loss: 9.3010 - val_acc: 0.2726\n",
            "\n",
            "Epoch 00023: val_acc did not improve from 0.52433\n",
            "Epoch 24/300\n",
            "9957/9957 [==============================] - 3s 325us/step - loss: 0.0444 - acc: 0.9883 - val_loss: 5.9171 - val_acc: 0.3989\n",
            "\n",
            "Epoch 00024: val_acc did not improve from 0.52433\n",
            "Epoch 25/300\n",
            "9957/9957 [==============================] - 3s 326us/step - loss: 0.0455 - acc: 0.9871 - val_loss: 3.7040 - val_acc: 0.5195\n",
            "\n",
            "Epoch 00025: val_acc did not improve from 0.52433\n",
            "Epoch 26/300\n",
            "9957/9957 [==============================] - 3s 325us/step - loss: 0.0460 - acc: 0.9858 - val_loss: 7.5283 - val_acc: 0.3080\n",
            "\n",
            "Epoch 00026: val_acc did not improve from 0.52433\n",
            "Epoch 27/300\n",
            "9957/9957 [==============================] - 3s 325us/step - loss: 0.0540 - acc: 0.9826 - val_loss: 6.5131 - val_acc: 0.4129\n",
            "\n",
            "Epoch 00027: val_acc did not improve from 0.52433\n",
            "Epoch 28/300\n",
            "9957/9957 [==============================] - 3s 323us/step - loss: 0.0515 - acc: 0.9829 - val_loss: 12.0798 - val_acc: 0.2505\n",
            "\n",
            "Epoch 00028: val_acc did not improve from 0.52433\n",
            "Epoch 29/300\n",
            "9957/9957 [==============================] - 3s 325us/step - loss: 0.0432 - acc: 0.9863 - val_loss: 3.9970 - val_acc: 0.5143\n",
            "\n",
            "Epoch 00029: val_acc did not improve from 0.52433\n",
            "Epoch 30/300\n",
            "9957/9957 [==============================] - 3s 324us/step - loss: 0.0361 - acc: 0.9893 - val_loss: 5.0884 - val_acc: 0.5215\n",
            "\n",
            "Epoch 00030: val_acc did not improve from 0.52433\n",
            "Epoch 31/300\n",
            "9957/9957 [==============================] - 3s 325us/step - loss: 0.0377 - acc: 0.9887 - val_loss: 8.6632 - val_acc: 0.2754\n",
            "\n",
            "Epoch 00031: val_acc did not improve from 0.52433\n",
            "Epoch 32/300\n",
            "9957/9957 [==============================] - 3s 325us/step - loss: 0.0268 - acc: 0.9921 - val_loss: 6.3501 - val_acc: 0.3398\n",
            "\n",
            "Epoch 00032: val_acc did not improve from 0.52433\n",
            "Epoch 33/300\n",
            "9957/9957 [==============================] - 3s 324us/step - loss: 0.0252 - acc: 0.9931 - val_loss: 3.1433 - val_acc: 0.5625\n",
            "\n",
            "Epoch 00033: val_acc improved from 0.52433 to 0.56253, saving model to weight_tr5.hdf5\n",
            "Epoch 34/300\n",
            "9957/9957 [==============================] - 3s 322us/step - loss: 0.0214 - acc: 0.9945 - val_loss: 6.6403 - val_acc: 0.4310\n",
            "\n",
            "Epoch 00034: val_acc did not improve from 0.56253\n",
            "Epoch 35/300\n",
            "9957/9957 [==============================] - 3s 321us/step - loss: 0.0303 - acc: 0.9923 - val_loss: 10.1924 - val_acc: 0.2553\n",
            "\n",
            "Epoch 00035: val_acc did not improve from 0.56253\n",
            "Epoch 36/300\n",
            "9957/9957 [==============================] - 3s 325us/step - loss: 0.0227 - acc: 0.9943 - val_loss: 10.9310 - val_acc: 0.2602\n",
            "\n",
            "Epoch 00036: val_acc did not improve from 0.56253\n",
            "Epoch 37/300\n",
            "9957/9957 [==============================] - 3s 324us/step - loss: 0.0194 - acc: 0.9952 - val_loss: 7.5792 - val_acc: 0.3631\n",
            "\n",
            "Epoch 00037: val_acc did not improve from 0.56253\n",
            "Epoch 38/300\n",
            "9957/9957 [==============================] - 3s 325us/step - loss: 0.0231 - acc: 0.9931 - val_loss: 4.6578 - val_acc: 0.5090\n",
            "\n",
            "Epoch 00038: val_acc did not improve from 0.56253\n",
            "Epoch 39/300\n",
            "9957/9957 [==============================] - 3s 324us/step - loss: 0.0192 - acc: 0.9955 - val_loss: 6.2523 - val_acc: 0.3675\n",
            "\n",
            "Epoch 00039: val_acc did not improve from 0.56253\n",
            "Epoch 40/300\n",
            "9957/9957 [==============================] - 3s 327us/step - loss: 0.0185 - acc: 0.9957 - val_loss: 4.9891 - val_acc: 0.5054\n",
            "\n",
            "Epoch 00040: val_acc did not improve from 0.56253\n",
            "Epoch 41/300\n",
            "9957/9957 [==============================] - 3s 325us/step - loss: 0.0171 - acc: 0.9955 - val_loss: 8.4546 - val_acc: 0.3687\n",
            "\n",
            "Epoch 00041: val_acc did not improve from 0.56253\n",
            "Epoch 42/300\n",
            "9957/9957 [==============================] - 3s 323us/step - loss: 0.1654 - acc: 0.9609 - val_loss: 8.5911 - val_acc: 0.2851\n",
            "\n",
            "Epoch 00042: val_acc did not improve from 0.56253\n",
            "Epoch 43/300\n",
            "9957/9957 [==============================] - 3s 323us/step - loss: 0.2515 - acc: 0.9120 - val_loss: 11.0743 - val_acc: 0.2786\n",
            "\n",
            "Epoch 00043: val_acc did not improve from 0.56253\n",
            "Epoch 44/300\n",
            "9957/9957 [==============================] - 3s 322us/step - loss: 0.1146 - acc: 0.9616 - val_loss: 9.2180 - val_acc: 0.3273\n",
            "\n",
            "Epoch 00044: val_acc did not improve from 0.56253\n",
            "Epoch 45/300\n",
            "9957/9957 [==============================] - 3s 326us/step - loss: 0.0681 - acc: 0.9783 - val_loss: 7.0495 - val_acc: 0.4596\n",
            "\n",
            "Epoch 00045: val_acc did not improve from 0.56253\n",
            "Epoch 46/300\n",
            "9957/9957 [==============================] - 3s 326us/step - loss: 0.0525 - acc: 0.9827 - val_loss: 3.7298 - val_acc: 0.5195\n",
            "\n",
            "Epoch 00046: val_acc did not improve from 0.56253\n",
            "Epoch 47/300\n",
            "9957/9957 [==============================] - 3s 323us/step - loss: 0.0385 - acc: 0.9889 - val_loss: 6.8288 - val_acc: 0.3595\n",
            "\n",
            "Epoch 00047: val_acc did not improve from 0.56253\n",
            "Epoch 48/300\n",
            "9957/9957 [==============================] - 3s 322us/step - loss: 0.0289 - acc: 0.9914 - val_loss: 3.1369 - val_acc: 0.5573\n",
            "\n",
            "Epoch 00048: val_acc did not improve from 0.56253\n",
            "Epoch 49/300\n",
            "9957/9957 [==============================] - 3s 324us/step - loss: 0.0302 - acc: 0.9903 - val_loss: 7.6525 - val_acc: 0.3659\n",
            "\n",
            "Epoch 00049: val_acc did not improve from 0.56253\n",
            "Epoch 50/300\n",
            "9957/9957 [==============================] - 3s 324us/step - loss: 0.0286 - acc: 0.9918 - val_loss: 5.6754 - val_acc: 0.4250\n",
            "\n",
            "Epoch 00050: val_acc did not improve from 0.56253\n",
            "Epoch 51/300\n",
            "9957/9957 [==============================] - 3s 325us/step - loss: 0.0217 - acc: 0.9940 - val_loss: 5.7617 - val_acc: 0.5147\n",
            "\n",
            "Epoch 00051: val_acc did not improve from 0.56253\n",
            "Epoch 52/300\n",
            "9957/9957 [==============================] - 3s 326us/step - loss: 0.0148 - acc: 0.9966 - val_loss: 4.3332 - val_acc: 0.5239\n",
            "\n",
            "Epoch 00052: val_acc did not improve from 0.56253\n",
            "Epoch 53/300\n",
            "9957/9957 [==============================] - 3s 323us/step - loss: 0.0157 - acc: 0.9957 - val_loss: 2.7360 - val_acc: 0.5963\n",
            "\n",
            "Epoch 00053: val_acc improved from 0.56253 to 0.59630, saving model to weight_tr5.hdf5\n",
            "Epoch 54/300\n",
            "9957/9957 [==============================] - 3s 322us/step - loss: 0.0129 - acc: 0.9969 - val_loss: 2.5956 - val_acc: 0.6043\n",
            "\n",
            "Epoch 00054: val_acc improved from 0.59630 to 0.60434, saving model to weight_tr5.hdf5\n",
            "Epoch 55/300\n",
            "9957/9957 [==============================] - 3s 325us/step - loss: 0.0117 - acc: 0.9965 - val_loss: 8.2430 - val_acc: 0.3788\n",
            "\n",
            "Epoch 00055: val_acc did not improve from 0.60434\n",
            "Epoch 56/300\n",
            "9957/9957 [==============================] - 3s 325us/step - loss: 0.0121 - acc: 0.9969 - val_loss: 2.8692 - val_acc: 0.6088\n",
            "\n",
            "Epoch 00056: val_acc improved from 0.60434 to 0.60877, saving model to weight_tr5.hdf5\n",
            "Epoch 57/300\n",
            "9957/9957 [==============================] - 3s 322us/step - loss: 0.0119 - acc: 0.9965 - val_loss: 2.8038 - val_acc: 0.6080\n",
            "\n",
            "Epoch 00057: val_acc did not improve from 0.60877\n",
            "Epoch 58/300\n",
            "9957/9957 [==============================] - 3s 323us/step - loss: 0.0097 - acc: 0.9978 - val_loss: 6.8434 - val_acc: 0.4097\n",
            "\n",
            "Epoch 00058: val_acc did not improve from 0.60877\n",
            "Epoch 59/300\n",
            "9957/9957 [==============================] - 3s 322us/step - loss: 0.0084 - acc: 0.9978 - val_loss: 3.4808 - val_acc: 0.5738\n",
            "\n",
            "Epoch 00059: val_acc did not improve from 0.60877\n",
            "Epoch 60/300\n",
            "9957/9957 [==============================] - 3s 323us/step - loss: 0.0076 - acc: 0.9982 - val_loss: 2.6885 - val_acc: 0.5867\n",
            "\n",
            "Epoch 00060: val_acc did not improve from 0.60877\n",
            "Epoch 61/300\n",
            "9957/9957 [==============================] - 3s 323us/step - loss: 0.0087 - acc: 0.9973 - val_loss: 2.7895 - val_acc: 0.6257\n",
            "\n",
            "Epoch 00061: val_acc improved from 0.60877 to 0.62565, saving model to weight_tr5.hdf5\n",
            "Epoch 62/300\n",
            "9957/9957 [==============================] - 3s 326us/step - loss: 0.0097 - acc: 0.9977 - val_loss: 4.3693 - val_acc: 0.4918\n",
            "\n",
            "Epoch 00062: val_acc did not improve from 0.62565\n",
            "Epoch 63/300\n",
            "9957/9957 [==============================] - 3s 325us/step - loss: 0.0096 - acc: 0.9972 - val_loss: 3.3614 - val_acc: 0.5854\n",
            "\n",
            "Epoch 00063: val_acc did not improve from 0.62565\n",
            "Epoch 64/300\n",
            "9957/9957 [==============================] - 3s 325us/step - loss: 0.0075 - acc: 0.9982 - val_loss: 5.7246 - val_acc: 0.5082\n",
            "\n",
            "Epoch 00064: val_acc did not improve from 0.62565\n",
            "Epoch 65/300\n",
            "9957/9957 [==============================] - 3s 326us/step - loss: 0.0097 - acc: 0.9980 - val_loss: 3.2025 - val_acc: 0.5702\n",
            "\n",
            "Epoch 00065: val_acc did not improve from 0.62565\n",
            "Epoch 66/300\n",
            "9957/9957 [==============================] - 3s 324us/step - loss: 0.0138 - acc: 0.9962 - val_loss: 5.0367 - val_acc: 0.4282\n",
            "\n",
            "Epoch 00066: val_acc did not improve from 0.62565\n",
            "Epoch 67/300\n",
            "9957/9957 [==============================] - 3s 322us/step - loss: 0.0121 - acc: 0.9969 - val_loss: 5.7333 - val_acc: 0.4226\n",
            "\n",
            "Epoch 00067: val_acc did not improve from 0.62565\n",
            "Epoch 68/300\n",
            "9957/9957 [==============================] - 3s 320us/step - loss: 0.0131 - acc: 0.9959 - val_loss: 8.3793 - val_acc: 0.3824\n",
            "\n",
            "Epoch 00068: val_acc did not improve from 0.62565\n",
            "Epoch 69/300\n",
            "9957/9957 [==============================] - 3s 318us/step - loss: 0.0100 - acc: 0.9972 - val_loss: 6.9919 - val_acc: 0.3510\n",
            "\n",
            "Epoch 00069: val_acc did not improve from 0.62565\n",
            "Epoch 70/300\n",
            "9957/9957 [==============================] - 3s 320us/step - loss: 0.0071 - acc: 0.9984 - val_loss: 6.3076 - val_acc: 0.4146\n",
            "\n",
            "Epoch 00070: val_acc did not improve from 0.62565\n",
            "Epoch 71/300\n",
            "9957/9957 [==============================] - 3s 319us/step - loss: 0.0084 - acc: 0.9976 - val_loss: 5.8532 - val_acc: 0.4415\n",
            "\n",
            "Epoch 00071: val_acc did not improve from 0.62565\n",
            "Epoch 72/300\n",
            "9957/9957 [==============================] - 3s 318us/step - loss: 0.0076 - acc: 0.9976 - val_loss: 2.5961 - val_acc: 0.6462\n",
            "\n",
            "Epoch 00072: val_acc improved from 0.62565 to 0.64616, saving model to weight_tr5.hdf5\n",
            "Epoch 73/300\n",
            "9957/9957 [==============================] - 3s 321us/step - loss: 0.0066 - acc: 0.9985 - val_loss: 5.2165 - val_acc: 0.4564\n",
            "\n",
            "Epoch 00073: val_acc did not improve from 0.64616\n",
            "Epoch 74/300\n",
            "9957/9957 [==============================] - 3s 316us/step - loss: 0.0092 - acc: 0.9979 - val_loss: 4.1702 - val_acc: 0.5678\n",
            "\n",
            "Epoch 00074: val_acc did not improve from 0.64616\n",
            "Epoch 75/300\n",
            "9957/9957 [==============================] - 3s 315us/step - loss: 0.0126 - acc: 0.9965 - val_loss: 6.1068 - val_acc: 0.4652\n",
            "\n",
            "Epoch 00075: val_acc did not improve from 0.64616\n",
            "Epoch 76/300\n",
            "9957/9957 [==============================] - 3s 316us/step - loss: 0.0093 - acc: 0.9976 - val_loss: 4.5463 - val_acc: 0.5565\n",
            "\n",
            "Epoch 00076: val_acc did not improve from 0.64616\n",
            "Epoch 77/300\n",
            "9957/9957 [==============================] - 3s 314us/step - loss: 0.0076 - acc: 0.9977 - val_loss: 3.1582 - val_acc: 0.5822\n",
            "\n",
            "Epoch 00077: val_acc did not improve from 0.64616\n",
            "Epoch 78/300\n",
            "9957/9957 [==============================] - 3s 314us/step - loss: 0.0097 - acc: 0.9971 - val_loss: 8.2781 - val_acc: 0.3462\n",
            "\n",
            "Epoch 00078: val_acc did not improve from 0.64616\n",
            "Epoch 79/300\n",
            "9957/9957 [==============================] - 3s 317us/step - loss: 0.0074 - acc: 0.9983 - val_loss: 3.4696 - val_acc: 0.5557\n",
            "\n",
            "Epoch 00079: val_acc did not improve from 0.64616\n",
            "Epoch 80/300\n",
            "9957/9957 [==============================] - 3s 314us/step - loss: 0.0068 - acc: 0.9980 - val_loss: 3.2581 - val_acc: 0.5806\n",
            "\n",
            "Epoch 00080: val_acc did not improve from 0.64616\n",
            "Epoch 81/300\n",
            "9957/9957 [==============================] - 3s 315us/step - loss: 0.0069 - acc: 0.9985 - val_loss: 5.5658 - val_acc: 0.5107\n",
            "\n",
            "Epoch 00081: val_acc did not improve from 0.64616\n",
            "Epoch 82/300\n",
            "9957/9957 [==============================] - 3s 317us/step - loss: 0.0047 - acc: 0.9991 - val_loss: 3.8551 - val_acc: 0.5786\n",
            "\n",
            "Epoch 00082: val_acc did not improve from 0.64616\n",
            "Epoch 83/300\n",
            "9957/9957 [==============================] - 3s 315us/step - loss: 0.0041 - acc: 0.9988 - val_loss: 2.6276 - val_acc: 0.6277\n",
            "\n",
            "Epoch 00083: val_acc did not improve from 0.64616\n",
            "Epoch 84/300\n",
            "9957/9957 [==============================] - 3s 315us/step - loss: 0.0076 - acc: 0.9984 - val_loss: 6.0096 - val_acc: 0.4930\n",
            "\n",
            "Epoch 00084: val_acc did not improve from 0.64616\n",
            "Epoch 85/300\n",
            "9957/9957 [==============================] - 3s 315us/step - loss: 0.0153 - acc: 0.9960 - val_loss: 5.2701 - val_acc: 0.4467\n",
            "\n",
            "Epoch 00085: val_acc did not improve from 0.64616\n",
            "Epoch 86/300\n",
            "9957/9957 [==============================] - 3s 314us/step - loss: 0.0106 - acc: 0.9973 - val_loss: 9.1683 - val_acc: 0.3233\n",
            "\n",
            "Epoch 00086: val_acc did not improve from 0.64616\n",
            "Epoch 87/300\n",
            "9957/9957 [==============================] - 3s 315us/step - loss: 0.0080 - acc: 0.9985 - val_loss: 8.0129 - val_acc: 0.3422\n",
            "\n",
            "Epoch 00087: val_acc did not improve from 0.64616\n",
            "Epoch 88/300\n",
            "9957/9957 [==============================] - 3s 313us/step - loss: 0.0064 - acc: 0.9982 - val_loss: 9.3953 - val_acc: 0.3189\n",
            "\n",
            "Epoch 00088: val_acc did not improve from 0.64616\n",
            "Epoch 89/300\n",
            "9957/9957 [==============================] - 3s 314us/step - loss: 0.0083 - acc: 0.9972 - val_loss: 3.5185 - val_acc: 0.5907\n",
            "\n",
            "Epoch 00089: val_acc did not improve from 0.64616\n",
            "Epoch 90/300\n",
            "9957/9957 [==============================] - 3s 316us/step - loss: 0.0067 - acc: 0.9987 - val_loss: 3.8327 - val_acc: 0.5440\n",
            "\n",
            "Epoch 00090: val_acc did not improve from 0.64616\n",
            "Epoch 91/300\n",
            "9957/9957 [==============================] - 3s 314us/step - loss: 0.0084 - acc: 0.9973 - val_loss: 8.3341 - val_acc: 0.4105\n",
            "\n",
            "Epoch 00091: val_acc did not improve from 0.64616\n",
            "Epoch 92/300\n",
            "9957/9957 [==============================] - 3s 316us/step - loss: 0.0122 - acc: 0.9967 - val_loss: 6.0245 - val_acc: 0.5147\n",
            "\n",
            "Epoch 00092: val_acc did not improve from 0.64616\n",
            "Epoch 93/300\n",
            "9957/9957 [==============================] - 3s 314us/step - loss: 0.0149 - acc: 0.9961 - val_loss: 5.3152 - val_acc: 0.4958\n",
            "\n",
            "Epoch 00093: val_acc did not improve from 0.64616\n",
            "Epoch 94/300\n",
            "9957/9957 [==============================] - 3s 317us/step - loss: 0.0172 - acc: 0.9949 - val_loss: 5.5887 - val_acc: 0.4355\n",
            "\n",
            "Epoch 00094: val_acc did not improve from 0.64616\n",
            "Epoch 95/300\n",
            "9957/9957 [==============================] - 3s 314us/step - loss: 0.0180 - acc: 0.9939 - val_loss: 8.5708 - val_acc: 0.4061\n",
            "\n",
            "Epoch 00095: val_acc did not improve from 0.64616\n",
            "Epoch 96/300\n",
            "9957/9957 [==============================] - 3s 315us/step - loss: 0.0215 - acc: 0.9928 - val_loss: 8.7229 - val_acc: 0.3892\n",
            "\n",
            "Epoch 00096: val_acc did not improve from 0.64616\n",
            "Epoch 97/300\n",
            "9957/9957 [==============================] - 3s 317us/step - loss: 0.0629 - acc: 0.9813 - val_loss: 9.1752 - val_acc: 0.3667\n",
            "\n",
            "Epoch 00097: val_acc did not improve from 0.64616\n",
            "Epoch 98/300\n",
            "9957/9957 [==============================] - 3s 315us/step - loss: 0.0288 - acc: 0.9910 - val_loss: 9.5632 - val_acc: 0.3635\n",
            "\n",
            "Epoch 00098: val_acc did not improve from 0.64616\n",
            "Epoch 99/300\n",
            "9957/9957 [==============================] - 3s 315us/step - loss: 0.0323 - acc: 0.9894 - val_loss: 8.7408 - val_acc: 0.4411\n",
            "\n",
            "Epoch 00099: val_acc did not improve from 0.64616\n",
            "Epoch 100/300\n",
            "9957/9957 [==============================] - 3s 316us/step - loss: 0.0312 - acc: 0.9902 - val_loss: 11.3511 - val_acc: 0.2766\n",
            "\n",
            "Epoch 00100: val_acc did not improve from 0.64616\n",
            "Epoch 101/300\n",
            "9957/9957 [==============================] - 3s 317us/step - loss: 0.0296 - acc: 0.9893 - val_loss: 10.4497 - val_acc: 0.3036\n",
            "\n",
            "Epoch 00101: val_acc did not improve from 0.64616\n",
            "Epoch 102/300\n",
            "9957/9957 [==============================] - 3s 314us/step - loss: 0.0210 - acc: 0.9937 - val_loss: 11.9461 - val_acc: 0.2501\n",
            "\n",
            "Epoch 00102: val_acc did not improve from 0.64616\n",
            "Epoch 103/300\n",
            "9957/9957 [==============================] - 3s 317us/step - loss: 0.0175 - acc: 0.9941 - val_loss: 9.0628 - val_acc: 0.3792\n",
            "\n",
            "Epoch 00103: val_acc did not improve from 0.64616\n",
            "Epoch 104/300\n",
            "9957/9957 [==============================] - 3s 315us/step - loss: 0.0178 - acc: 0.9945 - val_loss: 2.9601 - val_acc: 0.6184\n",
            "\n",
            "Epoch 00104: val_acc did not improve from 0.64616\n",
            "Epoch 105/300\n",
            "9957/9957 [==============================] - 3s 313us/step - loss: 0.0134 - acc: 0.9957 - val_loss: 4.3384 - val_acc: 0.5460\n",
            "\n",
            "Epoch 00105: val_acc did not improve from 0.64616\n",
            "Epoch 106/300\n",
            "9957/9957 [==============================] - 3s 314us/step - loss: 0.0151 - acc: 0.9948 - val_loss: 5.2293 - val_acc: 0.4628\n",
            "\n",
            "Epoch 00106: val_acc did not improve from 0.64616\n",
            "Epoch 107/300\n",
            "9957/9957 [==============================] - 3s 313us/step - loss: 0.0217 - acc: 0.9929 - val_loss: 12.0805 - val_acc: 0.2505\n",
            "\n",
            "Epoch 00107: val_acc did not improve from 0.64616\n",
            "Epoch 108/300\n",
            "9957/9957 [==============================] - 3s 315us/step - loss: 0.0181 - acc: 0.9943 - val_loss: 7.2425 - val_acc: 0.4439\n",
            "\n",
            "Epoch 00108: val_acc did not improve from 0.64616\n",
            "Epoch 109/300\n",
            "9957/9957 [==============================] - 3s 317us/step - loss: 0.0126 - acc: 0.9967 - val_loss: 4.1139 - val_acc: 0.5653\n",
            "\n",
            "Epoch 00109: val_acc did not improve from 0.64616\n",
            "Epoch 110/300\n",
            "9957/9957 [==============================] - 3s 316us/step - loss: 0.0101 - acc: 0.9968 - val_loss: 4.0534 - val_acc: 0.6116\n",
            "\n",
            "Epoch 00110: val_acc did not improve from 0.64616\n",
            "Epoch 111/300\n",
            "9957/9957 [==============================] - 3s 314us/step - loss: 0.0121 - acc: 0.9960 - val_loss: 7.1040 - val_acc: 0.3719\n",
            "\n",
            "Epoch 00111: val_acc did not improve from 0.64616\n",
            "Epoch 112/300\n",
            "9957/9957 [==============================] - 3s 317us/step - loss: 0.0089 - acc: 0.9977 - val_loss: 2.4791 - val_acc: 0.6433\n",
            "\n",
            "Epoch 00112: val_acc did not improve from 0.64616\n",
            "Epoch 113/300\n",
            "9957/9957 [==============================] - 3s 314us/step - loss: 0.0105 - acc: 0.9968 - val_loss: 5.5094 - val_acc: 0.5086\n",
            "\n",
            "Epoch 00113: val_acc did not improve from 0.64616\n",
            "Epoch 114/300\n",
            "9957/9957 [==============================] - 3s 316us/step - loss: 0.0119 - acc: 0.9971 - val_loss: 5.3105 - val_acc: 0.4624\n",
            "\n",
            "Epoch 00114: val_acc did not improve from 0.64616\n",
            "Epoch 115/300\n",
            "9957/9957 [==============================] - 3s 314us/step - loss: 0.0135 - acc: 0.9959 - val_loss: 8.5613 - val_acc: 0.3181\n",
            "\n",
            "Epoch 00115: val_acc did not improve from 0.64616\n",
            "Epoch 116/300\n",
            "9957/9957 [==============================] - 3s 317us/step - loss: 0.0138 - acc: 0.9952 - val_loss: 4.9179 - val_acc: 0.5593\n",
            "\n",
            "Epoch 00116: val_acc did not improve from 0.64616\n",
            "Epoch 117/300\n",
            "9957/9957 [==============================] - 3s 314us/step - loss: 0.0140 - acc: 0.9966 - val_loss: 6.4070 - val_acc: 0.4680\n",
            "\n",
            "Epoch 00117: val_acc did not improve from 0.64616\n",
            "Epoch 118/300\n",
            "9957/9957 [==============================] - 3s 314us/step - loss: 0.0217 - acc: 0.9926 - val_loss: 3.9169 - val_acc: 0.5963\n",
            "\n",
            "Epoch 00118: val_acc did not improve from 0.64616\n",
            "Epoch 119/300\n",
            "9957/9957 [==============================] - 3s 316us/step - loss: 0.0193 - acc: 0.9943 - val_loss: 6.4026 - val_acc: 0.4986\n",
            "\n",
            "Epoch 00119: val_acc did not improve from 0.64616\n",
            "Epoch 120/300\n",
            "9957/9957 [==============================] - 3s 317us/step - loss: 0.0172 - acc: 0.9942 - val_loss: 4.5690 - val_acc: 0.5907\n",
            "\n",
            "Epoch 00120: val_acc did not improve from 0.64616\n",
            "Epoch 121/300\n",
            "9957/9957 [==============================] - 3s 315us/step - loss: 0.0125 - acc: 0.9956 - val_loss: 10.7767 - val_acc: 0.2943\n",
            "\n",
            "Epoch 00121: val_acc did not improve from 0.64616\n",
            "Epoch 122/300\n",
            "9957/9957 [==============================] - 3s 318us/step - loss: 0.0149 - acc: 0.9946 - val_loss: 11.5936 - val_acc: 0.2654\n",
            "\n",
            "Epoch 00122: val_acc did not improve from 0.64616\n",
            "Epoch 123/300\n",
            "9957/9957 [==============================] - 3s 316us/step - loss: 0.0170 - acc: 0.9950 - val_loss: 4.9665 - val_acc: 0.5537\n",
            "\n",
            "Epoch 00123: val_acc did not improve from 0.64616\n",
            "Epoch 124/300\n",
            "9957/9957 [==============================] - 3s 315us/step - loss: 0.0196 - acc: 0.9943 - val_loss: 7.8339 - val_acc: 0.4507\n",
            "\n",
            "Epoch 00124: val_acc did not improve from 0.64616\n",
            "Epoch 125/300\n",
            "9957/9957 [==============================] - 3s 318us/step - loss: 0.0607 - acc: 0.9804 - val_loss: 10.1892 - val_acc: 0.3072\n",
            "\n",
            "Epoch 00125: val_acc did not improve from 0.64616\n",
            "Epoch 126/300\n",
            "9957/9957 [==============================] - 3s 315us/step - loss: 0.0431 - acc: 0.9863 - val_loss: 10.3814 - val_acc: 0.2738\n",
            "\n",
            "Epoch 00126: val_acc did not improve from 0.64616\n",
            "Epoch 127/300\n",
            "9957/9957 [==============================] - 3s 313us/step - loss: 0.0207 - acc: 0.9934 - val_loss: 11.4253 - val_acc: 0.2541\n",
            "\n",
            "Epoch 00127: val_acc did not improve from 0.64616\n",
            "Epoch 128/300\n",
            "9957/9957 [==============================] - 3s 313us/step - loss: 0.0202 - acc: 0.9934 - val_loss: 7.8638 - val_acc: 0.3904\n",
            "\n",
            "Epoch 00128: val_acc did not improve from 0.64616\n",
            "Epoch 129/300\n",
            "9957/9957 [==============================] - 3s 312us/step - loss: 0.0363 - acc: 0.9880 - val_loss: 11.1841 - val_acc: 0.2851\n",
            "\n",
            "Epoch 00129: val_acc did not improve from 0.64616\n",
            "Epoch 130/300\n",
            "9957/9957 [==============================] - 3s 315us/step - loss: 0.0322 - acc: 0.9906 - val_loss: 4.3564 - val_acc: 0.6055\n",
            "\n",
            "Epoch 00130: val_acc did not improve from 0.64616\n",
            "Epoch 131/300\n",
            "9957/9957 [==============================] - 3s 318us/step - loss: 0.0159 - acc: 0.9939 - val_loss: 6.5291 - val_acc: 0.5360\n",
            "\n",
            "Epoch 00131: val_acc did not improve from 0.64616\n",
            "Epoch 132/300\n",
            "9957/9957 [==============================] - 3s 315us/step - loss: 0.0175 - acc: 0.9946 - val_loss: 10.0467 - val_acc: 0.3193\n",
            "\n",
            "Epoch 00132: val_acc did not improve from 0.64616\n",
            "Epoch 133/300\n",
            "9957/9957 [==============================] - 3s 315us/step - loss: 0.0173 - acc: 0.9947 - val_loss: 6.5232 - val_acc: 0.4761\n",
            "\n",
            "Epoch 00133: val_acc did not improve from 0.64616\n",
            "Epoch 134/300\n",
            "9957/9957 [==============================] - 3s 313us/step - loss: 0.0135 - acc: 0.9962 - val_loss: 7.1943 - val_acc: 0.4077\n",
            "\n",
            "Epoch 00134: val_acc did not improve from 0.64616\n",
            "Epoch 135/300\n",
            "9957/9957 [==============================] - 3s 313us/step - loss: 0.0100 - acc: 0.9966 - val_loss: 6.6457 - val_acc: 0.4700\n",
            "\n",
            "Epoch 00135: val_acc did not improve from 0.64616\n",
            "Epoch 136/300\n",
            "9957/9957 [==============================] - 3s 318us/step - loss: 0.0120 - acc: 0.9963 - val_loss: 7.0317 - val_acc: 0.4198\n",
            "\n",
            "Epoch 00136: val_acc did not improve from 0.64616\n",
            "Epoch 137/300\n",
            "9957/9957 [==============================] - 3s 315us/step - loss: 0.0097 - acc: 0.9970 - val_loss: 5.1602 - val_acc: 0.5674\n",
            "\n",
            "Epoch 00137: val_acc did not improve from 0.64616\n",
            "Epoch 138/300\n",
            "9957/9957 [==============================] - 3s 314us/step - loss: 0.0067 - acc: 0.9983 - val_loss: 4.7162 - val_acc: 0.5464\n",
            "\n",
            "Epoch 00138: val_acc did not improve from 0.64616\n",
            "Epoch 139/300\n",
            "9957/9957 [==============================] - 3s 312us/step - loss: 0.0051 - acc: 0.9985 - val_loss: 7.0606 - val_acc: 0.4314\n",
            "\n",
            "Epoch 00139: val_acc did not improve from 0.64616\n",
            "Epoch 140/300\n",
            "9957/9957 [==============================] - 3s 315us/step - loss: 0.0035 - acc: 0.9992 - val_loss: 2.7727 - val_acc: 0.6216\n",
            "\n",
            "Epoch 00140: val_acc did not improve from 0.64616\n",
            "Epoch 141/300\n",
            "9957/9957 [==============================] - 3s 316us/step - loss: 0.0036 - acc: 0.9993 - val_loss: 4.1624 - val_acc: 0.5078\n",
            "\n",
            "Epoch 00141: val_acc did not improve from 0.64616\n",
            "Epoch 142/300\n",
            "9957/9957 [==============================] - 3s 317us/step - loss: 0.0064 - acc: 0.9980 - val_loss: 6.1528 - val_acc: 0.4427\n",
            "\n",
            "Epoch 00142: val_acc did not improve from 0.64616\n",
            "Epoch 143/300\n",
            "9957/9957 [==============================] - 3s 315us/step - loss: 0.0096 - acc: 0.9970 - val_loss: 11.8738 - val_acc: 0.2541\n",
            "\n",
            "Epoch 00143: val_acc did not improve from 0.64616\n",
            "Epoch 144/300\n",
            "9957/9957 [==============================] - 3s 314us/step - loss: 0.0057 - acc: 0.9982 - val_loss: 7.3639 - val_acc: 0.4885\n",
            "\n",
            "Epoch 00144: val_acc did not improve from 0.64616\n",
            "Epoch 145/300\n",
            "9957/9957 [==============================] - 3s 314us/step - loss: 0.0052 - acc: 0.9985 - val_loss: 2.7401 - val_acc: 0.6337\n",
            "\n",
            "Epoch 00145: val_acc did not improve from 0.64616\n",
            "Epoch 146/300\n",
            "9957/9957 [==============================] - 3s 318us/step - loss: 0.0058 - acc: 0.9981 - val_loss: 5.9866 - val_acc: 0.4966\n",
            "\n",
            "Epoch 00146: val_acc did not improve from 0.64616\n",
            "Epoch 147/300\n",
            "9957/9957 [==============================] - 3s 315us/step - loss: 0.0067 - acc: 0.9981 - val_loss: 8.5727 - val_acc: 0.3442\n",
            "\n",
            "Epoch 00147: val_acc did not improve from 0.64616\n",
            "Epoch 148/300\n",
            "9957/9957 [==============================] - 3s 316us/step - loss: 0.0079 - acc: 0.9978 - val_loss: 11.8245 - val_acc: 0.2525\n",
            "\n",
            "Epoch 00148: val_acc did not improve from 0.64616\n",
            "Epoch 149/300\n",
            "9957/9957 [==============================] - 3s 314us/step - loss: 0.0065 - acc: 0.9975 - val_loss: 6.3229 - val_acc: 0.5179\n",
            "\n",
            "Epoch 00149: val_acc did not improve from 0.64616\n",
            "Epoch 150/300\n",
            "9957/9957 [==============================] - 3s 314us/step - loss: 0.0115 - acc: 0.9970 - val_loss: 7.7795 - val_acc: 0.4785\n",
            "\n",
            "Epoch 00150: val_acc did not improve from 0.64616\n",
            "Epoch 151/300\n",
            "9957/9957 [==============================] - 3s 316us/step - loss: 0.0250 - acc: 0.9921 - val_loss: 7.7703 - val_acc: 0.4499\n",
            "\n",
            "Epoch 00151: val_acc did not improve from 0.64616\n",
            "Epoch 152/300\n",
            "9957/9957 [==============================] - 3s 315us/step - loss: 0.0220 - acc: 0.9936 - val_loss: 11.9938 - val_acc: 0.2525\n",
            "\n",
            "Epoch 00152: val_acc did not improve from 0.64616\n",
            "Epoch 153/300\n",
            "9957/9957 [==============================] - 3s 315us/step - loss: 0.0207 - acc: 0.9928 - val_loss: 9.1469 - val_acc: 0.3860\n",
            "\n",
            "Epoch 00153: val_acc did not improve from 0.64616\n",
            "Epoch 154/300\n",
            "9957/9957 [==============================] - 3s 312us/step - loss: 0.0174 - acc: 0.9946 - val_loss: 11.8811 - val_acc: 0.2549\n",
            "\n",
            "Epoch 00154: val_acc did not improve from 0.64616\n",
            "Epoch 155/300\n",
            "9957/9957 [==============================] - 3s 316us/step - loss: 0.0212 - acc: 0.9944 - val_loss: 11.3865 - val_acc: 0.2638\n",
            "\n",
            "Epoch 00155: val_acc did not improve from 0.64616\n",
            "Epoch 156/300\n",
            "9957/9957 [==============================] - 3s 314us/step - loss: 0.0209 - acc: 0.9932 - val_loss: 11.4650 - val_acc: 0.2638\n",
            "\n",
            "Epoch 00156: val_acc did not improve from 0.64616\n",
            "Epoch 157/300\n",
            "9957/9957 [==============================] - 3s 314us/step - loss: 0.0178 - acc: 0.9948 - val_loss: 10.8752 - val_acc: 0.2678\n",
            "\n",
            "Epoch 00157: val_acc did not improve from 0.64616\n",
            "Epoch 158/300\n",
            "9957/9957 [==============================] - 3s 315us/step - loss: 0.0243 - acc: 0.9934 - val_loss: 10.3166 - val_acc: 0.3229\n",
            "\n",
            "Epoch 00158: val_acc did not improve from 0.64616\n",
            "Epoch 159/300\n",
            "9957/9957 [==============================] - 3s 314us/step - loss: 0.0161 - acc: 0.9941 - val_loss: 10.4554 - val_acc: 0.2726\n",
            "\n",
            "Epoch 00159: val_acc did not improve from 0.64616\n",
            "Epoch 160/300\n",
            "9957/9957 [==============================] - 3s 316us/step - loss: 0.0089 - acc: 0.9967 - val_loss: 8.6001 - val_acc: 0.3953\n",
            "\n",
            "Epoch 00160: val_acc did not improve from 0.64616\n",
            "Epoch 161/300\n",
            "9957/9957 [==============================] - 3s 315us/step - loss: 0.0094 - acc: 0.9972 - val_loss: 8.0546 - val_acc: 0.3788\n",
            "\n",
            "Epoch 00161: val_acc did not improve from 0.64616\n",
            "Epoch 162/300\n",
            "9957/9957 [==============================] - 3s 312us/step - loss: 0.0315 - acc: 0.9908 - val_loss: 10.2510 - val_acc: 0.2778\n",
            "\n",
            "Epoch 00162: val_acc did not improve from 0.64616\n",
            "Epoch 163/300\n",
            "9957/9957 [==============================] - 3s 314us/step - loss: 0.0193 - acc: 0.9937 - val_loss: 6.1905 - val_acc: 0.4958\n",
            "\n",
            "Epoch 00163: val_acc did not improve from 0.64616\n",
            "Epoch 164/300\n",
            "9957/9957 [==============================] - 3s 315us/step - loss: 0.0113 - acc: 0.9964 - val_loss: 5.1759 - val_acc: 0.5569\n",
            "\n",
            "Epoch 00164: val_acc did not improve from 0.64616\n",
            "Epoch 165/300\n",
            "9957/9957 [==============================] - 3s 315us/step - loss: 0.0095 - acc: 0.9969 - val_loss: 3.6386 - val_acc: 0.6265\n",
            "\n",
            "Epoch 00165: val_acc did not improve from 0.64616\n",
            "Epoch 166/300\n",
            "9957/9957 [==============================] - 3s 314us/step - loss: 0.0050 - acc: 0.9986 - val_loss: 5.2260 - val_acc: 0.5372\n",
            "\n",
            "Epoch 00166: val_acc did not improve from 0.64616\n",
            "Epoch 167/300\n",
            "9957/9957 [==============================] - 3s 316us/step - loss: 0.0056 - acc: 0.9985 - val_loss: 7.8814 - val_acc: 0.3518\n",
            "\n",
            "Epoch 00167: val_acc did not improve from 0.64616\n",
            "Epoch 168/300\n",
            "9957/9957 [==============================] - 3s 314us/step - loss: 0.0065 - acc: 0.9972 - val_loss: 8.7742 - val_acc: 0.3329\n",
            "\n",
            "Epoch 00168: val_acc did not improve from 0.64616\n",
            "Epoch 169/300\n",
            "9957/9957 [==============================] - 3s 315us/step - loss: 0.0096 - acc: 0.9973 - val_loss: 8.6965 - val_acc: 0.3470\n",
            "\n",
            "Epoch 00169: val_acc did not improve from 0.64616\n",
            "Epoch 170/300\n",
            "9957/9957 [==============================] - 3s 317us/step - loss: 0.0113 - acc: 0.9967 - val_loss: 4.6748 - val_acc: 0.5613\n",
            "\n",
            "Epoch 00170: val_acc did not improve from 0.64616\n",
            "Epoch 171/300\n",
            "9957/9957 [==============================] - 3s 314us/step - loss: 0.0050 - acc: 0.9983 - val_loss: 11.0102 - val_acc: 0.2750\n",
            "\n",
            "Epoch 00171: val_acc did not improve from 0.64616\n",
            "Epoch 172/300\n",
            "9957/9957 [==============================] - 3s 316us/step - loss: 0.0047 - acc: 0.9989 - val_loss: 7.9458 - val_acc: 0.3840\n",
            "\n",
            "Epoch 00172: val_acc did not improve from 0.64616\n",
            "Epoch 173/300\n",
            "9957/9957 [==============================] - 3s 314us/step - loss: 0.0067 - acc: 0.9985 - val_loss: 4.8617 - val_acc: 0.5649\n",
            "\n",
            "Epoch 00173: val_acc did not improve from 0.64616\n",
            "Epoch 174/300\n",
            "9957/9957 [==============================] - 3s 317us/step - loss: 0.0060 - acc: 0.9987 - val_loss: 6.0268 - val_acc: 0.4696\n",
            "\n",
            "Epoch 00174: val_acc did not improve from 0.64616\n",
            "Epoch 175/300\n",
            "9957/9957 [==============================] - 3s 315us/step - loss: 0.0050 - acc: 0.9983 - val_loss: 4.7330 - val_acc: 0.5432\n",
            "\n",
            "Epoch 00175: val_acc did not improve from 0.64616\n",
            "Epoch 176/300\n",
            "9957/9957 [==============================] - 3s 317us/step - loss: 0.0056 - acc: 0.9986 - val_loss: 4.8298 - val_acc: 0.5464\n",
            "\n",
            "Epoch 00176: val_acc did not improve from 0.64616\n",
            "Epoch 177/300\n",
            "9957/9957 [==============================] - 3s 314us/step - loss: 0.0053 - acc: 0.9984 - val_loss: 3.7359 - val_acc: 0.5955\n",
            "\n",
            "Epoch 00177: val_acc did not improve from 0.64616\n",
            "Epoch 178/300\n",
            "9957/9957 [==============================] - 3s 317us/step - loss: 0.0065 - acc: 0.9981 - val_loss: 4.0727 - val_acc: 0.6341\n",
            "\n",
            "Epoch 00178: val_acc did not improve from 0.64616\n",
            "Epoch 179/300\n",
            "9957/9957 [==============================] - 3s 316us/step - loss: 0.0055 - acc: 0.9983 - val_loss: 4.9384 - val_acc: 0.5702\n",
            "\n",
            "Epoch 00179: val_acc did not improve from 0.64616\n",
            "Epoch 180/300\n",
            "9957/9957 [==============================] - 3s 314us/step - loss: 0.0046 - acc: 0.9986 - val_loss: 4.9464 - val_acc: 0.5283\n",
            "\n",
            "Epoch 00180: val_acc did not improve from 0.64616\n",
            "Epoch 181/300\n",
            "9957/9957 [==============================] - 3s 313us/step - loss: 0.0037 - acc: 0.9988 - val_loss: 6.8153 - val_acc: 0.4282\n",
            "\n",
            "Epoch 00181: val_acc did not improve from 0.64616\n",
            "Epoch 182/300\n",
            "9957/9957 [==============================] - 3s 314us/step - loss: 0.0024 - acc: 0.9993 - val_loss: 4.0643 - val_acc: 0.5850\n",
            "\n",
            "Epoch 00182: val_acc did not improve from 0.64616\n",
            "Epoch 183/300\n",
            "9957/9957 [==============================] - 3s 315us/step - loss: 0.0047 - acc: 0.9989 - val_loss: 7.6755 - val_acc: 0.4495\n",
            "\n",
            "Epoch 00183: val_acc did not improve from 0.64616\n",
            "Epoch 184/300\n",
            "9957/9957 [==============================] - 3s 315us/step - loss: 0.0084 - acc: 0.9974 - val_loss: 8.9091 - val_acc: 0.4246\n",
            "\n",
            "Epoch 00184: val_acc did not improve from 0.64616\n",
            "Epoch 185/300\n",
            "9957/9957 [==============================] - 3s 314us/step - loss: 0.0068 - acc: 0.9980 - val_loss: 6.2681 - val_acc: 0.4314\n",
            "\n",
            "Epoch 00185: val_acc did not improve from 0.64616\n",
            "Epoch 186/300\n",
            "9957/9957 [==============================] - 3s 313us/step - loss: 0.0044 - acc: 0.9988 - val_loss: 10.9137 - val_acc: 0.2726\n",
            "\n",
            "Epoch 00186: val_acc did not improve from 0.64616\n",
            "Epoch 187/300\n",
            "9957/9957 [==============================] - 3s 315us/step - loss: 0.0034 - acc: 0.9986 - val_loss: 10.8263 - val_acc: 0.3024\n",
            "\n",
            "Epoch 00187: val_acc did not improve from 0.64616\n",
            "Epoch 188/300\n",
            "9957/9957 [==============================] - 3s 316us/step - loss: 0.0048 - acc: 0.9983 - val_loss: 4.7062 - val_acc: 0.5649\n",
            "\n",
            "Epoch 00188: val_acc did not improve from 0.64616\n",
            "Epoch 189/300\n",
            "9957/9957 [==============================] - 3s 314us/step - loss: 0.0066 - acc: 0.9985 - val_loss: 9.7160 - val_acc: 0.2758\n",
            "\n",
            "Epoch 00189: val_acc did not improve from 0.64616\n",
            "Epoch 190/300\n",
            "9957/9957 [==============================] - 3s 315us/step - loss: 0.0050 - acc: 0.9982 - val_loss: 3.1475 - val_acc: 0.6566\n",
            "\n",
            "Epoch 00190: val_acc improved from 0.64616 to 0.65661, saving model to weight_tr5.hdf5\n",
            "Epoch 191/300\n",
            "9957/9957 [==============================] - 3s 315us/step - loss: 0.0033 - acc: 0.9995 - val_loss: 9.6099 - val_acc: 0.3253\n",
            "\n",
            "Epoch 00191: val_acc did not improve from 0.65661\n",
            "Epoch 192/300\n",
            "9957/9957 [==============================] - 3s 315us/step - loss: 0.0028 - acc: 0.9996 - val_loss: 3.0230 - val_acc: 0.6458\n",
            "\n",
            "Epoch 00192: val_acc did not improve from 0.65661\n",
            "Epoch 193/300\n",
            "9957/9957 [==============================] - 3s 315us/step - loss: 0.0039 - acc: 0.9990 - val_loss: 8.6880 - val_acc: 0.3916\n",
            "\n",
            "Epoch 00193: val_acc did not improve from 0.65661\n",
            "Epoch 194/300\n",
            "9957/9957 [==============================] - 3s 315us/step - loss: 0.0029 - acc: 0.9994 - val_loss: 4.9241 - val_acc: 0.5637\n",
            "\n",
            "Epoch 00194: val_acc did not improve from 0.65661\n",
            "Epoch 195/300\n",
            "9957/9957 [==============================] - 3s 314us/step - loss: 0.0012 - acc: 0.9999 - val_loss: 5.9575 - val_acc: 0.4873\n",
            "\n",
            "Epoch 00195: val_acc did not improve from 0.65661\n",
            "Epoch 196/300\n",
            "9957/9957 [==============================] - 3s 313us/step - loss: 0.0032 - acc: 0.9987 - val_loss: 4.4654 - val_acc: 0.5911\n",
            "\n",
            "Epoch 00196: val_acc did not improve from 0.65661\n",
            "Epoch 197/300\n",
            "9957/9957 [==============================] - 3s 318us/step - loss: 0.0036 - acc: 0.9990 - val_loss: 6.9140 - val_acc: 0.4572\n",
            "\n",
            "Epoch 00197: val_acc did not improve from 0.65661\n",
            "Epoch 198/300\n",
            "9957/9957 [==============================] - 3s 314us/step - loss: 0.0058 - acc: 0.9979 - val_loss: 7.0869 - val_acc: 0.3788\n",
            "\n",
            "Epoch 00198: val_acc did not improve from 0.65661\n",
            "Epoch 199/300\n",
            "9957/9957 [==============================] - 3s 318us/step - loss: 0.0057 - acc: 0.9984 - val_loss: 6.2647 - val_acc: 0.4930\n",
            "\n",
            "Epoch 00199: val_acc did not improve from 0.65661\n",
            "Epoch 200/300\n",
            "9957/9957 [==============================] - 3s 314us/step - loss: 0.0065 - acc: 0.9983 - val_loss: 5.2957 - val_acc: 0.5738\n",
            "\n",
            "Epoch 00200: val_acc did not improve from 0.65661\n",
            "Epoch 201/300\n",
            "9957/9957 [==============================] - 3s 313us/step - loss: 0.0057 - acc: 0.9979 - val_loss: 6.1835 - val_acc: 0.4833\n",
            "\n",
            "Epoch 00201: val_acc did not improve from 0.65661\n",
            "Epoch 202/300\n",
            "9957/9957 [==============================] - 3s 316us/step - loss: 0.0079 - acc: 0.9973 - val_loss: 8.2568 - val_acc: 0.3989\n",
            "\n",
            "Epoch 00202: val_acc did not improve from 0.65661\n",
            "Epoch 203/300\n",
            "9957/9957 [==============================] - 3s 314us/step - loss: 0.0098 - acc: 0.9976 - val_loss: 11.6151 - val_acc: 0.2702\n",
            "\n",
            "Epoch 00203: val_acc did not improve from 0.65661\n",
            "Epoch 204/300\n",
            "9957/9957 [==============================] - 3s 313us/step - loss: 0.0077 - acc: 0.9974 - val_loss: 5.5615 - val_acc: 0.5561\n",
            "\n",
            "Epoch 00204: val_acc did not improve from 0.65661\n",
            "Epoch 205/300\n",
            "9957/9957 [==============================] - 3s 314us/step - loss: 0.0077 - acc: 0.9980 - val_loss: 4.9326 - val_acc: 0.5396\n",
            "\n",
            "Epoch 00205: val_acc did not improve from 0.65661\n",
            "Epoch 206/300\n",
            "9957/9957 [==============================] - 3s 313us/step - loss: 0.0133 - acc: 0.9951 - val_loss: 5.3642 - val_acc: 0.6068\n",
            "\n",
            "Epoch 00206: val_acc did not improve from 0.65661\n",
            "Epoch 207/300\n",
            "9957/9957 [==============================] - 3s 315us/step - loss: 0.0247 - acc: 0.9930 - val_loss: 5.3423 - val_acc: 0.4785\n",
            "\n",
            "Epoch 00207: val_acc did not improve from 0.65661\n",
            "Epoch 208/300\n",
            "9957/9957 [==============================] - 3s 314us/step - loss: 0.0171 - acc: 0.9954 - val_loss: 11.8591 - val_acc: 0.2589\n",
            "\n",
            "Epoch 00208: val_acc did not improve from 0.65661\n",
            "Epoch 209/300\n",
            "9957/9957 [==============================] - 3s 315us/step - loss: 0.0147 - acc: 0.9948 - val_loss: 8.4378 - val_acc: 0.4528\n",
            "\n",
            "Epoch 00209: val_acc did not improve from 0.65661\n",
            "Epoch 210/300\n",
            "9957/9957 [==============================] - 3s 314us/step - loss: 0.8734 - acc: 0.7297 - val_loss: 12.0999 - val_acc: 0.2493\n",
            "\n",
            "Epoch 00210: val_acc did not improve from 0.65661\n",
            "Epoch 211/300\n",
            "9957/9957 [==============================] - 3s 315us/step - loss: 0.4820 - acc: 0.8344 - val_loss: 12.0999 - val_acc: 0.2493\n",
            "\n",
            "Epoch 00211: val_acc did not improve from 0.65661\n",
            "Epoch 212/300\n",
            "9957/9957 [==============================] - 3s 313us/step - loss: 0.1947 - acc: 0.9330 - val_loss: 12.0999 - val_acc: 0.2493\n",
            "\n",
            "Epoch 00212: val_acc did not improve from 0.65661\n",
            "Epoch 213/300\n",
            "9957/9957 [==============================] - 3s 313us/step - loss: 0.1023 - acc: 0.9621 - val_loss: 12.0910 - val_acc: 0.2497\n",
            "\n",
            "Epoch 00213: val_acc did not improve from 0.65661\n",
            "Epoch 214/300\n",
            "9957/9957 [==============================] - 3s 314us/step - loss: 0.0686 - acc: 0.9762 - val_loss: 9.8740 - val_acc: 0.3450\n",
            "\n",
            "Epoch 00214: val_acc did not improve from 0.65661\n",
            "Epoch 215/300\n",
            "9957/9957 [==============================] - 3s 314us/step - loss: 0.0555 - acc: 0.9815 - val_loss: 10.2392 - val_acc: 0.3164\n",
            "\n",
            "Epoch 00215: val_acc did not improve from 0.65661\n",
            "Epoch 216/300\n",
            "9957/9957 [==============================] - 3s 315us/step - loss: 0.0424 - acc: 0.9855 - val_loss: 9.2285 - val_acc: 0.3410\n",
            "\n",
            "Epoch 00216: val_acc did not improve from 0.65661\n",
            "Epoch 217/300\n",
            "9957/9957 [==============================] - 3s 314us/step - loss: 0.0290 - acc: 0.9898 - val_loss: 10.1049 - val_acc: 0.3201\n",
            "\n",
            "Epoch 00217: val_acc did not improve from 0.65661\n",
            "Epoch 218/300\n",
            "9957/9957 [==============================] - 3s 317us/step - loss: 0.0212 - acc: 0.9925 - val_loss: 9.8944 - val_acc: 0.2766\n",
            "\n",
            "Epoch 00218: val_acc did not improve from 0.65661\n",
            "Epoch 219/300\n",
            "9957/9957 [==============================] - 3s 315us/step - loss: 0.0201 - acc: 0.9934 - val_loss: 9.9756 - val_acc: 0.2746\n",
            "\n",
            "Epoch 00219: val_acc did not improve from 0.65661\n",
            "Epoch 220/300\n",
            "9957/9957 [==============================] - 3s 315us/step - loss: 0.0206 - acc: 0.9948 - val_loss: 5.2880 - val_acc: 0.4672\n",
            "\n",
            "Epoch 00220: val_acc did not improve from 0.65661\n",
            "Epoch 221/300\n",
            "9957/9957 [==============================] - 3s 314us/step - loss: 0.0176 - acc: 0.9945 - val_loss: 5.4929 - val_acc: 0.4604\n",
            "\n",
            "Epoch 00221: val_acc did not improve from 0.65661\n",
            "Epoch 222/300\n",
            "9957/9957 [==============================] - 3s 316us/step - loss: 0.0137 - acc: 0.9966 - val_loss: 6.8777 - val_acc: 0.4210\n",
            "\n",
            "Epoch 00222: val_acc did not improve from 0.65661\n",
            "Epoch 223/300\n",
            "9957/9957 [==============================] - 3s 316us/step - loss: 0.0115 - acc: 0.9961 - val_loss: 4.4016 - val_acc: 0.5726\n",
            "\n",
            "Epoch 00223: val_acc did not improve from 0.65661\n",
            "Epoch 224/300\n",
            "9957/9957 [==============================] - 3s 316us/step - loss: 0.0098 - acc: 0.9971 - val_loss: 3.4787 - val_acc: 0.5686\n",
            "\n",
            "Epoch 00224: val_acc did not improve from 0.65661\n",
            "Epoch 225/300\n",
            "9957/9957 [==============================] - 3s 315us/step - loss: 0.0116 - acc: 0.9963 - val_loss: 8.0057 - val_acc: 0.3607\n",
            "\n",
            "Epoch 00225: val_acc did not improve from 0.65661\n",
            "Epoch 226/300\n",
            "9957/9957 [==============================] - 3s 315us/step - loss: 0.0085 - acc: 0.9970 - val_loss: 4.4366 - val_acc: 0.5617\n",
            "\n",
            "Epoch 00226: val_acc did not improve from 0.65661\n",
            "Epoch 227/300\n",
            "9957/9957 [==============================] - 3s 313us/step - loss: 0.0080 - acc: 0.9976 - val_loss: 4.7688 - val_acc: 0.5082\n",
            "\n",
            "Epoch 00227: val_acc did not improve from 0.65661\n",
            "Epoch 228/300\n",
            "9957/9957 [==============================] - 3s 313us/step - loss: 0.0072 - acc: 0.9979 - val_loss: 6.9675 - val_acc: 0.4214\n",
            "\n",
            "Epoch 00228: val_acc did not improve from 0.65661\n",
            "Epoch 229/300\n",
            "9957/9957 [==============================] - 3s 314us/step - loss: 0.0064 - acc: 0.9980 - val_loss: 2.5017 - val_acc: 0.6136\n",
            "\n",
            "Epoch 00229: val_acc did not improve from 0.65661\n",
            "Epoch 230/300\n",
            "9957/9957 [==============================] - 3s 315us/step - loss: 0.0089 - acc: 0.9968 - val_loss: 6.7544 - val_acc: 0.4741\n",
            "\n",
            "Epoch 00230: val_acc did not improve from 0.65661\n",
            "Epoch 231/300\n",
            "9957/9957 [==============================] - 3s 315us/step - loss: 0.0097 - acc: 0.9972 - val_loss: 5.8352 - val_acc: 0.4359\n",
            "\n",
            "Epoch 00231: val_acc did not improve from 0.65661\n",
            "Epoch 232/300\n",
            "9957/9957 [==============================] - 3s 315us/step - loss: 0.0078 - acc: 0.9973 - val_loss: 7.4368 - val_acc: 0.3225\n",
            "\n",
            "Epoch 00232: val_acc did not improve from 0.65661\n",
            "Epoch 233/300\n",
            "9957/9957 [==============================] - 3s 312us/step - loss: 0.0056 - acc: 0.9984 - val_loss: 8.4989 - val_acc: 0.3317\n",
            "\n",
            "Epoch 00233: val_acc did not improve from 0.65661\n",
            "Epoch 234/300\n",
            "9957/9957 [==============================] - 3s 315us/step - loss: 0.0070 - acc: 0.9985 - val_loss: 4.3526 - val_acc: 0.5565\n",
            "\n",
            "Epoch 00234: val_acc did not improve from 0.65661\n",
            "Epoch 235/300\n",
            "9957/9957 [==============================] - 3s 317us/step - loss: 0.0076 - acc: 0.9974 - val_loss: 4.9329 - val_acc: 0.5099\n",
            "\n",
            "Epoch 00235: val_acc did not improve from 0.65661\n",
            "Epoch 236/300\n",
            "9957/9957 [==============================] - 3s 316us/step - loss: 0.0133 - acc: 0.9964 - val_loss: 7.5296 - val_acc: 0.3209\n",
            "\n",
            "Epoch 00236: val_acc did not improve from 0.65661\n",
            "Epoch 237/300\n",
            "9957/9957 [==============================] - 3s 317us/step - loss: 0.0096 - acc: 0.9968 - val_loss: 8.5534 - val_acc: 0.3177\n",
            "\n",
            "Epoch 00237: val_acc did not improve from 0.65661\n",
            "Epoch 238/300\n",
            "9957/9957 [==============================] - 3s 313us/step - loss: 0.0086 - acc: 0.9976 - val_loss: 4.9960 - val_acc: 0.5267\n",
            "\n",
            "Epoch 00238: val_acc did not improve from 0.65661\n",
            "Epoch 239/300\n",
            "9957/9957 [==============================] - 3s 314us/step - loss: 0.0082 - acc: 0.9977 - val_loss: 7.2124 - val_acc: 0.3422\n",
            "\n",
            "Epoch 00239: val_acc did not improve from 0.65661\n",
            "Epoch 240/300\n",
            "9957/9957 [==============================] - 3s 313us/step - loss: 0.0052 - acc: 0.9985 - val_loss: 4.3822 - val_acc: 0.5645\n",
            "\n",
            "Epoch 00240: val_acc did not improve from 0.65661\n",
            "Epoch 241/300\n",
            "9957/9957 [==============================] - 3s 315us/step - loss: 0.0104 - acc: 0.9965 - val_loss: 3.8262 - val_acc: 0.5384\n",
            "\n",
            "Epoch 00241: val_acc did not improve from 0.65661\n",
            "Epoch 242/300\n",
            "9957/9957 [==============================] - 3s 316us/step - loss: 0.0072 - acc: 0.9986 - val_loss: 4.4927 - val_acc: 0.5147\n",
            "\n",
            "Epoch 00242: val_acc did not improve from 0.65661\n",
            "Epoch 243/300\n",
            "9957/9957 [==============================] - 3s 316us/step - loss: 0.0154 - acc: 0.9962 - val_loss: 9.9075 - val_acc: 0.3261\n",
            "\n",
            "Epoch 00243: val_acc did not improve from 0.65661\n",
            "Epoch 244/300\n",
            "9957/9957 [==============================] - 3s 316us/step - loss: 0.0283 - acc: 0.9916 - val_loss: 5.8321 - val_acc: 0.5203\n",
            "\n",
            "Epoch 00244: val_acc did not improve from 0.65661\n",
            "Epoch 245/300\n",
            "9957/9957 [==============================] - 3s 317us/step - loss: 0.0115 - acc: 0.9964 - val_loss: 4.4126 - val_acc: 0.5436\n",
            "\n",
            "Epoch 00245: val_acc did not improve from 0.65661\n",
            "Epoch 246/300\n",
            "9957/9957 [==============================] - 3s 314us/step - loss: 0.0112 - acc: 0.9967 - val_loss: 10.0860 - val_acc: 0.3060\n",
            "\n",
            "Epoch 00246: val_acc did not improve from 0.65661\n",
            "Epoch 247/300\n",
            "9957/9957 [==============================] - 3s 314us/step - loss: 0.0064 - acc: 0.9977 - val_loss: 5.5706 - val_acc: 0.4922\n",
            "\n",
            "Epoch 00247: val_acc did not improve from 0.65661\n",
            "Epoch 248/300\n",
            "9957/9957 [==============================] - 3s 315us/step - loss: 0.0066 - acc: 0.9980 - val_loss: 6.8721 - val_acc: 0.4101\n",
            "\n",
            "Epoch 00248: val_acc did not improve from 0.65661\n",
            "Epoch 249/300\n",
            "9957/9957 [==============================] - 3s 315us/step - loss: 0.0055 - acc: 0.9984 - val_loss: 7.5640 - val_acc: 0.4069\n",
            "\n",
            "Epoch 00249: val_acc did not improve from 0.65661\n",
            "Epoch 250/300\n",
            "9957/9957 [==============================] - 3s 314us/step - loss: 0.0041 - acc: 0.9988 - val_loss: 3.6811 - val_acc: 0.5842\n",
            "\n",
            "Epoch 00250: val_acc did not improve from 0.65661\n",
            "Epoch 251/300\n",
            "9957/9957 [==============================] - 3s 317us/step - loss: 0.0047 - acc: 0.9987 - val_loss: 7.2419 - val_acc: 0.3583\n",
            "\n",
            "Epoch 00251: val_acc did not improve from 0.65661\n",
            "Epoch 252/300\n",
            "9957/9957 [==============================] - 3s 313us/step - loss: 0.0031 - acc: 0.9992 - val_loss: 6.5372 - val_acc: 0.4407\n",
            "\n",
            "Epoch 00252: val_acc did not improve from 0.65661\n",
            "Epoch 253/300\n",
            "9957/9957 [==============================] - 3s 312us/step - loss: 0.0043 - acc: 0.9984 - val_loss: 4.2158 - val_acc: 0.5661\n",
            "\n",
            "Epoch 00253: val_acc did not improve from 0.65661\n",
            "Epoch 254/300\n",
            "9957/9957 [==============================] - 3s 317us/step - loss: 0.0048 - acc: 0.9986 - val_loss: 5.7373 - val_acc: 0.4906\n",
            "\n",
            "Epoch 00254: val_acc did not improve from 0.65661\n",
            "Epoch 255/300\n",
            "9957/9957 [==============================] - 3s 314us/step - loss: 0.0028 - acc: 0.9994 - val_loss: 5.4568 - val_acc: 0.4781\n",
            "\n",
            "Epoch 00255: val_acc did not improve from 0.65661\n",
            "Epoch 256/300\n",
            "9957/9957 [==============================] - 3s 315us/step - loss: 0.0040 - acc: 0.9985 - val_loss: 3.1818 - val_acc: 0.6140\n",
            "\n",
            "Epoch 00256: val_acc did not improve from 0.65661\n",
            "Epoch 257/300\n",
            "9957/9957 [==============================] - 3s 313us/step - loss: 0.0038 - acc: 0.9990 - val_loss: 3.6702 - val_acc: 0.5955\n",
            "\n",
            "Epoch 00257: val_acc did not improve from 0.65661\n",
            "Epoch 258/300\n",
            "9957/9957 [==============================] - 3s 313us/step - loss: 0.0043 - acc: 0.9987 - val_loss: 4.2112 - val_acc: 0.5645\n",
            "\n",
            "Epoch 00258: val_acc did not improve from 0.65661\n",
            "Epoch 259/300\n",
            "9957/9957 [==============================] - 3s 313us/step - loss: 0.0046 - acc: 0.9990 - val_loss: 4.0032 - val_acc: 0.5947\n",
            "\n",
            "Epoch 00259: val_acc did not improve from 0.65661\n",
            "Epoch 260/300\n",
            "9957/9957 [==============================] - 3s 314us/step - loss: 0.0044 - acc: 0.9984 - val_loss: 5.2399 - val_acc: 0.4624\n",
            "\n",
            "Epoch 00260: val_acc did not improve from 0.65661\n",
            "Epoch 261/300\n",
            "9957/9957 [==============================] - 3s 314us/step - loss: 0.0056 - acc: 0.9982 - val_loss: 8.2038 - val_acc: 0.3591\n",
            "\n",
            "Epoch 00261: val_acc did not improve from 0.65661\n",
            "Epoch 262/300\n",
            "9957/9957 [==============================] - 3s 314us/step - loss: 0.0034 - acc: 0.9989 - val_loss: 3.1571 - val_acc: 0.5895\n",
            "\n",
            "Epoch 00262: val_acc did not improve from 0.65661\n",
            "Epoch 263/300\n",
            "9957/9957 [==============================] - 3s 314us/step - loss: 0.0039 - acc: 0.9990 - val_loss: 5.9163 - val_acc: 0.4930\n",
            "\n",
            "Epoch 00263: val_acc did not improve from 0.65661\n",
            "Epoch 264/300\n",
            "9957/9957 [==============================] - 3s 312us/step - loss: 0.0051 - acc: 0.9985 - val_loss: 4.4222 - val_acc: 0.5344\n",
            "\n",
            "Epoch 00264: val_acc did not improve from 0.65661\n",
            "Epoch 265/300\n",
            "9957/9957 [==============================] - 3s 315us/step - loss: 0.0062 - acc: 0.9984 - val_loss: 7.8674 - val_acc: 0.4053\n",
            "\n",
            "Epoch 00265: val_acc did not improve from 0.65661\n",
            "Epoch 266/300\n",
            "9957/9957 [==============================] - 3s 316us/step - loss: 0.0061 - acc: 0.9984 - val_loss: 5.2561 - val_acc: 0.5702\n",
            "\n",
            "Epoch 00266: val_acc did not improve from 0.65661\n",
            "Epoch 267/300\n",
            "9957/9957 [==============================] - 3s 316us/step - loss: 0.0065 - acc: 0.9978 - val_loss: 6.1263 - val_acc: 0.4926\n",
            "\n",
            "Epoch 00267: val_acc did not improve from 0.65661\n",
            "Epoch 268/300\n",
            "9957/9957 [==============================] - 3s 314us/step - loss: 0.0055 - acc: 0.9984 - val_loss: 6.5331 - val_acc: 0.4198\n",
            "\n",
            "Epoch 00268: val_acc did not improve from 0.65661\n",
            "Epoch 269/300\n",
            "9957/9957 [==============================] - 3s 314us/step - loss: 0.0037 - acc: 0.9987 - val_loss: 4.7973 - val_acc: 0.5400\n",
            "\n",
            "Epoch 00269: val_acc did not improve from 0.65661\n",
            "Epoch 270/300\n",
            "9957/9957 [==============================] - 3s 315us/step - loss: 0.0032 - acc: 0.9987 - val_loss: 4.3082 - val_acc: 0.5207\n",
            "\n",
            "Epoch 00270: val_acc did not improve from 0.65661\n",
            "Epoch 271/300\n",
            "9957/9957 [==============================] - 3s 314us/step - loss: 0.0031 - acc: 0.9987 - val_loss: 4.1538 - val_acc: 0.5340\n",
            "\n",
            "Epoch 00271: val_acc did not improve from 0.65661\n",
            "Epoch 272/300\n",
            "9957/9957 [==============================] - 3s 315us/step - loss: 0.0037 - acc: 0.9990 - val_loss: 6.7062 - val_acc: 0.4037\n",
            "\n",
            "Epoch 00272: val_acc did not improve from 0.65661\n",
            "Epoch 273/300\n",
            "9957/9957 [==============================] - 3s 314us/step - loss: 0.0029 - acc: 0.9993 - val_loss: 8.7634 - val_acc: 0.3289\n",
            "\n",
            "Epoch 00273: val_acc did not improve from 0.65661\n",
            "Epoch 274/300\n",
            "9957/9957 [==============================] - 3s 316us/step - loss: 0.0040 - acc: 0.9984 - val_loss: 9.7891 - val_acc: 0.3273\n",
            "\n",
            "Epoch 00274: val_acc did not improve from 0.65661\n",
            "Epoch 275/300\n",
            "9957/9957 [==============================] - 3s 315us/step - loss: 0.0022 - acc: 0.9994 - val_loss: 3.3985 - val_acc: 0.6168\n",
            "\n",
            "Epoch 00275: val_acc did not improve from 0.65661\n",
            "Epoch 276/300\n",
            "9957/9957 [==============================] - 3s 317us/step - loss: 0.0030 - acc: 0.9987 - val_loss: 4.9663 - val_acc: 0.5111\n",
            "\n",
            "Epoch 00276: val_acc did not improve from 0.65661\n",
            "Epoch 277/300\n",
            "9957/9957 [==============================] - 3s 325us/step - loss: 0.0027 - acc: 0.9991 - val_loss: 5.0726 - val_acc: 0.5143\n",
            "\n",
            "Epoch 00277: val_acc did not improve from 0.65661\n",
            "Epoch 278/300\n",
            "9957/9957 [==============================] - 3s 317us/step - loss: 0.0042 - acc: 0.9988 - val_loss: 9.0838 - val_acc: 0.2959\n",
            "\n",
            "Epoch 00278: val_acc did not improve from 0.65661\n",
            "Epoch 279/300\n",
            "9957/9957 [==============================] - 3s 316us/step - loss: 0.0084 - acc: 0.9973 - val_loss: 8.9930 - val_acc: 0.3977\n",
            "\n",
            "Epoch 00279: val_acc did not improve from 0.65661\n",
            "Epoch 280/300\n",
            "9957/9957 [==============================] - 3s 313us/step - loss: 0.0104 - acc: 0.9968 - val_loss: 6.7349 - val_acc: 0.4540\n",
            "\n",
            "Epoch 00280: val_acc did not improve from 0.65661\n",
            "Epoch 281/300\n",
            "9957/9957 [==============================] - 3s 313us/step - loss: 0.0052 - acc: 0.9980 - val_loss: 8.7959 - val_acc: 0.3321\n",
            "\n",
            "Epoch 00281: val_acc did not improve from 0.65661\n",
            "Epoch 282/300\n",
            "9957/9957 [==============================] - 3s 313us/step - loss: 0.0039 - acc: 0.9992 - val_loss: 6.9143 - val_acc: 0.4692\n",
            "\n",
            "Epoch 00282: val_acc did not improve from 0.65661\n",
            "Epoch 283/300\n",
            "9957/9957 [==============================] - 3s 313us/step - loss: 0.0038 - acc: 0.9993 - val_loss: 6.4425 - val_acc: 0.4399\n",
            "\n",
            "Epoch 00283: val_acc did not improve from 0.65661\n",
            "Epoch 284/300\n",
            "9957/9957 [==============================] - 3s 315us/step - loss: 0.0031 - acc: 0.9991 - val_loss: 6.4398 - val_acc: 0.4584\n",
            "\n",
            "Epoch 00284: val_acc did not improve from 0.65661\n",
            "Epoch 285/300\n",
            "9957/9957 [==============================] - 3s 316us/step - loss: 0.0030 - acc: 0.9990 - val_loss: 3.5710 - val_acc: 0.5887\n",
            "\n",
            "Epoch 00285: val_acc did not improve from 0.65661\n",
            "Epoch 286/300\n",
            "9957/9957 [==============================] - 3s 315us/step - loss: 0.0033 - acc: 0.9989 - val_loss: 6.2157 - val_acc: 0.4777\n",
            "\n",
            "Epoch 00286: val_acc did not improve from 0.65661\n",
            "Epoch 287/300\n",
            "9957/9957 [==============================] - 3s 315us/step - loss: 0.0028 - acc: 0.9993 - val_loss: 9.2788 - val_acc: 0.3768\n",
            "\n",
            "Epoch 00287: val_acc did not improve from 0.65661\n",
            "Epoch 288/300\n",
            "9957/9957 [==============================] - 3s 316us/step - loss: 0.0035 - acc: 0.9991 - val_loss: 5.7939 - val_acc: 0.5090\n",
            "\n",
            "Epoch 00288: val_acc did not improve from 0.65661\n",
            "Epoch 289/300\n",
            "9957/9957 [==============================] - 3s 318us/step - loss: 0.0027 - acc: 0.9990 - val_loss: 3.4502 - val_acc: 0.5903\n",
            "\n",
            "Epoch 00289: val_acc did not improve from 0.65661\n",
            "Epoch 290/300\n",
            "9957/9957 [==============================] - 3s 318us/step - loss: 0.0024 - acc: 0.9994 - val_loss: 4.0557 - val_acc: 0.5931\n",
            "\n",
            "Epoch 00290: val_acc did not improve from 0.65661\n",
            "Epoch 291/300\n",
            "9957/9957 [==============================] - 3s 316us/step - loss: 0.0042 - acc: 0.9991 - val_loss: 4.7512 - val_acc: 0.5384\n",
            "\n",
            "Epoch 00291: val_acc did not improve from 0.65661\n",
            "Epoch 292/300\n",
            "9957/9957 [==============================] - 3s 316us/step - loss: 0.0032 - acc: 0.9991 - val_loss: 5.3467 - val_acc: 0.4889\n",
            "\n",
            "Epoch 00292: val_acc did not improve from 0.65661\n",
            "Epoch 293/300\n",
            "9957/9957 [==============================] - 3s 316us/step - loss: 0.0047 - acc: 0.9985 - val_loss: 9.4324 - val_acc: 0.3563\n",
            "\n",
            "Epoch 00293: val_acc did not improve from 0.65661\n",
            "Epoch 294/300\n",
            "9957/9957 [==============================] - 3s 317us/step - loss: 0.0115 - acc: 0.9965 - val_loss: 7.5737 - val_acc: 0.4250\n",
            "\n",
            "Epoch 00294: val_acc did not improve from 0.65661\n",
            "Epoch 295/300\n",
            "9957/9957 [==============================] - 3s 316us/step - loss: 0.0075 - acc: 0.9979 - val_loss: 6.8377 - val_acc: 0.4455\n",
            "\n",
            "Epoch 00295: val_acc did not improve from 0.65661\n",
            "Epoch 296/300\n",
            "9957/9957 [==============================] - 3s 317us/step - loss: 0.0068 - acc: 0.9984 - val_loss: 5.7993 - val_acc: 0.5042\n",
            "\n",
            "Epoch 00296: val_acc did not improve from 0.65661\n",
            "Epoch 297/300\n",
            "9957/9957 [==============================] - 3s 318us/step - loss: 0.0087 - acc: 0.9971 - val_loss: 8.7081 - val_acc: 0.4033\n",
            "\n",
            "Epoch 00297: val_acc did not improve from 0.65661\n",
            "Epoch 298/300\n",
            "9957/9957 [==============================] - 3s 314us/step - loss: 0.0142 - acc: 0.9954 - val_loss: 12.0797 - val_acc: 0.2505\n",
            "\n",
            "Epoch 00298: val_acc did not improve from 0.65661\n",
            "Epoch 299/300\n",
            "9957/9957 [==============================] - 3s 315us/step - loss: 0.0143 - acc: 0.9953 - val_loss: 12.0805 - val_acc: 0.2505\n",
            "\n",
            "Epoch 00299: val_acc did not improve from 0.65661\n",
            "Epoch 300/300\n",
            "9957/9957 [==============================] - 3s 314us/step - loss: 0.0082 - acc: 0.9971 - val_loss: 6.1513 - val_acc: 0.4749\n",
            "\n",
            "Epoch 00300: val_acc did not improve from 0.65661\n"
          ],
          "name": "stdout"
        }
      ]
    },
    {
      "cell_type": "code",
      "metadata": {
        "id": "bfhrT5xFym6N",
        "colab_type": "code",
        "colab": {
          "base_uri": "https://localhost:8080/",
          "height": 295
        },
        "outputId": "44cf2195-5b42-401a-c43b-8374b2e51079"
      },
      "source": [
        "#print(history.history)\n",
        "acc = history.history['acc']\n",
        "val_acc = history.history['val_acc']\n",
        "loss = history.history['loss']\n",
        "val_loss = history.history['val_loss']\n",
        "\n",
        "epochs = range(1, len(acc) + 1)\n",
        "\n",
        "# \"bo\" is for \"blue dot\"\n",
        "plt.plot(epochs, loss, label='Training loss')\n",
        "# b is for \"solid blue line\"\n",
        "plt.plot(epochs, val_loss, label='Validation loss')\n",
        "plt.title('Training and validation loss')\n",
        "plt.xlabel('Epochs')\n",
        "plt.ylabel('Loss')\n",
        "plt.legend()\n",
        "\n",
        "plt.show()"
      ],
      "execution_count": 14,
      "outputs": [
        {
          "output_type": "display_data",
          "data": {
            "image/png": "[encoded data removed]",
            "text/plain": [
              "<Figure size 432x288 with 1 Axes>"
            ]
          },
          "metadata": {
            "tags": []
          }
        }
      ]
    },
    {
      "cell_type": "code",
      "metadata": {
        "id": "KUtiYwSOyq-P",
        "colab_type": "code",
        "colab": {
          "base_uri": "https://localhost:8080/",
          "height": 295
        },
        "outputId": "07d9e649-e5a8-4a33-88bd-5a1fdc03e02c"
      },
      "source": [
        "#Accuracy Plot\n",
        "history_dict = history.history\n",
        "history_dict.keys()\n",
        "plt.clf()   # clear figure\n",
        "acc_values = history_dict['acc']\n",
        "val_acc_values = history_dict['val_acc']\n",
        "\n",
        "plt.plot(epochs, acc, label='Training accuracy')\n",
        "plt.plot(epochs, val_acc, label='Validation accuracy')\n",
        "plt.title('Training and validation accuracy')\n",
        "plt.xlabel('Epochs')\n",
        "plt.ylabel('Accuracy')\n",
        "plt.legend()\n",
        "\n",
        "plt.show()"
      ],
      "execution_count": 15,
      "outputs": [
        {
          "output_type": "display_data",
          "data": {
            "image/png": "[encoded data removed]",
            "text/plain": [
              "<Figure size 432x288 with 1 Axes>"
            ]
          },
          "metadata": {
            "tags": []
          }
        }
      ]
    },
    {
      "cell_type": "code",
      "metadata": {
        "id": "o88m3eC5yvHK",
        "colab_type": "code",
        "colab": {}
      },
      "source": [
        "model.load_weights(filepath)"
      ],
      "execution_count": 0,
      "outputs": []
    },
    {
      "cell_type": "code",
      "metadata": {
        "id": "hhifTcmRzLX5",
        "colab_type": "code",
        "colab": {}
      },
      "source": [
        "from keras.preprocessing.image import ImageDataGenerator"
      ],
      "execution_count": 0,
      "outputs": []
    },
    {
      "cell_type": "code",
      "metadata": {
        "id": "TKi714zizOQu",
        "colab_type": "code",
        "colab": {}
      },
      "source": [
        "datagentrain = ImageDataGenerator(\n",
        "        rotation_range=60,\n",
        "        width_shift_range=0.2,\n",
        "        height_shift_range=0.2,\n",
        "        rescale=1./255,\n",
        "        shear_range=0.2,\n",
        "        zoom_range=0.2,\n",
        "        horizontal_flip=True,\n",
        "        fill_mode='nearest')\n",
        "datagentrain.fit(X_train)"
      ],
      "execution_count": 0,
      "outputs": []
    },
    {
      "cell_type": "code",
      "metadata": {
        "id": "4qhaokA3zQ2s",
        "colab_type": "code",
        "colab": {
          "base_uri": "https://localhost:8080/",
          "height": 275
        },
        "outputId": "76885ede-8dd1-41d6-a0a8-76111f647759"
      },
      "source": [
        "history = model.fit_generator(datagentrain.flow(X_train, y_trainHot, batch_size=32),\n",
        "                    steps_per_epoch=1024,\n",
        "                    epochs=200,\n",
        "                    workers=4,\n",
        "                    use_multiprocessing=True,validation_data = (X_test,y_testHot),\n",
        "         callbacks = callbacks_list,)"
      ],
      "execution_count": 0,
      "outputs": [
        {
          "output_type": "stream",
          "text": [
            "Epoch 1/200\n",
            "1024/1024 [==============================] - 46s 45ms/step - loss: 1.3990 - acc: 0.2825 - val_loss: 12.0805 - val_acc: 0.2505\n",
            "\n",
            "Epoch 00001: val_acc did not improve from 0.65661\n",
            "Epoch 2/200\n",
            "1024/1024 [==============================] - 46s 44ms/step - loss: 1.3446 - acc: 0.3178 - val_loss: 12.0999 - val_acc: 0.2493\n",
            "\n",
            "Epoch 00002: val_acc did not improve from 0.65661\n",
            "Epoch 3/200\n",
            "1024/1024 [==============================] - 45s 44ms/step - loss: 1.2167 - acc: 0.4106 - val_loss: 12.0999 - val_acc: 0.2493\n",
            "\n",
            "Epoch 00003: val_acc did not improve from 0.65661\n",
            "Epoch 4/200\n",
            " 705/1024 [===================>..........] - ETA: 13s - loss: 1.1605 - acc: 0.4574"
          ],
          "name": "stdout"
        }
      ]
    },
    {
      "cell_type": "code",
      "metadata": {
        "id": "gUfLadqSzVaE",
        "colab_type": "code",
        "colab": {}
      },
      "source": [
        "acc = history.history['accuracy']\n",
        "val_acc = history.history['val_accuracy']\n",
        "loss = history.history['loss']\n",
        "val_loss = history.history['val_loss']\n",
        "\n",
        "epochs = range(1, len(acc) + 1)\n",
        "\n",
        "# \"bo\" is for \"blue dot\"\n",
        "plt.plot(epochs, loss, label='Training loss')\n",
        "# b is for \"solid blue line\"\n",
        "plt.plot(epochs, val_loss, label='Validation loss')\n",
        "plt.title('Training and validation loss')\n",
        "plt.xlabel('Epochs')\n",
        "plt.ylabel('Loss')\n",
        "plt.legend()\n",
        "\n",
        "plt.show()"
      ],
      "execution_count": 0,
      "outputs": []
    },
    {
      "cell_type": "code",
      "metadata": {
        "id": "H7jFPhRyzYqL",
        "colab_type": "code",
        "colab": {}
      },
      "source": [
        "#Accuracy Plot\n",
        "history_dict = history.history\n",
        "history_dict.keys()\n",
        "plt.clf()   # clear figure\n",
        "acc_values = history_dict['acc']\n",
        "val_acc_values = history_dict['val_acc']\n",
        "\n",
        "plt.plot(epochs, acc, label='Training acc')\n",
        "plt.plot(epochs, val_acc, label='Validation acc')\n",
        "plt.title('Training and validation accuracy')\n",
        "plt.xlabel('Epochs')\n",
        "plt.ylabel('Accuracy')\n",
        "plt.legend()\n",
        "\n",
        "plt.show()"
      ],
      "execution_count": 0,
      "outputs": []
    }
  ]
}